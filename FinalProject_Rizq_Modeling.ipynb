{
 "metadata": {
  "language_info": {
   "codemirror_mode": {
    "name": "ipython",
    "version": 3
   },
   "file_extension": ".py",
   "mimetype": "text/x-python",
   "name": "python",
   "nbconvert_exporter": "python",
   "pygments_lexer": "ipython3",
   "version": "3.7.6-final"
  },
  "orig_nbformat": 2,
  "kernelspec": {
   "name": "python3",
   "display_name": "Python 3",
   "language": "python"
  }
 },
 "nbformat": 4,
 "nbformat_minor": 2,
 "cells": [
  {
   "source": [
    "# THE FINAL PROJECT\n",
    "\n",
    ">## Modeling"
   ],
   "cell_type": "markdown",
   "metadata": {}
  },
  {
   "source": [
    "# Import Libraries"
   ],
   "cell_type": "markdown",
   "metadata": {}
  },
  {
   "cell_type": "code",
   "execution_count": 118,
   "metadata": {},
   "outputs": [],
   "source": [
    "# Import Libraries\n",
    "import numpy as np \n",
    "import pandas as pd \n",
    "import seaborn as sns \n",
    "import matplotlib.pyplot as plt \n",
    "\n",
    "# PREPROCESSING\n",
    "# Imputer\n",
    "from sklearn.experimental import enable_iterative_imputer \n",
    "from sklearn.impute import IterativeImputer\n",
    "from sklearn.impute import SimpleImputer, KNNImputer\n",
    "# Transformer/Encoder\n",
    "from sklearn.compose import ColumnTransformer \n",
    "from sklearn.pipeline import Pipeline\n",
    "from sklearn.preprocessing import OneHotEncoder\n",
    "import category_encoders as ce \n",
    "# Scaler\n",
    "from sklearn.preprocessing import StandardScaler, PolynomialFeatures, RobustScaler\n",
    "# Power Transformer\n",
    "from sklearn.preprocessing import PowerTransformer\n",
    "\n",
    "# MODELING\n",
    "# Modeling\n",
    "from sklearn.linear_model import LinearRegression, Lasso, Ridge, ElasticNet\n",
    "from sklearn.neighbors import KNeighborsRegressor\n",
    "from sklearn.svm import SVR\n",
    "from sklearn.tree import DecisionTreeRegressor\n",
    "from sklearn.ensemble import RandomForestRegressor\n",
    "from xgboost.sklearn import XGBRegressor\n",
    "# Metric Evaluation\n",
    "from sklearn.metrics import r2_score, mean_squared_error, mean_absolute_error\n",
    "import warnings\n",
    "warnings.filterwarnings('ignore')\n",
    "\n",
    "# TUNING\n",
    "from sklearn.model_selection import train_test_split, cross_val_score, StratifiedKFold, GridSearchCV, RandomizedSearchCV "
   ]
  },
  {
   "source": [
    "# Load Dataset"
   ],
   "cell_type": "markdown",
   "metadata": {}
  },
  {
   "cell_type": "code",
   "execution_count": 119,
   "metadata": {},
   "outputs": [],
   "source": [
    "pd.options.display.max_columns = 100"
   ]
  },
  {
   "cell_type": "code",
   "execution_count": 120,
   "metadata": {},
   "outputs": [
    {
     "output_type": "execute_result",
     "data": {
      "text/plain": [
       "          ID Gender         DOB  10percentage                       10board  \\\n",
       "0     604399      f  1990-10-22         87.80                          cbse   \n",
       "1     988334      m  1990-05-15         57.00                          cbse   \n",
       "2     301647      m  1989-08-21         77.33  maharashtra state board,pune   \n",
       "3     582313      m  1991-05-04         84.30                          cbse   \n",
       "4     339001      f  1990-10-30         82.00                          cbse   \n",
       "...      ...    ...         ...           ...                           ...   \n",
       "2993  103174      f  1989-04-17         75.00                             0   \n",
       "2994  352811      f  1991-07-22         84.00                   state board   \n",
       "2995  287070      m  1988-11-24         91.40                         bsemp   \n",
       "2996  317336      m  1988-08-25         88.64     karnataka education board   \n",
       "2997  993701      m  1992-05-27         77.00                   state board   \n",
       "\n",
       "      12graduation  12percentage                    12board  CollegeID  \\\n",
       "0             2009         84.00                       cbse       6920   \n",
       "1             2010         64.50                       cbse       6624   \n",
       "2             2007         85.17  amravati divisional board       9084   \n",
       "3             2009         86.00                       cbse       8195   \n",
       "4             2008         75.00                       cbse       4889   \n",
       "...            ...           ...                        ...        ...   \n",
       "2993          2005         73.00                          0       1263   \n",
       "2994          2008         77.00                state board       9481   \n",
       "2995          2006         65.56                      bsemp        547   \n",
       "2996          2006         65.16  karnataka education board       1629   \n",
       "2997          2009         75.50                state board       1111   \n",
       "\n",
       "      CollegeTier       Degree                             Specialization  \\\n",
       "0               1  B.Tech/B.E.    instrumentation and control engineering   \n",
       "1               2  B.Tech/B.E.             computer science & engineering   \n",
       "2               2  B.Tech/B.E.           electronics & telecommunications   \n",
       "3               1  B.Tech/B.E.             computer science & engineering   \n",
       "4               2  B.Tech/B.E.                              biotechnology   \n",
       "...           ...          ...                                        ...   \n",
       "2993            2  B.Tech/B.E.  electronics and communication engineering   \n",
       "2994            2  B.Tech/B.E.                     information technology   \n",
       "2995            2  B.Tech/B.E.                     information technology   \n",
       "2996            2  B.Tech/B.E.                       computer engineering   \n",
       "2997            2  B.Tech/B.E.                     information technology   \n",
       "\n",
       "      collegeGPA  CollegeCityID  CollegeCityTier    CollegeState  \\\n",
       "0          73.82           6920                1           Delhi   \n",
       "1          65.00           6624                0   Uttar Pradesh   \n",
       "2          61.94           9084                0     Maharashtra   \n",
       "3          80.40           8195                1           Delhi   \n",
       "4          64.30           4889                1      Tamil Nadu   \n",
       "...          ...            ...              ...             ...   \n",
       "2993       70.00           1263                1      Tamil Nadu   \n",
       "2994       75.20           9481                0      Tamil Nadu   \n",
       "2995       73.19            547                0  Madhya Pradesh   \n",
       "2996       74.81           1629                1       Karnataka   \n",
       "2997       69.30           1111                0      Tamil Nadu   \n",
       "\n",
       "      GraduationYear  English  Logical  Quant    Domain  ComputerProgramming  \\\n",
       "0               2013      650      665    810  0.694479                  485   \n",
       "1               2014      440      435    210  0.342315                  365   \n",
       "2               2011      485      475    505  0.824666                   -1   \n",
       "3               2013      675      620    635  0.990009                  655   \n",
       "4               2012      575      495    365  0.278457                  315   \n",
       "...              ...      ...      ...    ...       ...                  ...   \n",
       "2993            2010      505      485    445  0.538387                  245   \n",
       "2994            2012      345      585    395  0.190153                  315   \n",
       "2995            2011      385      425    485  0.600057                  435   \n",
       "2996            2011      465      645    505  0.901490                  545   \n",
       "2997            2013      370      390    285  0.486747                  315   \n",
       "\n",
       "      ElectronicsAndSemicon  ComputerScience  MechanicalEngg  ElectricalEngg  \\\n",
       "0                       366               -1              -1              -1   \n",
       "1                        -1               -1              -1              -1   \n",
       "2                       400               -1              -1              -1   \n",
       "3                        -1               -1              -1              -1   \n",
       "4                        -1               -1              -1              -1   \n",
       "...                     ...              ...             ...             ...   \n",
       "2993                    333               -1              -1              -1   \n",
       "2994                     -1               -1              -1              -1   \n",
       "2995                     -1               -1              -1              -1   \n",
       "2996                     -1               -1              -1              -1   \n",
       "2997                     -1              376              -1              -1   \n",
       "\n",
       "      TelecomEngg  CivilEngg  conscientiousness  agreeableness  extraversion  \\\n",
       "0              -1         -1            -0.1590         0.3789        1.2396   \n",
       "1              -1         -1             1.1336         0.0459        1.2396   \n",
       "2             260         -1             0.5100        -0.1232        1.5428   \n",
       "3              -1         -1            -0.4463         0.2124        0.3174   \n",
       "4              -1         -1            -1.4992        -0.7473       -1.0697   \n",
       "...           ...        ...                ...            ...           ...   \n",
       "2993           -1         -1            -1.1901         0.9688       -1.0697   \n",
       "2994           -1         -1            -0.1082         0.0328       -0.4891   \n",
       "2995           -1         -1            -0.8810         0.1888       -0.3440   \n",
       "2996           -1         -1             1.4374         1.2808       -0.4891   \n",
       "2997           -1         -1            -0.5899        -1.9521        0.3174   \n",
       "\n",
       "      nueroticism  openess_to_experience  Salary  \n",
       "0         0.14590                 0.2889  445000  \n",
       "1         0.52620                -0.2859  110000  \n",
       "2        -0.29020                -0.2875  255000  \n",
       "3         0.27270                 0.4805  420000  \n",
       "4         0.06223                 0.1864  200000  \n",
       "...           ...                    ...     ...  \n",
       "2993      1.35490                 0.0284  120000  \n",
       "2994     -0.29020                 0.5024  120000  \n",
       "2995      0.06230                 0.6603  385000  \n",
       "2996     -1.46537                 0.5419  530000  \n",
       "2997      1.16010                -2.3937  200000  \n",
       "\n",
       "[2998 rows x 34 columns]"
      ],
      "text/html": "<div>\n<style scoped>\n    .dataframe tbody tr th:only-of-type {\n        vertical-align: middle;\n    }\n\n    .dataframe tbody tr th {\n        vertical-align: top;\n    }\n\n    .dataframe thead th {\n        text-align: right;\n    }\n</style>\n<table border=\"1\" class=\"dataframe\">\n  <thead>\n    <tr style=\"text-align: right;\">\n      <th></th>\n      <th>ID</th>\n      <th>Gender</th>\n      <th>DOB</th>\n      <th>10percentage</th>\n      <th>10board</th>\n      <th>12graduation</th>\n      <th>12percentage</th>\n      <th>12board</th>\n      <th>CollegeID</th>\n      <th>CollegeTier</th>\n      <th>Degree</th>\n      <th>Specialization</th>\n      <th>collegeGPA</th>\n      <th>CollegeCityID</th>\n      <th>CollegeCityTier</th>\n      <th>CollegeState</th>\n      <th>GraduationYear</th>\n      <th>English</th>\n      <th>Logical</th>\n      <th>Quant</th>\n      <th>Domain</th>\n      <th>ComputerProgramming</th>\n      <th>ElectronicsAndSemicon</th>\n      <th>ComputerScience</th>\n      <th>MechanicalEngg</th>\n      <th>ElectricalEngg</th>\n      <th>TelecomEngg</th>\n      <th>CivilEngg</th>\n      <th>conscientiousness</th>\n      <th>agreeableness</th>\n      <th>extraversion</th>\n      <th>nueroticism</th>\n      <th>openess_to_experience</th>\n      <th>Salary</th>\n    </tr>\n  </thead>\n  <tbody>\n    <tr>\n      <th>0</th>\n      <td>604399</td>\n      <td>f</td>\n      <td>1990-10-22</td>\n      <td>87.80</td>\n      <td>cbse</td>\n      <td>2009</td>\n      <td>84.00</td>\n      <td>cbse</td>\n      <td>6920</td>\n      <td>1</td>\n      <td>B.Tech/B.E.</td>\n      <td>instrumentation and control engineering</td>\n      <td>73.82</td>\n      <td>6920</td>\n      <td>1</td>\n      <td>Delhi</td>\n      <td>2013</td>\n      <td>650</td>\n      <td>665</td>\n      <td>810</td>\n      <td>0.694479</td>\n      <td>485</td>\n      <td>366</td>\n      <td>-1</td>\n      <td>-1</td>\n      <td>-1</td>\n      <td>-1</td>\n      <td>-1</td>\n      <td>-0.1590</td>\n      <td>0.3789</td>\n      <td>1.2396</td>\n      <td>0.14590</td>\n      <td>0.2889</td>\n      <td>445000</td>\n    </tr>\n    <tr>\n      <th>1</th>\n      <td>988334</td>\n      <td>m</td>\n      <td>1990-05-15</td>\n      <td>57.00</td>\n      <td>cbse</td>\n      <td>2010</td>\n      <td>64.50</td>\n      <td>cbse</td>\n      <td>6624</td>\n      <td>2</td>\n      <td>B.Tech/B.E.</td>\n      <td>computer science &amp; engineering</td>\n      <td>65.00</td>\n      <td>6624</td>\n      <td>0</td>\n      <td>Uttar Pradesh</td>\n      <td>2014</td>\n      <td>440</td>\n      <td>435</td>\n      <td>210</td>\n      <td>0.342315</td>\n      <td>365</td>\n      <td>-1</td>\n      <td>-1</td>\n      <td>-1</td>\n      <td>-1</td>\n      <td>-1</td>\n      <td>-1</td>\n      <td>1.1336</td>\n      <td>0.0459</td>\n      <td>1.2396</td>\n      <td>0.52620</td>\n      <td>-0.2859</td>\n      <td>110000</td>\n    </tr>\n    <tr>\n      <th>2</th>\n      <td>301647</td>\n      <td>m</td>\n      <td>1989-08-21</td>\n      <td>77.33</td>\n      <td>maharashtra state board,pune</td>\n      <td>2007</td>\n      <td>85.17</td>\n      <td>amravati divisional board</td>\n      <td>9084</td>\n      <td>2</td>\n      <td>B.Tech/B.E.</td>\n      <td>electronics &amp; telecommunications</td>\n      <td>61.94</td>\n      <td>9084</td>\n      <td>0</td>\n      <td>Maharashtra</td>\n      <td>2011</td>\n      <td>485</td>\n      <td>475</td>\n      <td>505</td>\n      <td>0.824666</td>\n      <td>-1</td>\n      <td>400</td>\n      <td>-1</td>\n      <td>-1</td>\n      <td>-1</td>\n      <td>260</td>\n      <td>-1</td>\n      <td>0.5100</td>\n      <td>-0.1232</td>\n      <td>1.5428</td>\n      <td>-0.29020</td>\n      <td>-0.2875</td>\n      <td>255000</td>\n    </tr>\n    <tr>\n      <th>3</th>\n      <td>582313</td>\n      <td>m</td>\n      <td>1991-05-04</td>\n      <td>84.30</td>\n      <td>cbse</td>\n      <td>2009</td>\n      <td>86.00</td>\n      <td>cbse</td>\n      <td>8195</td>\n      <td>1</td>\n      <td>B.Tech/B.E.</td>\n      <td>computer science &amp; engineering</td>\n      <td>80.40</td>\n      <td>8195</td>\n      <td>1</td>\n      <td>Delhi</td>\n      <td>2013</td>\n      <td>675</td>\n      <td>620</td>\n      <td>635</td>\n      <td>0.990009</td>\n      <td>655</td>\n      <td>-1</td>\n      <td>-1</td>\n      <td>-1</td>\n      <td>-1</td>\n      <td>-1</td>\n      <td>-1</td>\n      <td>-0.4463</td>\n      <td>0.2124</td>\n      <td>0.3174</td>\n      <td>0.27270</td>\n      <td>0.4805</td>\n      <td>420000</td>\n    </tr>\n    <tr>\n      <th>4</th>\n      <td>339001</td>\n      <td>f</td>\n      <td>1990-10-30</td>\n      <td>82.00</td>\n      <td>cbse</td>\n      <td>2008</td>\n      <td>75.00</td>\n      <td>cbse</td>\n      <td>4889</td>\n      <td>2</td>\n      <td>B.Tech/B.E.</td>\n      <td>biotechnology</td>\n      <td>64.30</td>\n      <td>4889</td>\n      <td>1</td>\n      <td>Tamil Nadu</td>\n      <td>2012</td>\n      <td>575</td>\n      <td>495</td>\n      <td>365</td>\n      <td>0.278457</td>\n      <td>315</td>\n      <td>-1</td>\n      <td>-1</td>\n      <td>-1</td>\n      <td>-1</td>\n      <td>-1</td>\n      <td>-1</td>\n      <td>-1.4992</td>\n      <td>-0.7473</td>\n      <td>-1.0697</td>\n      <td>0.06223</td>\n      <td>0.1864</td>\n      <td>200000</td>\n    </tr>\n    <tr>\n      <th>...</th>\n      <td>...</td>\n      <td>...</td>\n      <td>...</td>\n      <td>...</td>\n      <td>...</td>\n      <td>...</td>\n      <td>...</td>\n      <td>...</td>\n      <td>...</td>\n      <td>...</td>\n      <td>...</td>\n      <td>...</td>\n      <td>...</td>\n      <td>...</td>\n      <td>...</td>\n      <td>...</td>\n      <td>...</td>\n      <td>...</td>\n      <td>...</td>\n      <td>...</td>\n      <td>...</td>\n      <td>...</td>\n      <td>...</td>\n      <td>...</td>\n      <td>...</td>\n      <td>...</td>\n      <td>...</td>\n      <td>...</td>\n      <td>...</td>\n      <td>...</td>\n      <td>...</td>\n      <td>...</td>\n      <td>...</td>\n      <td>...</td>\n    </tr>\n    <tr>\n      <th>2993</th>\n      <td>103174</td>\n      <td>f</td>\n      <td>1989-04-17</td>\n      <td>75.00</td>\n      <td>0</td>\n      <td>2005</td>\n      <td>73.00</td>\n      <td>0</td>\n      <td>1263</td>\n      <td>2</td>\n      <td>B.Tech/B.E.</td>\n      <td>electronics and communication engineering</td>\n      <td>70.00</td>\n      <td>1263</td>\n      <td>1</td>\n      <td>Tamil Nadu</td>\n      <td>2010</td>\n      <td>505</td>\n      <td>485</td>\n      <td>445</td>\n      <td>0.538387</td>\n      <td>245</td>\n      <td>333</td>\n      <td>-1</td>\n      <td>-1</td>\n      <td>-1</td>\n      <td>-1</td>\n      <td>-1</td>\n      <td>-1.1901</td>\n      <td>0.9688</td>\n      <td>-1.0697</td>\n      <td>1.35490</td>\n      <td>0.0284</td>\n      <td>120000</td>\n    </tr>\n    <tr>\n      <th>2994</th>\n      <td>352811</td>\n      <td>f</td>\n      <td>1991-07-22</td>\n      <td>84.00</td>\n      <td>state board</td>\n      <td>2008</td>\n      <td>77.00</td>\n      <td>state board</td>\n      <td>9481</td>\n      <td>2</td>\n      <td>B.Tech/B.E.</td>\n      <td>information technology</td>\n      <td>75.20</td>\n      <td>9481</td>\n      <td>0</td>\n      <td>Tamil Nadu</td>\n      <td>2012</td>\n      <td>345</td>\n      <td>585</td>\n      <td>395</td>\n      <td>0.190153</td>\n      <td>315</td>\n      <td>-1</td>\n      <td>-1</td>\n      <td>-1</td>\n      <td>-1</td>\n      <td>-1</td>\n      <td>-1</td>\n      <td>-0.1082</td>\n      <td>0.0328</td>\n      <td>-0.4891</td>\n      <td>-0.29020</td>\n      <td>0.5024</td>\n      <td>120000</td>\n    </tr>\n    <tr>\n      <th>2995</th>\n      <td>287070</td>\n      <td>m</td>\n      <td>1988-11-24</td>\n      <td>91.40</td>\n      <td>bsemp</td>\n      <td>2006</td>\n      <td>65.56</td>\n      <td>bsemp</td>\n      <td>547</td>\n      <td>2</td>\n      <td>B.Tech/B.E.</td>\n      <td>information technology</td>\n      <td>73.19</td>\n      <td>547</td>\n      <td>0</td>\n      <td>Madhya Pradesh</td>\n      <td>2011</td>\n      <td>385</td>\n      <td>425</td>\n      <td>485</td>\n      <td>0.600057</td>\n      <td>435</td>\n      <td>-1</td>\n      <td>-1</td>\n      <td>-1</td>\n      <td>-1</td>\n      <td>-1</td>\n      <td>-1</td>\n      <td>-0.8810</td>\n      <td>0.1888</td>\n      <td>-0.3440</td>\n      <td>0.06230</td>\n      <td>0.6603</td>\n      <td>385000</td>\n    </tr>\n    <tr>\n      <th>2996</th>\n      <td>317336</td>\n      <td>m</td>\n      <td>1988-08-25</td>\n      <td>88.64</td>\n      <td>karnataka education board</td>\n      <td>2006</td>\n      <td>65.16</td>\n      <td>karnataka education board</td>\n      <td>1629</td>\n      <td>2</td>\n      <td>B.Tech/B.E.</td>\n      <td>computer engineering</td>\n      <td>74.81</td>\n      <td>1629</td>\n      <td>1</td>\n      <td>Karnataka</td>\n      <td>2011</td>\n      <td>465</td>\n      <td>645</td>\n      <td>505</td>\n      <td>0.901490</td>\n      <td>545</td>\n      <td>-1</td>\n      <td>-1</td>\n      <td>-1</td>\n      <td>-1</td>\n      <td>-1</td>\n      <td>-1</td>\n      <td>1.4374</td>\n      <td>1.2808</td>\n      <td>-0.4891</td>\n      <td>-1.46537</td>\n      <td>0.5419</td>\n      <td>530000</td>\n    </tr>\n    <tr>\n      <th>2997</th>\n      <td>993701</td>\n      <td>m</td>\n      <td>1992-05-27</td>\n      <td>77.00</td>\n      <td>state board</td>\n      <td>2009</td>\n      <td>75.50</td>\n      <td>state board</td>\n      <td>1111</td>\n      <td>2</td>\n      <td>B.Tech/B.E.</td>\n      <td>information technology</td>\n      <td>69.30</td>\n      <td>1111</td>\n      <td>0</td>\n      <td>Tamil Nadu</td>\n      <td>2013</td>\n      <td>370</td>\n      <td>390</td>\n      <td>285</td>\n      <td>0.486747</td>\n      <td>315</td>\n      <td>-1</td>\n      <td>376</td>\n      <td>-1</td>\n      <td>-1</td>\n      <td>-1</td>\n      <td>-1</td>\n      <td>-0.5899</td>\n      <td>-1.9521</td>\n      <td>0.3174</td>\n      <td>1.16010</td>\n      <td>-2.3937</td>\n      <td>200000</td>\n    </tr>\n  </tbody>\n</table>\n<p>2998 rows × 34 columns</p>\n</div>"
     },
     "metadata": {},
     "execution_count": 120
    }
   ],
   "source": [
    "# Load Dataset\n",
    "df = pd.read_csv('Engineering_graduate_salary.csv')\n",
    "df\n",
    "\n",
    "# 2998 rows × 34 columns"
   ]
  },
  {
   "cell_type": "code",
   "execution_count": 121,
   "metadata": {},
   "outputs": [
    {
     "output_type": "execute_result",
     "data": {
      "text/plain": [
       "       ID Gender         DOB  10percentage                       10board  \\\n",
       "0  604399      f  1990-10-22         87.80                          cbse   \n",
       "1  988334      m  1990-05-15         57.00                          cbse   \n",
       "2  301647      m  1989-08-21         77.33  maharashtra state board,pune   \n",
       "3  582313      m  1991-05-04         84.30                          cbse   \n",
       "4  339001      f  1990-10-30         82.00                          cbse   \n",
       "\n",
       "   12graduation  12percentage                    12board  \n",
       "0          2009         84.00                       cbse  \n",
       "1          2010         64.50                       cbse  \n",
       "2          2007         85.17  amravati divisional board  \n",
       "3          2009         86.00                       cbse  \n",
       "4          2008         75.00                       cbse  "
      ],
      "text/html": "<div>\n<style scoped>\n    .dataframe tbody tr th:only-of-type {\n        vertical-align: middle;\n    }\n\n    .dataframe tbody tr th {\n        vertical-align: top;\n    }\n\n    .dataframe thead th {\n        text-align: right;\n    }\n</style>\n<table border=\"1\" class=\"dataframe\">\n  <thead>\n    <tr style=\"text-align: right;\">\n      <th></th>\n      <th>ID</th>\n      <th>Gender</th>\n      <th>DOB</th>\n      <th>10percentage</th>\n      <th>10board</th>\n      <th>12graduation</th>\n      <th>12percentage</th>\n      <th>12board</th>\n    </tr>\n  </thead>\n  <tbody>\n    <tr>\n      <th>0</th>\n      <td>604399</td>\n      <td>f</td>\n      <td>1990-10-22</td>\n      <td>87.80</td>\n      <td>cbse</td>\n      <td>2009</td>\n      <td>84.00</td>\n      <td>cbse</td>\n    </tr>\n    <tr>\n      <th>1</th>\n      <td>988334</td>\n      <td>m</td>\n      <td>1990-05-15</td>\n      <td>57.00</td>\n      <td>cbse</td>\n      <td>2010</td>\n      <td>64.50</td>\n      <td>cbse</td>\n    </tr>\n    <tr>\n      <th>2</th>\n      <td>301647</td>\n      <td>m</td>\n      <td>1989-08-21</td>\n      <td>77.33</td>\n      <td>maharashtra state board,pune</td>\n      <td>2007</td>\n      <td>85.17</td>\n      <td>amravati divisional board</td>\n    </tr>\n    <tr>\n      <th>3</th>\n      <td>582313</td>\n      <td>m</td>\n      <td>1991-05-04</td>\n      <td>84.30</td>\n      <td>cbse</td>\n      <td>2009</td>\n      <td>86.00</td>\n      <td>cbse</td>\n    </tr>\n    <tr>\n      <th>4</th>\n      <td>339001</td>\n      <td>f</td>\n      <td>1990-10-30</td>\n      <td>82.00</td>\n      <td>cbse</td>\n      <td>2008</td>\n      <td>75.00</td>\n      <td>cbse</td>\n    </tr>\n  </tbody>\n</table>\n</div>"
     },
     "metadata": {},
     "execution_count": 121
    }
   ],
   "source": [
    "df.iloc[:,0:8].head()"
   ]
  },
  {
   "cell_type": "code",
   "execution_count": 122,
   "metadata": {},
   "outputs": [
    {
     "output_type": "execute_result",
     "data": {
      "text/plain": [
       "   CollegeID  CollegeTier       Degree  \\\n",
       "0       6920            1  B.Tech/B.E.   \n",
       "1       6624            2  B.Tech/B.E.   \n",
       "2       9084            2  B.Tech/B.E.   \n",
       "3       8195            1  B.Tech/B.E.   \n",
       "4       4889            2  B.Tech/B.E.   \n",
       "\n",
       "                            Specialization  collegeGPA  CollegeCityID  \\\n",
       "0  instrumentation and control engineering       73.82           6920   \n",
       "1           computer science & engineering       65.00           6624   \n",
       "2         electronics & telecommunications       61.94           9084   \n",
       "3           computer science & engineering       80.40           8195   \n",
       "4                            biotechnology       64.30           4889   \n",
       "\n",
       "   CollegeCityTier   CollegeState  GraduationYear  \n",
       "0                1          Delhi            2013  \n",
       "1                0  Uttar Pradesh            2014  \n",
       "2                0    Maharashtra            2011  \n",
       "3                1          Delhi            2013  \n",
       "4                1     Tamil Nadu            2012  "
      ],
      "text/html": "<div>\n<style scoped>\n    .dataframe tbody tr th:only-of-type {\n        vertical-align: middle;\n    }\n\n    .dataframe tbody tr th {\n        vertical-align: top;\n    }\n\n    .dataframe thead th {\n        text-align: right;\n    }\n</style>\n<table border=\"1\" class=\"dataframe\">\n  <thead>\n    <tr style=\"text-align: right;\">\n      <th></th>\n      <th>CollegeID</th>\n      <th>CollegeTier</th>\n      <th>Degree</th>\n      <th>Specialization</th>\n      <th>collegeGPA</th>\n      <th>CollegeCityID</th>\n      <th>CollegeCityTier</th>\n      <th>CollegeState</th>\n      <th>GraduationYear</th>\n    </tr>\n  </thead>\n  <tbody>\n    <tr>\n      <th>0</th>\n      <td>6920</td>\n      <td>1</td>\n      <td>B.Tech/B.E.</td>\n      <td>instrumentation and control engineering</td>\n      <td>73.82</td>\n      <td>6920</td>\n      <td>1</td>\n      <td>Delhi</td>\n      <td>2013</td>\n    </tr>\n    <tr>\n      <th>1</th>\n      <td>6624</td>\n      <td>2</td>\n      <td>B.Tech/B.E.</td>\n      <td>computer science &amp; engineering</td>\n      <td>65.00</td>\n      <td>6624</td>\n      <td>0</td>\n      <td>Uttar Pradesh</td>\n      <td>2014</td>\n    </tr>\n    <tr>\n      <th>2</th>\n      <td>9084</td>\n      <td>2</td>\n      <td>B.Tech/B.E.</td>\n      <td>electronics &amp; telecommunications</td>\n      <td>61.94</td>\n      <td>9084</td>\n      <td>0</td>\n      <td>Maharashtra</td>\n      <td>2011</td>\n    </tr>\n    <tr>\n      <th>3</th>\n      <td>8195</td>\n      <td>1</td>\n      <td>B.Tech/B.E.</td>\n      <td>computer science &amp; engineering</td>\n      <td>80.40</td>\n      <td>8195</td>\n      <td>1</td>\n      <td>Delhi</td>\n      <td>2013</td>\n    </tr>\n    <tr>\n      <th>4</th>\n      <td>4889</td>\n      <td>2</td>\n      <td>B.Tech/B.E.</td>\n      <td>biotechnology</td>\n      <td>64.30</td>\n      <td>4889</td>\n      <td>1</td>\n      <td>Tamil Nadu</td>\n      <td>2012</td>\n    </tr>\n  </tbody>\n</table>\n</div>"
     },
     "metadata": {},
     "execution_count": 122
    }
   ],
   "source": [
    "df.iloc[:,8:17].head()"
   ]
  },
  {
   "cell_type": "code",
   "execution_count": 123,
   "metadata": {},
   "outputs": [
    {
     "output_type": "execute_result",
     "data": {
      "text/plain": [
       "   English  Logical  Quant    Domain  ComputerProgramming  \\\n",
       "0      650      665    810  0.694479                  485   \n",
       "1      440      435    210  0.342315                  365   \n",
       "2      485      475    505  0.824666                   -1   \n",
       "3      675      620    635  0.990009                  655   \n",
       "4      575      495    365  0.278457                  315   \n",
       "\n",
       "   ElectronicsAndSemicon  ComputerScience  MechanicalEngg  ElectricalEngg  \\\n",
       "0                    366               -1              -1              -1   \n",
       "1                     -1               -1              -1              -1   \n",
       "2                    400               -1              -1              -1   \n",
       "3                     -1               -1              -1              -1   \n",
       "4                     -1               -1              -1              -1   \n",
       "\n",
       "   TelecomEngg  CivilEngg  \n",
       "0           -1         -1  \n",
       "1           -1         -1  \n",
       "2          260         -1  \n",
       "3           -1         -1  \n",
       "4           -1         -1  "
      ],
      "text/html": "<div>\n<style scoped>\n    .dataframe tbody tr th:only-of-type {\n        vertical-align: middle;\n    }\n\n    .dataframe tbody tr th {\n        vertical-align: top;\n    }\n\n    .dataframe thead th {\n        text-align: right;\n    }\n</style>\n<table border=\"1\" class=\"dataframe\">\n  <thead>\n    <tr style=\"text-align: right;\">\n      <th></th>\n      <th>English</th>\n      <th>Logical</th>\n      <th>Quant</th>\n      <th>Domain</th>\n      <th>ComputerProgramming</th>\n      <th>ElectronicsAndSemicon</th>\n      <th>ComputerScience</th>\n      <th>MechanicalEngg</th>\n      <th>ElectricalEngg</th>\n      <th>TelecomEngg</th>\n      <th>CivilEngg</th>\n    </tr>\n  </thead>\n  <tbody>\n    <tr>\n      <th>0</th>\n      <td>650</td>\n      <td>665</td>\n      <td>810</td>\n      <td>0.694479</td>\n      <td>485</td>\n      <td>366</td>\n      <td>-1</td>\n      <td>-1</td>\n      <td>-1</td>\n      <td>-1</td>\n      <td>-1</td>\n    </tr>\n    <tr>\n      <th>1</th>\n      <td>440</td>\n      <td>435</td>\n      <td>210</td>\n      <td>0.342315</td>\n      <td>365</td>\n      <td>-1</td>\n      <td>-1</td>\n      <td>-1</td>\n      <td>-1</td>\n      <td>-1</td>\n      <td>-1</td>\n    </tr>\n    <tr>\n      <th>2</th>\n      <td>485</td>\n      <td>475</td>\n      <td>505</td>\n      <td>0.824666</td>\n      <td>-1</td>\n      <td>400</td>\n      <td>-1</td>\n      <td>-1</td>\n      <td>-1</td>\n      <td>260</td>\n      <td>-1</td>\n    </tr>\n    <tr>\n      <th>3</th>\n      <td>675</td>\n      <td>620</td>\n      <td>635</td>\n      <td>0.990009</td>\n      <td>655</td>\n      <td>-1</td>\n      <td>-1</td>\n      <td>-1</td>\n      <td>-1</td>\n      <td>-1</td>\n      <td>-1</td>\n    </tr>\n    <tr>\n      <th>4</th>\n      <td>575</td>\n      <td>495</td>\n      <td>365</td>\n      <td>0.278457</td>\n      <td>315</td>\n      <td>-1</td>\n      <td>-1</td>\n      <td>-1</td>\n      <td>-1</td>\n      <td>-1</td>\n      <td>-1</td>\n    </tr>\n  </tbody>\n</table>\n</div>"
     },
     "metadata": {},
     "execution_count": 123
    }
   ],
   "source": [
    "df.iloc[:,17:28].head()"
   ]
  },
  {
   "cell_type": "code",
   "execution_count": 124,
   "metadata": {},
   "outputs": [
    {
     "output_type": "stream",
     "name": "stdout",
     "text": [
      "<class 'pandas.core.frame.DataFrame'>\nRangeIndex: 2998 entries, 0 to 2997\nData columns (total 34 columns):\n #   Column                 Non-Null Count  Dtype  \n---  ------                 --------------  -----  \n 0   ID                     2998 non-null   int64  \n 1   Gender                 2998 non-null   object \n 2   DOB                    2998 non-null   object \n 3   10percentage           2998 non-null   float64\n 4   10board                2998 non-null   object \n 5   12graduation           2998 non-null   int64  \n 6   12percentage           2998 non-null   float64\n 7   12board                2998 non-null   object \n 8   CollegeID              2998 non-null   int64  \n 9   CollegeTier            2998 non-null   int64  \n 10  Degree                 2998 non-null   object \n 11  Specialization         2998 non-null   object \n 12  collegeGPA             2998 non-null   float64\n 13  CollegeCityID          2998 non-null   int64  \n 14  CollegeCityTier        2998 non-null   int64  \n 15  CollegeState           2998 non-null   object \n 16  GraduationYear         2998 non-null   int64  \n 17  English                2998 non-null   int64  \n 18  Logical                2998 non-null   int64  \n 19  Quant                  2998 non-null   int64  \n 20  Domain                 2998 non-null   float64\n 21  ComputerProgramming    2998 non-null   int64  \n 22  ElectronicsAndSemicon  2998 non-null   int64  \n 23  ComputerScience        2998 non-null   int64  \n 24  MechanicalEngg         2998 non-null   int64  \n 25  ElectricalEngg         2998 non-null   int64  \n 26  TelecomEngg            2998 non-null   int64  \n 27  CivilEngg              2998 non-null   int64  \n 28  conscientiousness      2998 non-null   float64\n 29  agreeableness          2998 non-null   float64\n 30  extraversion           2998 non-null   float64\n 31  nueroticism            2998 non-null   float64\n 32  openess_to_experience  2998 non-null   float64\n 33  Salary                 2998 non-null   int64  \ndtypes: float64(9), int64(18), object(7)\nmemory usage: 796.5+ KB\n"
     ]
    }
   ],
   "source": [
    "df.info()"
   ]
  },
  {
   "source": [
    "# 1. Pre-Processing"
   ],
   "cell_type": "markdown",
   "metadata": {}
  },
  {
   "source": [
    "Drop\n",
    ">- ID \n",
    ">- CollegeID (seharusnya tidak ordinal, dan sudah diwakilkan CollegeTier)\n",
    ">- CollegeCityID (seharusnya tidak ordinal, dan sudah diwakilkan CollegeCityTier)\n",
    "\n",
    "\n",
    "Outliers\n",
    ">- graduation year (0): 1 row\n",
    ">- sum() skill (0): 94 rows, tidak mengisi hardskill apapun\n",
    ">- berdasarkan EDA, Graduates dengan gaji > 1 juta rupee (25 rows)\n",
    "\n",
    "Ubah Value\n",
    ">- DOB: split lalu ambil tahunnya saja\n",
    "\n",
    "Missing Value\n",
    ">- 10board ('0'): 256\n",
    ">- 12board ('0'): 264\n",
    ">- GraduationYear (0):1, median\n",
    ">- Domain (-1): 179\n",
    ">- ComputerProgramming (-1): 650\n",
    ">- ElectronicsAndSemicon (-1): 2133\n",
    ">- ComputerScience (-1): 2298\n",
    ">- MechanicalEngg (-1): 2811\n",
    ">- ElectricalEngg (-1): 2876\n",
    ">- TelecomEngg (-1): 2744\n",
    ">- CivilEngg (-1): 2972\n",
    "\n",
    "Encoding\n",
    ">- Gender: onehot\n",
    ">- 10board: onehot/binary\n",
    ">- 12board: onehot/binary\n",
    ">- Degree: onehot\n",
    ">- Specialization: onehot/binary\n",
    ">- CollegeState: onehot/binary\n"
   ],
   "cell_type": "markdown",
   "metadata": {}
  },
  {
   "source": [
    "## Load Dataset"
   ],
   "cell_type": "markdown",
   "metadata": {}
  },
  {
   "cell_type": "code",
   "execution_count": 125,
   "metadata": {},
   "outputs": [
    {
     "output_type": "execute_result",
     "data": {
      "text/plain": [
       "(2998, 34)"
      ]
     },
     "metadata": {},
     "execution_count": 125
    }
   ],
   "source": [
    "# Load Dataset\n",
    "df = pd.read_csv('Engineering_graduate_salary.csv')\n",
    "df.shape"
   ]
  },
  {
   "source": [
    "## Handling Missing Value"
   ],
   "cell_type": "markdown",
   "metadata": {}
  },
  {
   "cell_type": "code",
   "execution_count": 126,
   "metadata": {},
   "outputs": [],
   "source": [
    "# Handling Missing Value \n",
    "\n",
    "df[['10board','12board']] = df[['10board','12board']].replace('0', np.NaN)\n",
    "\n",
    "df[['GraduationYear']] = df[['GraduationYear']].replace(0, np.NaN)\n",
    "\n",
    "df[['Domain','ComputerProgramming','ElectronicsAndSemicon','ComputerScience','MechanicalEngg','ElectricalEngg','TelecomEngg','CivilEngg']] = df[['Domain','ComputerProgramming','ElectronicsAndSemicon','ComputerScience','MechanicalEngg','ElectricalEngg','TelecomEngg','CivilEngg']].replace(-1, 0)"
   ]
  },
  {
   "source": [
    "## Drop Rows & Columns"
   ],
   "cell_type": "markdown",
   "metadata": {}
  },
  {
   "cell_type": "code",
   "execution_count": 127,
   "metadata": {},
   "outputs": [
    {
     "output_type": "execute_result",
     "data": {
      "text/plain": [
       "(2998, 35)"
      ]
     },
     "metadata": {},
     "execution_count": 127
    }
   ],
   "source": [
    "# Drop Rows (outliers)\n",
    "\n",
    "sum_skills = df[['ComputerProgramming','ElectronicsAndSemicon','ComputerScience','MechanicalEngg','ElectricalEngg','TelecomEngg','CivilEngg']].sum(axis=1)\n",
    "\n",
    "df['sum_skills'] = sum_skills\n",
    "df.shape"
   ]
  },
  {
   "cell_type": "code",
   "execution_count": 128,
   "metadata": {},
   "outputs": [
    {
     "output_type": "execute_result",
     "data": {
      "text/plain": [
       "(2997, 35)"
      ]
     },
     "metadata": {},
     "execution_count": 128
    }
   ],
   "source": [
    "gradyear_outliers = df.loc[df['GraduationYear'].isna() == True] # drop Graduation Year outlier\n",
    "\n",
    "df = df.drop(gradyear_outliers.index)\n",
    "df.shape"
   ]
  },
  {
   "cell_type": "code",
   "execution_count": 129,
   "metadata": {},
   "outputs": [
    {
     "output_type": "execute_result",
     "data": {
      "text/plain": [
       "(2972, 35)"
      ]
     },
     "metadata": {},
     "execution_count": 129
    }
   ],
   "source": [
    "salary_outliers = df.loc[df['Salary']>1000000] # drop Graduates dengan gaji > 1juta\n",
    "\n",
    "df = df.drop(salary_outliers.index)\n",
    "df.shape"
   ]
  },
  {
   "cell_type": "code",
   "execution_count": 130,
   "metadata": {},
   "outputs": [
    {
     "output_type": "execute_result",
     "data": {
      "text/plain": [
       "(2878, 35)"
      ]
     },
     "metadata": {},
     "execution_count": 130
    }
   ],
   "source": [
    "skills_outliers = df.loc[df['sum_skills']==0] # drop yg Tidak mengisi skill apapun\n",
    "\n",
    "df = df.drop(skills_outliers.index)\n",
    "df.shape"
   ]
  },
  {
   "cell_type": "code",
   "execution_count": 131,
   "metadata": {},
   "outputs": [
    {
     "output_type": "execute_result",
     "data": {
      "text/plain": [
       "ID                         0\n",
       "Gender                     0\n",
       "DOB                        0\n",
       "10percentage               0\n",
       "10board                  244\n",
       "12graduation               0\n",
       "12percentage               0\n",
       "12board                  252\n",
       "CollegeID                  0\n",
       "CollegeTier                0\n",
       "Degree                     0\n",
       "Specialization             0\n",
       "collegeGPA                 0\n",
       "CollegeCityID              0\n",
       "CollegeCityTier            0\n",
       "CollegeState               0\n",
       "GraduationYear             0\n",
       "English                    0\n",
       "Logical                    0\n",
       "Quant                      0\n",
       "Domain                     0\n",
       "ComputerProgramming        0\n",
       "ElectronicsAndSemicon      0\n",
       "ComputerScience            0\n",
       "MechanicalEngg             0\n",
       "ElectricalEngg             0\n",
       "TelecomEngg                0\n",
       "CivilEngg                  0\n",
       "conscientiousness          0\n",
       "agreeableness              0\n",
       "extraversion               0\n",
       "nueroticism                0\n",
       "openess_to_experience      0\n",
       "Salary                     0\n",
       "sum_skills                 0\n",
       "dtype: int64"
      ]
     },
     "metadata": {},
     "execution_count": 131
    }
   ],
   "source": [
    "df.isna().sum()"
   ]
  },
  {
   "cell_type": "code",
   "execution_count": 132,
   "metadata": {},
   "outputs": [
    {
     "output_type": "execute_result",
     "data": {
      "text/plain": [
       "(2878, 31)"
      ]
     },
     "metadata": {},
     "execution_count": 132
    }
   ],
   "source": [
    "# Drop Columns\n",
    "df = df.drop(columns=['ID','sum_skills','CollegeID','CollegeCityID'])\n",
    "df.shape"
   ]
  },
  {
   "source": [
    "## Modify Value of Columns"
   ],
   "cell_type": "markdown",
   "metadata": {}
  },
  {
   "cell_type": "code",
   "execution_count": 133,
   "metadata": {},
   "outputs": [
    {
     "output_type": "execute_result",
     "data": {
      "text/plain": [
       "  Gender   DOB  10percentage                       10board  12graduation  \\\n",
       "0      f  1990         87.80                          cbse          2009   \n",
       "1      m  1990         57.00                          cbse          2010   \n",
       "2      m  1989         77.33  maharashtra state board,pune          2007   \n",
       "\n",
       "   12percentage                    12board  CollegeTier       Degree  \\\n",
       "0         84.00                       cbse            1  B.Tech/B.E.   \n",
       "1         64.50                       cbse            2  B.Tech/B.E.   \n",
       "2         85.17  amravati divisional board            2  B.Tech/B.E.   \n",
       "\n",
       "                            Specialization  collegeGPA  CollegeCityTier  \\\n",
       "0  instrumentation and control engineering       73.82                1   \n",
       "1           computer science & engineering       65.00                0   \n",
       "2         electronics & telecommunications       61.94                0   \n",
       "\n",
       "    CollegeState  GraduationYear  English  Logical  Quant    Domain  \\\n",
       "0          Delhi          2013.0      650      665    810  0.694479   \n",
       "1  Uttar Pradesh          2014.0      440      435    210  0.342315   \n",
       "2    Maharashtra          2011.0      485      475    505  0.824666   \n",
       "\n",
       "   ComputerProgramming  ElectronicsAndSemicon  ComputerScience  \\\n",
       "0                  485                    366                0   \n",
       "1                  365                      0                0   \n",
       "2                    0                    400                0   \n",
       "\n",
       "   MechanicalEngg  ElectricalEngg  TelecomEngg  CivilEngg  conscientiousness  \\\n",
       "0               0               0            0          0            -0.1590   \n",
       "1               0               0            0          0             1.1336   \n",
       "2               0               0          260          0             0.5100   \n",
       "\n",
       "   agreeableness  extraversion  nueroticism  openess_to_experience  Salary  \n",
       "0         0.3789        1.2396       0.1459                 0.2889  445000  \n",
       "1         0.0459        1.2396       0.5262                -0.2859  110000  \n",
       "2        -0.1232        1.5428      -0.2902                -0.2875  255000  "
      ],
      "text/html": "<div>\n<style scoped>\n    .dataframe tbody tr th:only-of-type {\n        vertical-align: middle;\n    }\n\n    .dataframe tbody tr th {\n        vertical-align: top;\n    }\n\n    .dataframe thead th {\n        text-align: right;\n    }\n</style>\n<table border=\"1\" class=\"dataframe\">\n  <thead>\n    <tr style=\"text-align: right;\">\n      <th></th>\n      <th>Gender</th>\n      <th>DOB</th>\n      <th>10percentage</th>\n      <th>10board</th>\n      <th>12graduation</th>\n      <th>12percentage</th>\n      <th>12board</th>\n      <th>CollegeTier</th>\n      <th>Degree</th>\n      <th>Specialization</th>\n      <th>collegeGPA</th>\n      <th>CollegeCityTier</th>\n      <th>CollegeState</th>\n      <th>GraduationYear</th>\n      <th>English</th>\n      <th>Logical</th>\n      <th>Quant</th>\n      <th>Domain</th>\n      <th>ComputerProgramming</th>\n      <th>ElectronicsAndSemicon</th>\n      <th>ComputerScience</th>\n      <th>MechanicalEngg</th>\n      <th>ElectricalEngg</th>\n      <th>TelecomEngg</th>\n      <th>CivilEngg</th>\n      <th>conscientiousness</th>\n      <th>agreeableness</th>\n      <th>extraversion</th>\n      <th>nueroticism</th>\n      <th>openess_to_experience</th>\n      <th>Salary</th>\n    </tr>\n  </thead>\n  <tbody>\n    <tr>\n      <th>0</th>\n      <td>f</td>\n      <td>1990</td>\n      <td>87.80</td>\n      <td>cbse</td>\n      <td>2009</td>\n      <td>84.00</td>\n      <td>cbse</td>\n      <td>1</td>\n      <td>B.Tech/B.E.</td>\n      <td>instrumentation and control engineering</td>\n      <td>73.82</td>\n      <td>1</td>\n      <td>Delhi</td>\n      <td>2013.0</td>\n      <td>650</td>\n      <td>665</td>\n      <td>810</td>\n      <td>0.694479</td>\n      <td>485</td>\n      <td>366</td>\n      <td>0</td>\n      <td>0</td>\n      <td>0</td>\n      <td>0</td>\n      <td>0</td>\n      <td>-0.1590</td>\n      <td>0.3789</td>\n      <td>1.2396</td>\n      <td>0.1459</td>\n      <td>0.2889</td>\n      <td>445000</td>\n    </tr>\n    <tr>\n      <th>1</th>\n      <td>m</td>\n      <td>1990</td>\n      <td>57.00</td>\n      <td>cbse</td>\n      <td>2010</td>\n      <td>64.50</td>\n      <td>cbse</td>\n      <td>2</td>\n      <td>B.Tech/B.E.</td>\n      <td>computer science &amp; engineering</td>\n      <td>65.00</td>\n      <td>0</td>\n      <td>Uttar Pradesh</td>\n      <td>2014.0</td>\n      <td>440</td>\n      <td>435</td>\n      <td>210</td>\n      <td>0.342315</td>\n      <td>365</td>\n      <td>0</td>\n      <td>0</td>\n      <td>0</td>\n      <td>0</td>\n      <td>0</td>\n      <td>0</td>\n      <td>1.1336</td>\n      <td>0.0459</td>\n      <td>1.2396</td>\n      <td>0.5262</td>\n      <td>-0.2859</td>\n      <td>110000</td>\n    </tr>\n    <tr>\n      <th>2</th>\n      <td>m</td>\n      <td>1989</td>\n      <td>77.33</td>\n      <td>maharashtra state board,pune</td>\n      <td>2007</td>\n      <td>85.17</td>\n      <td>amravati divisional board</td>\n      <td>2</td>\n      <td>B.Tech/B.E.</td>\n      <td>electronics &amp; telecommunications</td>\n      <td>61.94</td>\n      <td>0</td>\n      <td>Maharashtra</td>\n      <td>2011.0</td>\n      <td>485</td>\n      <td>475</td>\n      <td>505</td>\n      <td>0.824666</td>\n      <td>0</td>\n      <td>400</td>\n      <td>0</td>\n      <td>0</td>\n      <td>0</td>\n      <td>260</td>\n      <td>0</td>\n      <td>0.5100</td>\n      <td>-0.1232</td>\n      <td>1.5428</td>\n      <td>-0.2902</td>\n      <td>-0.2875</td>\n      <td>255000</td>\n    </tr>\n  </tbody>\n</table>\n</div>"
     },
     "metadata": {},
     "execution_count": 133
    }
   ],
   "source": [
    "# Ubah DOB\n",
    "df['DOB'] = [int(i.split('-')[0]) for i in df['DOB']]\n",
    "df.head(3)"
   ]
  },
  {
   "cell_type": "code",
   "execution_count": 134,
   "metadata": {},
   "outputs": [
    {
     "output_type": "execute_result",
     "data": {
      "text/plain": [
       "0    1\n",
       "1    2\n",
       "2    2\n",
       "3    1\n",
       "4    2\n",
       "Name: CollegeTier, dtype: int64"
      ]
     },
     "metadata": {},
     "execution_count": 134
    }
   ],
   "source": [
    "df['CollegeTier'].head()"
   ]
  },
  {
   "cell_type": "code",
   "execution_count": 73,
   "metadata": {},
   "outputs": [],
   "source": []
  },
  {
   "cell_type": "code",
   "execution_count": 135,
   "metadata": {},
   "outputs": [
    {
     "output_type": "execute_result",
     "data": {
      "text/plain": [
       "  Gender   DOB  10percentage                       10board  12graduation  \\\n",
       "0      f  1990         87.80                          cbse          2009   \n",
       "1      m  1990         57.00                          cbse          2010   \n",
       "2      m  1989         77.33  maharashtra state board,pune          2007   \n",
       "3      m  1991         84.30                          cbse          2009   \n",
       "4      f  1990         82.00                          cbse          2008   \n",
       "\n",
       "   12percentage                    12board  CollegeTier       Degree  \\\n",
       "0         84.00                       cbse            1  B.Tech/B.E.   \n",
       "1         64.50                       cbse            2  B.Tech/B.E.   \n",
       "2         85.17  amravati divisional board            2  B.Tech/B.E.   \n",
       "3         86.00                       cbse            1  B.Tech/B.E.   \n",
       "4         75.00                       cbse            2  B.Tech/B.E.   \n",
       "\n",
       "                            Specialization  collegeGPA  CollegeCityTier  \\\n",
       "0  instrumentation and control engineering       73.82                1   \n",
       "1           computer science & engineering       65.00                0   \n",
       "2         electronics & telecommunications       61.94                0   \n",
       "3           computer science & engineering       80.40                1   \n",
       "4                            biotechnology       64.30                1   \n",
       "\n",
       "    CollegeState  GraduationYear  English  Logical  Quant    Domain  \\\n",
       "0          Delhi          2013.0      650      665    810  0.694479   \n",
       "1  Uttar Pradesh          2014.0      440      435    210  0.342315   \n",
       "2    Maharashtra          2011.0      485      475    505  0.824666   \n",
       "3          Delhi          2013.0      675      620    635  0.990009   \n",
       "4     Tamil Nadu          2012.0      575      495    365  0.278457   \n",
       "\n",
       "   ComputerProgramming  ElectronicsAndSemicon  ComputerScience  \\\n",
       "0                  485                    366                0   \n",
       "1                  365                      0                0   \n",
       "2                    0                    400                0   \n",
       "3                  655                      0                0   \n",
       "4                  315                      0                0   \n",
       "\n",
       "   MechanicalEngg  ElectricalEngg  TelecomEngg  CivilEngg  conscientiousness  \\\n",
       "0               0               0            0          0            -0.1590   \n",
       "1               0               0            0          0             1.1336   \n",
       "2               0               0          260          0             0.5100   \n",
       "3               0               0            0          0            -0.4463   \n",
       "4               0               0            0          0            -1.4992   \n",
       "\n",
       "   agreeableness  extraversion  nueroticism  openess_to_experience  Salary  \n",
       "0         0.3789        1.2396      0.14590                 0.2889  445000  \n",
       "1         0.0459        1.2396      0.52620                -0.2859  110000  \n",
       "2        -0.1232        1.5428     -0.29020                -0.2875  255000  \n",
       "3         0.2124        0.3174      0.27270                 0.4805  420000  \n",
       "4        -0.7473       -1.0697      0.06223                 0.1864  200000  "
      ],
      "text/html": "<div>\n<style scoped>\n    .dataframe tbody tr th:only-of-type {\n        vertical-align: middle;\n    }\n\n    .dataframe tbody tr th {\n        vertical-align: top;\n    }\n\n    .dataframe thead th {\n        text-align: right;\n    }\n</style>\n<table border=\"1\" class=\"dataframe\">\n  <thead>\n    <tr style=\"text-align: right;\">\n      <th></th>\n      <th>Gender</th>\n      <th>DOB</th>\n      <th>10percentage</th>\n      <th>10board</th>\n      <th>12graduation</th>\n      <th>12percentage</th>\n      <th>12board</th>\n      <th>CollegeTier</th>\n      <th>Degree</th>\n      <th>Specialization</th>\n      <th>collegeGPA</th>\n      <th>CollegeCityTier</th>\n      <th>CollegeState</th>\n      <th>GraduationYear</th>\n      <th>English</th>\n      <th>Logical</th>\n      <th>Quant</th>\n      <th>Domain</th>\n      <th>ComputerProgramming</th>\n      <th>ElectronicsAndSemicon</th>\n      <th>ComputerScience</th>\n      <th>MechanicalEngg</th>\n      <th>ElectricalEngg</th>\n      <th>TelecomEngg</th>\n      <th>CivilEngg</th>\n      <th>conscientiousness</th>\n      <th>agreeableness</th>\n      <th>extraversion</th>\n      <th>nueroticism</th>\n      <th>openess_to_experience</th>\n      <th>Salary</th>\n    </tr>\n  </thead>\n  <tbody>\n    <tr>\n      <th>0</th>\n      <td>f</td>\n      <td>1990</td>\n      <td>87.80</td>\n      <td>cbse</td>\n      <td>2009</td>\n      <td>84.00</td>\n      <td>cbse</td>\n      <td>1</td>\n      <td>B.Tech/B.E.</td>\n      <td>instrumentation and control engineering</td>\n      <td>73.82</td>\n      <td>1</td>\n      <td>Delhi</td>\n      <td>2013.0</td>\n      <td>650</td>\n      <td>665</td>\n      <td>810</td>\n      <td>0.694479</td>\n      <td>485</td>\n      <td>366</td>\n      <td>0</td>\n      <td>0</td>\n      <td>0</td>\n      <td>0</td>\n      <td>0</td>\n      <td>-0.1590</td>\n      <td>0.3789</td>\n      <td>1.2396</td>\n      <td>0.14590</td>\n      <td>0.2889</td>\n      <td>445000</td>\n    </tr>\n    <tr>\n      <th>1</th>\n      <td>m</td>\n      <td>1990</td>\n      <td>57.00</td>\n      <td>cbse</td>\n      <td>2010</td>\n      <td>64.50</td>\n      <td>cbse</td>\n      <td>2</td>\n      <td>B.Tech/B.E.</td>\n      <td>computer science &amp; engineering</td>\n      <td>65.00</td>\n      <td>0</td>\n      <td>Uttar Pradesh</td>\n      <td>2014.0</td>\n      <td>440</td>\n      <td>435</td>\n      <td>210</td>\n      <td>0.342315</td>\n      <td>365</td>\n      <td>0</td>\n      <td>0</td>\n      <td>0</td>\n      <td>0</td>\n      <td>0</td>\n      <td>0</td>\n      <td>1.1336</td>\n      <td>0.0459</td>\n      <td>1.2396</td>\n      <td>0.52620</td>\n      <td>-0.2859</td>\n      <td>110000</td>\n    </tr>\n    <tr>\n      <th>2</th>\n      <td>m</td>\n      <td>1989</td>\n      <td>77.33</td>\n      <td>maharashtra state board,pune</td>\n      <td>2007</td>\n      <td>85.17</td>\n      <td>amravati divisional board</td>\n      <td>2</td>\n      <td>B.Tech/B.E.</td>\n      <td>electronics &amp; telecommunications</td>\n      <td>61.94</td>\n      <td>0</td>\n      <td>Maharashtra</td>\n      <td>2011.0</td>\n      <td>485</td>\n      <td>475</td>\n      <td>505</td>\n      <td>0.824666</td>\n      <td>0</td>\n      <td>400</td>\n      <td>0</td>\n      <td>0</td>\n      <td>0</td>\n      <td>260</td>\n      <td>0</td>\n      <td>0.5100</td>\n      <td>-0.1232</td>\n      <td>1.5428</td>\n      <td>-0.29020</td>\n      <td>-0.2875</td>\n      <td>255000</td>\n    </tr>\n    <tr>\n      <th>3</th>\n      <td>m</td>\n      <td>1991</td>\n      <td>84.30</td>\n      <td>cbse</td>\n      <td>2009</td>\n      <td>86.00</td>\n      <td>cbse</td>\n      <td>1</td>\n      <td>B.Tech/B.E.</td>\n      <td>computer science &amp; engineering</td>\n      <td>80.40</td>\n      <td>1</td>\n      <td>Delhi</td>\n      <td>2013.0</td>\n      <td>675</td>\n      <td>620</td>\n      <td>635</td>\n      <td>0.990009</td>\n      <td>655</td>\n      <td>0</td>\n      <td>0</td>\n      <td>0</td>\n      <td>0</td>\n      <td>0</td>\n      <td>0</td>\n      <td>-0.4463</td>\n      <td>0.2124</td>\n      <td>0.3174</td>\n      <td>0.27270</td>\n      <td>0.4805</td>\n      <td>420000</td>\n    </tr>\n    <tr>\n      <th>4</th>\n      <td>f</td>\n      <td>1990</td>\n      <td>82.00</td>\n      <td>cbse</td>\n      <td>2008</td>\n      <td>75.00</td>\n      <td>cbse</td>\n      <td>2</td>\n      <td>B.Tech/B.E.</td>\n      <td>biotechnology</td>\n      <td>64.30</td>\n      <td>1</td>\n      <td>Tamil Nadu</td>\n      <td>2012.0</td>\n      <td>575</td>\n      <td>495</td>\n      <td>365</td>\n      <td>0.278457</td>\n      <td>315</td>\n      <td>0</td>\n      <td>0</td>\n      <td>0</td>\n      <td>0</td>\n      <td>0</td>\n      <td>0</td>\n      <td>-1.4992</td>\n      <td>-0.7473</td>\n      <td>-1.0697</td>\n      <td>0.06223</td>\n      <td>0.1864</td>\n      <td>200000</td>\n    </tr>\n  </tbody>\n</table>\n</div>"
     },
     "metadata": {},
     "execution_count": 135
    }
   ],
   "source": [
    "df.head()"
   ]
  },
  {
   "cell_type": "code",
   "execution_count": 136,
   "metadata": {},
   "outputs": [
    {
     "output_type": "execute_result",
     "data": {
      "text/plain": [
       "Gender                     0\n",
       "DOB                        0\n",
       "10percentage               0\n",
       "10board                  244\n",
       "12graduation               0\n",
       "12percentage               0\n",
       "12board                  252\n",
       "CollegeTier                0\n",
       "Degree                     0\n",
       "Specialization             0\n",
       "collegeGPA                 0\n",
       "CollegeCityTier            0\n",
       "CollegeState               0\n",
       "GraduationYear             0\n",
       "English                    0\n",
       "Logical                    0\n",
       "Quant                      0\n",
       "Domain                     0\n",
       "ComputerProgramming        0\n",
       "ElectronicsAndSemicon      0\n",
       "ComputerScience            0\n",
       "MechanicalEngg             0\n",
       "ElectricalEngg             0\n",
       "TelecomEngg                0\n",
       "CivilEngg                  0\n",
       "conscientiousness          0\n",
       "agreeableness              0\n",
       "extraversion               0\n",
       "nueroticism                0\n",
       "openess_to_experience      0\n",
       "Salary                     0\n",
       "dtype: int64"
      ]
     },
     "metadata": {},
     "execution_count": 136
    }
   ],
   "source": [
    "df.isna().sum()"
   ]
  },
  {
   "cell_type": "code",
   "execution_count": null,
   "metadata": {},
   "outputs": [],
   "source": []
  },
  {
   "cell_type": "code",
   "execution_count": 137,
   "metadata": {},
   "outputs": [
    {
     "output_type": "execute_result",
     "data": {
      "text/plain": [
       "(Index(['Gender', 'DOB', '10percentage', '10board', '12graduation',\n",
       "        '12percentage', '12board', 'CollegeTier', 'Degree', 'Specialization',\n",
       "        'collegeGPA', 'CollegeCityTier', 'CollegeState', 'GraduationYear',\n",
       "        'English', 'Logical', 'Quant', 'Domain', 'ComputerProgramming',\n",
       "        'ElectronicsAndSemicon', 'ComputerScience', 'MechanicalEngg',\n",
       "        'ElectricalEngg', 'TelecomEngg', 'CivilEngg', 'conscientiousness',\n",
       "        'agreeableness', 'extraversion', 'nueroticism', 'openess_to_experience',\n",
       "        'Salary'],\n",
       "       dtype='object'),\n",
       " (2878, 31))"
      ]
     },
     "metadata": {},
     "execution_count": 137
    }
   ],
   "source": [
    "df.columns, df.shape\n",
    "# tidak ada CollgeID dan CollegeCityID"
   ]
  },
  {
   "source": [
    "## Column Transformer & Pipeline"
   ],
   "cell_type": "markdown",
   "metadata": {}
  },
  {
   "cell_type": "code",
   "execution_count": 138,
   "metadata": {},
   "outputs": [],
   "source": [
    "# pipeline imputer+binary\n",
    "imputer_binary = Pipeline([\n",
    "    ('imputer', SimpleImputer(strategy='most_frequent')),\n",
    "    ('binary', ce.BinaryEncoder())\n",
    "])\n",
    "\n",
    "# pipeline imputer+binary\n",
    "imputer_onehot = Pipeline([\n",
    "    ('imputer', SimpleImputer(strategy='most_frequent')),\n",
    "    ('onehot', OneHotEncoder(drop='first'))\n",
    "])\n",
    "\n",
    "# Transformer\n",
    "transformer = ColumnTransformer([\n",
    "    ('imputer_binary', imputer_binary, ['10board','12board']),\n",
    "    ('onehot', OneHotEncoder(drop='first'), ['Gender','CollegeTier', 'Degree','CollegeCityTier']),\n",
    "    ('binary', ce.BinaryEncoder(), ['Specialization','CollegeState'])\n",
    "], remainder='passthrough')\n"
   ]
  },
  {
   "cell_type": "code",
   "execution_count": 139,
   "metadata": {},
   "outputs": [],
   "source": [
    "# "
   ]
  },
  {
   "cell_type": "code",
   "execution_count": 25,
   "metadata": {},
   "outputs": [],
   "source": []
  },
  {
   "source": [
    "# 2. Split Dataset"
   ],
   "cell_type": "markdown",
   "metadata": {}
  },
  {
   "cell_type": "code",
   "execution_count": 140,
   "metadata": {},
   "outputs": [
    {
     "output_type": "execute_result",
     "data": {
      "text/plain": [
       "  Gender   DOB  10percentage                       10board  12graduation  \\\n",
       "0      f  1990         87.80                          cbse          2009   \n",
       "1      m  1990         57.00                          cbse          2010   \n",
       "2      m  1989         77.33  maharashtra state board,pune          2007   \n",
       "\n",
       "   12percentage                    12board  CollegeTier       Degree  \\\n",
       "0         84.00                       cbse            1  B.Tech/B.E.   \n",
       "1         64.50                       cbse            2  B.Tech/B.E.   \n",
       "2         85.17  amravati divisional board            2  B.Tech/B.E.   \n",
       "\n",
       "                            Specialization  collegeGPA  CollegeCityTier  \\\n",
       "0  instrumentation and control engineering       73.82                1   \n",
       "1           computer science & engineering       65.00                0   \n",
       "2         electronics & telecommunications       61.94                0   \n",
       "\n",
       "    CollegeState  GraduationYear  English  Logical  Quant    Domain  \\\n",
       "0          Delhi          2013.0      650      665    810  0.694479   \n",
       "1  Uttar Pradesh          2014.0      440      435    210  0.342315   \n",
       "2    Maharashtra          2011.0      485      475    505  0.824666   \n",
       "\n",
       "   ComputerProgramming  ElectronicsAndSemicon  ComputerScience  \\\n",
       "0                  485                    366                0   \n",
       "1                  365                      0                0   \n",
       "2                    0                    400                0   \n",
       "\n",
       "   MechanicalEngg  ElectricalEngg  TelecomEngg  CivilEngg  conscientiousness  \\\n",
       "0               0               0            0          0            -0.1590   \n",
       "1               0               0            0          0             1.1336   \n",
       "2               0               0          260          0             0.5100   \n",
       "\n",
       "   agreeableness  extraversion  nueroticism  openess_to_experience  Salary  \n",
       "0         0.3789        1.2396       0.1459                 0.2889  445000  \n",
       "1         0.0459        1.2396       0.5262                -0.2859  110000  \n",
       "2        -0.1232        1.5428      -0.2902                -0.2875  255000  "
      ],
      "text/html": "<div>\n<style scoped>\n    .dataframe tbody tr th:only-of-type {\n        vertical-align: middle;\n    }\n\n    .dataframe tbody tr th {\n        vertical-align: top;\n    }\n\n    .dataframe thead th {\n        text-align: right;\n    }\n</style>\n<table border=\"1\" class=\"dataframe\">\n  <thead>\n    <tr style=\"text-align: right;\">\n      <th></th>\n      <th>Gender</th>\n      <th>DOB</th>\n      <th>10percentage</th>\n      <th>10board</th>\n      <th>12graduation</th>\n      <th>12percentage</th>\n      <th>12board</th>\n      <th>CollegeTier</th>\n      <th>Degree</th>\n      <th>Specialization</th>\n      <th>collegeGPA</th>\n      <th>CollegeCityTier</th>\n      <th>CollegeState</th>\n      <th>GraduationYear</th>\n      <th>English</th>\n      <th>Logical</th>\n      <th>Quant</th>\n      <th>Domain</th>\n      <th>ComputerProgramming</th>\n      <th>ElectronicsAndSemicon</th>\n      <th>ComputerScience</th>\n      <th>MechanicalEngg</th>\n      <th>ElectricalEngg</th>\n      <th>TelecomEngg</th>\n      <th>CivilEngg</th>\n      <th>conscientiousness</th>\n      <th>agreeableness</th>\n      <th>extraversion</th>\n      <th>nueroticism</th>\n      <th>openess_to_experience</th>\n      <th>Salary</th>\n    </tr>\n  </thead>\n  <tbody>\n    <tr>\n      <th>0</th>\n      <td>f</td>\n      <td>1990</td>\n      <td>87.80</td>\n      <td>cbse</td>\n      <td>2009</td>\n      <td>84.00</td>\n      <td>cbse</td>\n      <td>1</td>\n      <td>B.Tech/B.E.</td>\n      <td>instrumentation and control engineering</td>\n      <td>73.82</td>\n      <td>1</td>\n      <td>Delhi</td>\n      <td>2013.0</td>\n      <td>650</td>\n      <td>665</td>\n      <td>810</td>\n      <td>0.694479</td>\n      <td>485</td>\n      <td>366</td>\n      <td>0</td>\n      <td>0</td>\n      <td>0</td>\n      <td>0</td>\n      <td>0</td>\n      <td>-0.1590</td>\n      <td>0.3789</td>\n      <td>1.2396</td>\n      <td>0.1459</td>\n      <td>0.2889</td>\n      <td>445000</td>\n    </tr>\n    <tr>\n      <th>1</th>\n      <td>m</td>\n      <td>1990</td>\n      <td>57.00</td>\n      <td>cbse</td>\n      <td>2010</td>\n      <td>64.50</td>\n      <td>cbse</td>\n      <td>2</td>\n      <td>B.Tech/B.E.</td>\n      <td>computer science &amp; engineering</td>\n      <td>65.00</td>\n      <td>0</td>\n      <td>Uttar Pradesh</td>\n      <td>2014.0</td>\n      <td>440</td>\n      <td>435</td>\n      <td>210</td>\n      <td>0.342315</td>\n      <td>365</td>\n      <td>0</td>\n      <td>0</td>\n      <td>0</td>\n      <td>0</td>\n      <td>0</td>\n      <td>0</td>\n      <td>1.1336</td>\n      <td>0.0459</td>\n      <td>1.2396</td>\n      <td>0.5262</td>\n      <td>-0.2859</td>\n      <td>110000</td>\n    </tr>\n    <tr>\n      <th>2</th>\n      <td>m</td>\n      <td>1989</td>\n      <td>77.33</td>\n      <td>maharashtra state board,pune</td>\n      <td>2007</td>\n      <td>85.17</td>\n      <td>amravati divisional board</td>\n      <td>2</td>\n      <td>B.Tech/B.E.</td>\n      <td>electronics &amp; telecommunications</td>\n      <td>61.94</td>\n      <td>0</td>\n      <td>Maharashtra</td>\n      <td>2011.0</td>\n      <td>485</td>\n      <td>475</td>\n      <td>505</td>\n      <td>0.824666</td>\n      <td>0</td>\n      <td>400</td>\n      <td>0</td>\n      <td>0</td>\n      <td>0</td>\n      <td>260</td>\n      <td>0</td>\n      <td>0.5100</td>\n      <td>-0.1232</td>\n      <td>1.5428</td>\n      <td>-0.2902</td>\n      <td>-0.2875</td>\n      <td>255000</td>\n    </tr>\n  </tbody>\n</table>\n</div>"
     },
     "metadata": {},
     "execution_count": 140
    }
   ],
   "source": [
    "df.head(3)"
   ]
  },
  {
   "cell_type": "code",
   "execution_count": 141,
   "metadata": {},
   "outputs": [],
   "source": [
    "# Features and Label\n",
    "X = df.drop(columns='Salary') \n",
    "y = df['Salary']"
   ]
  },
  {
   "cell_type": "code",
   "execution_count": 142,
   "metadata": {},
   "outputs": [],
   "source": [
    "# Split data\n",
    "X_train, X_test, y_train, y_test = train_test_split(X, y, test_size=0.2, random_state=42)"
   ]
  },
  {
   "cell_type": "code",
   "execution_count": null,
   "metadata": {},
   "outputs": [],
   "source": []
  },
  {
   "source": [
    "# 3. Model Benchmark"
   ],
   "cell_type": "markdown",
   "metadata": {}
  },
  {
   "source": [
    "### Coba cari model tanpa hyperparameter tuning"
   ],
   "cell_type": "markdown",
   "metadata": {}
  },
  {
   "cell_type": "code",
   "execution_count": 143,
   "metadata": {},
   "outputs": [
    {
     "output_type": "execute_result",
     "data": {
      "text/plain": [
       "{'model': ElasticNet()}"
      ]
     },
     "metadata": {},
     "execution_count": 143
    }
   ],
   "source": [
    "# model\n",
    "enet = ElasticNet()\n",
    "knn = KNeighborsRegressor()\n",
    "svr = SVR()\n",
    "tree = DecisionTreeRegressor()\n",
    "forest = RandomForestRegressor()\n",
    "xgboost = XGBRegressor()\n",
    "\n",
    "# model pipeline\n",
    "model_pipeline = Pipeline([\n",
    "    ('transformer', transformer),\n",
    "    ('model', enet)\n",
    "])\n",
    "\n",
    "# model options\n",
    "hyperparam_models = {\n",
    "    'model':[enet, svr, knn, tree, forest, xgboost]\n",
    "}\n",
    "\n",
    "# model grid search\n",
    "model = GridSearchCV(\n",
    "    estimator = model_pipeline,\n",
    "    param_grid = hyperparam_models,\n",
    "    cv = 5,\n",
    "    scoring = 'neg_mean_squared_error',\n",
    "    n_jobs = -1\n",
    ")\n",
    "\n",
    "# fitting model to train set\n",
    "model.fit(X_train, y_train)\n",
    "\n",
    "# show best model\n",
    "model.best_params_"
   ]
  },
  {
   "cell_type": "code",
   "execution_count": 144,
   "metadata": {},
   "outputs": [
    {
     "output_type": "stream",
     "name": "stdout",
     "text": [
      "R square  0.2996\nRMSE      115959.8394\n"
     ]
    }
   ],
   "source": [
    "# Predict to X_test\n",
    "y_pred = model.best_estimator_.predict(X_test)\n",
    "\n",
    "# Score\n",
    "print('R square ', round(r2_score(y_test, y_pred),4))\n",
    "print('RMSE     ', round(mean_squared_error(y_test, y_pred, squared=False),4))"
   ]
  },
  {
   "cell_type": "code",
   "execution_count": null,
   "metadata": {},
   "outputs": [],
   "source": []
  },
  {
   "cell_type": "code",
   "execution_count": 145,
   "metadata": {},
   "outputs": [
    {
     "output_type": "stream",
     "name": "stdout",
     "text": [
      "R square  0.2996\nRMSE      115959.8394\n"
     ]
    }
   ],
   "source": [
    "# model pipeline\n",
    "model_pipeline = Pipeline([\n",
    "    ('transformer', transformer),\n",
    "    ('model', ElasticNet())\n",
    "])\n",
    "\n",
    "# fit train set\n",
    "model_pipeline.fit(X_train, y_train)\n",
    "\n",
    "# Predict to X_test\n",
    "y_pred = model_pipeline.predict(X_test)\n",
    "\n",
    "# Score\n",
    "print('R square ', round(r2_score(y_test, y_pred),4))\n",
    "print('RMSE     ', round(mean_squared_error(y_test, y_pred, squared=False),4))"
   ]
  },
  {
   "cell_type": "code",
   "execution_count": 301,
   "metadata": {},
   "outputs": [],
   "source": []
  },
  {
   "cell_type": "code",
   "execution_count": 150,
   "metadata": {},
   "outputs": [],
   "source": []
  },
  {
   "source": [
    "### Coba cari model dengan hyperparameter tuning terbaik "
   ],
   "cell_type": "markdown",
   "metadata": {}
  },
  {
   "cell_type": "code",
   "execution_count": 146,
   "metadata": {},
   "outputs": [],
   "source": [
    "# import libraries\n",
    "import jcopml\n",
    "from jcopml.pipeline import num_pipe, cat_pipe\n",
    "from jcopml.tuning import random_search_params as rsp \n",
    "from jcopml.feature_importance import mean_score_decrease\n",
    "from jcopml.plot import plot_residual"
   ]
  },
  {
   "cell_type": "code",
   "execution_count": 147,
   "metadata": {},
   "outputs": [],
   "source": [
    "# Column Transformer\n",
    "# Scaling Robust Scaaler semua feature numerical\n",
    "# OneHot encoding semua feature categorical\n",
    "\n",
    "transformer = ColumnTransformer([\n",
    "    ('numeric', num_pipe(scaling='robust'), ['DOB', '10percentage', '12graduation', '12percentage', 'collegeGPA', 'GraduationYear', 'English', 'Logical', 'Quant', 'Domain','ComputerProgramming', 'ElectronicsAndSemicon', 'ComputerScience', 'MechanicalEngg', 'ElectricalEngg', 'TelecomEngg', 'CivilEngg', 'conscientiousness', 'agreeableness', 'extraversion', 'nueroticism', 'openess_to_experience']),\n",
    "    ('categoric', cat_pipe(encoder='onehot'), ['Gender','10board','12board','CollegeTier','Degree','Specialization', 'CollegeCityTier','CollegeState'])\n",
    "])\n"
   ]
  },
  {
   "source": [
    "### a. Elastic Net"
   ],
   "cell_type": "markdown",
   "metadata": {}
  },
  {
   "cell_type": "code",
   "execution_count": 148,
   "metadata": {},
   "outputs": [
    {
     "output_type": "stream",
     "name": "stdout",
     "text": [
      "Fitting 5 folds for each of 50 candidates, totalling 250 fits\n",
      "{'algo__alpha': 0.09178539435251566, 'algo__fit_intercept': True, 'algo__l1_ratio': 0.7106628896857875}\n"
     ]
    }
   ],
   "source": [
    "# model pipeline\n",
    "model_pipeline = Pipeline([\n",
    "    ('prep', transformer),\n",
    "    ('algo', ElasticNet())\n",
    "])\n",
    "\n",
    "# model random search\n",
    "model_enet = RandomizedSearchCV(\n",
    "    model_pipeline,\n",
    "    rsp.enet_params,\n",
    "    cv=5,\n",
    "    n_iter=50,\n",
    "    n_jobs=-1,\n",
    "    verbose=1,\n",
    "    random_state=42\n",
    ")\n",
    "\n",
    "# fit train set\n",
    "model_enet.fit(X_train,y_train)\n",
    "\n",
    "# best param for model\n",
    "print(model_enet.best_params_)"
   ]
  },
  {
   "cell_type": "code",
   "execution_count": 149,
   "metadata": {},
   "outputs": [
    {
     "output_type": "stream",
     "name": "stdout",
     "text": [
      "train  0.3444625420605615\nval    0.30672173341007536\ntest   0.3329075099499771\n\nR square  0.3329\nRMSE      113170.3653\n"
     ]
    }
   ],
   "source": [
    "# score\n",
    "print('train ',model_enet.score(X_train,y_train))\n",
    "print('val   ',model_enet.best_score_) \n",
    "print('test  ',model_enet.score(X_test, y_test))\n",
    "print()\n",
    "\n",
    "# Predict to X_test\n",
    "y_pred_enet = model_enet.best_estimator_.predict(X_test)\n",
    "\n",
    "# Score\n",
    "print('R square ', round(r2_score(y_test, y_pred_enet),4))\n",
    "print('RMSE     ', round(mean_squared_error(y_test, y_pred_enet, squared=False),4))"
   ]
  },
  {
   "cell_type": "code",
   "execution_count": null,
   "metadata": {},
   "outputs": [],
   "source": []
  },
  {
   "source": [
    "### b. SVR"
   ],
   "cell_type": "markdown",
   "metadata": {}
  },
  {
   "cell_type": "code",
   "execution_count": 150,
   "metadata": {},
   "outputs": [
    {
     "output_type": "stream",
     "name": "stdout",
     "text": [
      "Fitting 5 folds for each of 50 candidates, totalling 250 fits\n",
      "{'algo__C': 98.77700294007921, 'algo__gamma': 0.01879466824163846}\n"
     ]
    }
   ],
   "source": [
    "# model pipeline\n",
    "model_pipeline = Pipeline([\n",
    "    ('prep', transformer),\n",
    "    ('algo', SVR())\n",
    "])\n",
    "\n",
    "# model random search\n",
    "model_svr = RandomizedSearchCV(\n",
    "    model_pipeline,\n",
    "    rsp.svm_params,\n",
    "    cv=5,\n",
    "    n_iter=50,\n",
    "    n_jobs=-1,\n",
    "    verbose=1,\n",
    "    random_state=42\n",
    ")\n",
    "\n",
    "# fit train set\n",
    "model_svr.fit(X_train,y_train)\n",
    "\n",
    "# best param for model\n",
    "print(model_svr.best_params_)"
   ]
  },
  {
   "cell_type": "code",
   "execution_count": 151,
   "metadata": {},
   "outputs": [
    {
     "output_type": "stream",
     "name": "stdout",
     "text": [
      "train  0.014108020406089827\n",
      "val    0.006617194641249502\n",
      "test   0.010389979702298935\n",
      "\n",
      "R square  0.0104\n",
      "RMSE      137838.8795\n"
     ]
    }
   ],
   "source": [
    "# score\n",
    "print('train ',model_svr.score(X_train,y_train))\n",
    "print('val   ',model_svr.best_score_) \n",
    "print('test  ',model_svr.score(X_test, y_test))\n",
    "print()\n",
    "\n",
    "# Predict to X_test\n",
    "y_pred_svr = model_svr.best_estimator_.predict(X_test)\n",
    "\n",
    "# Score\n",
    "print('R square ', round(r2_score(y_test, y_pred_svr),4))\n",
    "print('RMSE     ', round(mean_squared_error(y_test, y_pred_svr, squared=False),4))"
   ]
  },
  {
   "cell_type": "code",
   "execution_count": null,
   "metadata": {},
   "outputs": [],
   "source": []
  },
  {
   "source": [
    "### c. Random Forest"
   ],
   "cell_type": "markdown",
   "metadata": {}
  },
  {
   "cell_type": "code",
   "execution_count": 152,
   "metadata": {},
   "outputs": [
    {
     "output_type": "stream",
     "name": "stdout",
     "text": [
      "Fitting 5 folds for each of 50 candidates, totalling 250 fits\n",
      "{'algo__max_depth': 22, 'algo__max_features': 0.1185260448662222, 'algo__min_samples_leaf': 2, 'algo__n_estimators': 187}\n"
     ]
    }
   ],
   "source": [
    "# model pipeline\n",
    "model_pipeline = Pipeline([\n",
    "    ('prep', transformer),\n",
    "    ('algo', RandomForestRegressor())\n",
    "])\n",
    "\n",
    "# model random search\n",
    "model_rf = RandomizedSearchCV(\n",
    "    model_pipeline,\n",
    "    rsp.rf_params,\n",
    "    cv=5,\n",
    "    n_iter=50,\n",
    "    n_jobs=-1,\n",
    "    verbose=1,\n",
    "    random_state=42\n",
    ")\n",
    "\n",
    "# fit train set\n",
    "model_rf.fit(X_train,y_train)\n",
    "\n",
    "# best param for model\n",
    "print(model_rf.best_params_)"
   ]
  },
  {
   "cell_type": "code",
   "execution_count": 153,
   "metadata": {},
   "outputs": [
    {
     "output_type": "stream",
     "name": "stdout",
     "text": [
      "train  0.7771333213569396\n",
      "val    0.28377109260515104\n",
      "test   0.31294261506807863\n",
      "\n",
      "R square  0.3129\n",
      "RMSE      114851.3748\n"
     ]
    }
   ],
   "source": [
    "# score\n",
    "print('train ',model_rf.score(X_train,y_train))\n",
    "print('val   ',model_rf.best_score_) \n",
    "print('test  ',model_rf.score(X_test, y_test))\n",
    "print()\n",
    "\n",
    "# Predict to X_test\n",
    "y_pred_rf = model_rf.best_estimator_.predict(X_test)\n",
    "\n",
    "# Score\n",
    "print('R square ', round(r2_score(y_test, y_pred_rf),4))\n",
    "print('RMSE     ', round(mean_squared_error(y_test, y_pred_rf, squared=False),4))"
   ]
  },
  {
   "cell_type": "code",
   "execution_count": null,
   "metadata": {},
   "outputs": [],
   "source": []
  },
  {
   "source": [
    "### d. XGboost"
   ],
   "cell_type": "markdown",
   "metadata": {}
  },
  {
   "cell_type": "code",
   "execution_count": 154,
   "metadata": {},
   "outputs": [
    {
     "output_type": "stream",
     "name": "stdout",
     "text": [
      "Fitting 5 folds for each of 50 candidates, totalling 250 fits\n",
      "{'algo__colsample_bytree': 0.1826191592320977, 'algo__gamma': 1, 'algo__learning_rate': 0.04195914391541159, 'algo__max_depth': 4, 'algo__n_estimators': 168, 'algo__reg_alpha': 0.0788306878976805, 'algo__reg_lambda': 0.0024622754931226585, 'algo__subsample': 0.5458079375584162}\n"
     ]
    }
   ],
   "source": [
    "# model pipeline\n",
    "model_pipeline = Pipeline([\n",
    "    ('prep', transformer),\n",
    "    ('algo', XGBRegressor())\n",
    "])\n",
    "\n",
    "# model random search\n",
    "model_xgb = RandomizedSearchCV(\n",
    "    model_pipeline,\n",
    "    rsp.xgb_params,\n",
    "    cv=5,\n",
    "    n_iter=50,\n",
    "    n_jobs=-1,\n",
    "    verbose=1,\n",
    "    random_state=42\n",
    ")\n",
    "\n",
    "# fit train set\n",
    "model_xgb.fit(X_train,y_train)\n",
    "\n",
    "# best param for model\n",
    "print(model_xgb.best_params_)"
   ]
  },
  {
   "cell_type": "code",
   "execution_count": 155,
   "metadata": {},
   "outputs": [
    {
     "output_type": "stream",
     "name": "stdout",
     "text": [
      "train  0.5288292771567682\n",
      "val    0.2996849297272858\n",
      "test   0.3357590981024079\n",
      "\n",
      "R square  0.3358\n",
      "RMSE      112928.2243\n"
     ]
    }
   ],
   "source": [
    "# score\n",
    "print('train ',model_xgb.score(X_train,y_train))\n",
    "print('val   ',model_xgb.best_score_) \n",
    "print('test  ',model_xgb.score(X_test, y_test))\n",
    "print()\n",
    "\n",
    "# Predict to X_test\n",
    "y_pred_xgb = model_xgb.best_estimator_.predict(X_test)\n",
    "\n",
    "# Score\n",
    "print('R square ', round(r2_score(y_test, y_pred_xgb),4))\n",
    "print('RMSE     ', round(mean_squared_error(y_test, y_pred_xgb, squared=False),4))"
   ]
  },
  {
   "cell_type": "code",
   "execution_count": null,
   "metadata": {},
   "outputs": [],
   "source": []
  },
  {
   "source": [
    "## Model Terbaik: Elastic Net\n",
    "\n",
    "Model terbaik untuk dataset ini adalah Elastic Net, karena tidak overfit dan memiliki score R square paling besar (RMSE paling kecil)\n",
    "\n",
    "- SVR score R square jauh lebih kecil (RMSE lebih besar dari Elastic Net)\n",
    "- Random Forest overfit (score train dan test terlalu jauh)\n",
    "- XGBoost overfit (score train dan test terlalu jauh)"
   ],
   "cell_type": "markdown",
   "metadata": {}
  },
  {
   "cell_type": "code",
   "execution_count": null,
   "metadata": {},
   "outputs": [],
   "source": []
  },
  {
   "source": [
    "### Elastic Net dengan Hyperparameter terbaik\n",
    "dan coba scaling untuk semua features"
   ],
   "cell_type": "markdown",
   "metadata": {}
  },
  {
   "cell_type": "code",
   "execution_count": 156,
   "metadata": {},
   "outputs": [
    {
     "output_type": "execute_result",
     "data": {
      "text/plain": [
       "{'scaler': None}"
      ]
     },
     "metadata": {},
     "execution_count": 156
    }
   ],
   "source": [
    "# scaler\n",
    "scaler = StandardScaler()\n",
    "\n",
    "# algo elastic net\n",
    "algo = ElasticNet(\n",
    "    alpha = 0.09178539435251566,\n",
    "    fit_intercept = True,\n",
    "    l1_ratio = 0.7106628896857875\n",
    ")\n",
    "\n",
    "# mencari scaler terbaik\n",
    "hyperparam_space = {\n",
    "    'scaler': [None, StandardScaler(), RobustScaler()],\n",
    "}\n",
    "\n",
    "# model pipeline\n",
    "model_pipeline = Pipeline([\n",
    "    ('prep', transformer),\n",
    "    ('scaler', scaler),\n",
    "    ('algo', algo)\n",
    "])\n",
    "\n",
    "# model random search\n",
    "model = GridSearchCV(\n",
    "    model_pipeline,\n",
    "    hyperparam_space,\n",
    "    cv=5,\n",
    "    n_jobs=-1,\n",
    "    # random_state=42\n",
    ")\n",
    "\n",
    "# fitting model to train set\n",
    "model.fit(X_train, y_train)\n",
    "\n",
    "# best parameter\n",
    "model.best_params_"
   ]
  },
  {
   "cell_type": "code",
   "execution_count": 157,
   "metadata": {},
   "outputs": [
    {
     "output_type": "stream",
     "name": "stdout",
     "text": [
      "R square  0.3329\nRMSE      113170.3653\n"
     ]
    }
   ],
   "source": [
    "# Predict to X_test\n",
    "y_pred = model.best_estimator_.predict(X_test)\n",
    "\n",
    "# Score\n",
    "print('R square ', round(r2_score(y_test, y_pred),4))\n",
    "print('RMSE     ', round(mean_squared_error(y_test, y_pred, squared=False),4))"
   ]
  },
  {
   "source": [
    "### Note: Scaling tidak meningkatkan performa model"
   ],
   "cell_type": "markdown",
   "metadata": {}
  },
  {
   "source": [
    "# 4. Feature Importance"
   ],
   "cell_type": "markdown",
   "metadata": {}
  },
  {
   "cell_type": "code",
   "execution_count": 158,
   "metadata": {},
   "outputs": [
    {
     "output_type": "execute_result",
     "data": {
      "text/plain": [
       "                  feature  importance     stdev\n",
       "13         GraduationYear    0.069084  0.005427\n",
       "16                  Quant    0.035524  0.004108\n",
       "10             collegeGPA    0.030061  0.001562\n",
       "5            12percentage    0.027238  0.004751\n",
       "12           CollegeState    0.023489  0.001335\n",
       "14                English    0.021316  0.002103\n",
       "2            10percentage    0.014850  0.002448\n",
       "7             CollegeTier    0.013662  0.001763\n",
       "0                  Gender    0.012710  0.003358\n",
       "18    ComputerProgramming    0.012666  0.003079\n",
       "20        ComputerScience    0.011644  0.001443\n",
       "9          Specialization    0.011601  0.001889\n",
       "3                 10board    0.010931  0.002196\n",
       "17                 Domain    0.010438  0.003336\n",
       "6                 12board    0.008578  0.001080\n",
       "24              CivilEngg    0.007255  0.001027\n",
       "4            12graduation    0.007174  0.001986\n",
       "28            nueroticism    0.003084  0.001119\n",
       "27           extraversion    0.002917  0.001044\n",
       "21         MechanicalEngg    0.002157  0.000766\n",
       "1                     DOB    0.001718  0.000994\n",
       "11        CollegeCityTier    0.001077  0.000321\n",
       "15                Logical    0.001039  0.000901\n",
       "29  openess_to_experience    0.001034  0.000902\n",
       "22         ElectricalEngg    0.000840  0.000407\n",
       "25      conscientiousness    0.000565  0.000590\n",
       "19  ElectronicsAndSemicon    0.000532  0.000739\n",
       "26          agreeableness    0.000425  0.000329\n",
       "8                  Degree    0.000273  0.000326\n",
       "23            TelecomEngg   -0.000051  0.000309"
      ],
      "text/html": "<div>\n<style scoped>\n    .dataframe tbody tr th:only-of-type {\n        vertical-align: middle;\n    }\n\n    .dataframe tbody tr th {\n        vertical-align: top;\n    }\n\n    .dataframe thead th {\n        text-align: right;\n    }\n</style>\n<table border=\"1\" class=\"dataframe\">\n  <thead>\n    <tr style=\"text-align: right;\">\n      <th></th>\n      <th>feature</th>\n      <th>importance</th>\n      <th>stdev</th>\n    </tr>\n  </thead>\n  <tbody>\n    <tr>\n      <th>13</th>\n      <td>GraduationYear</td>\n      <td>0.069084</td>\n      <td>0.005427</td>\n    </tr>\n    <tr>\n      <th>16</th>\n      <td>Quant</td>\n      <td>0.035524</td>\n      <td>0.004108</td>\n    </tr>\n    <tr>\n      <th>10</th>\n      <td>collegeGPA</td>\n      <td>0.030061</td>\n      <td>0.001562</td>\n    </tr>\n    <tr>\n      <th>5</th>\n      <td>12percentage</td>\n      <td>0.027238</td>\n      <td>0.004751</td>\n    </tr>\n    <tr>\n      <th>12</th>\n      <td>CollegeState</td>\n      <td>0.023489</td>\n      <td>0.001335</td>\n    </tr>\n    <tr>\n      <th>14</th>\n      <td>English</td>\n      <td>0.021316</td>\n      <td>0.002103</td>\n    </tr>\n    <tr>\n      <th>2</th>\n      <td>10percentage</td>\n      <td>0.014850</td>\n      <td>0.002448</td>\n    </tr>\n    <tr>\n      <th>7</th>\n      <td>CollegeTier</td>\n      <td>0.013662</td>\n      <td>0.001763</td>\n    </tr>\n    <tr>\n      <th>0</th>\n      <td>Gender</td>\n      <td>0.012710</td>\n      <td>0.003358</td>\n    </tr>\n    <tr>\n      <th>18</th>\n      <td>ComputerProgramming</td>\n      <td>0.012666</td>\n      <td>0.003079</td>\n    </tr>\n    <tr>\n      <th>20</th>\n      <td>ComputerScience</td>\n      <td>0.011644</td>\n      <td>0.001443</td>\n    </tr>\n    <tr>\n      <th>9</th>\n      <td>Specialization</td>\n      <td>0.011601</td>\n      <td>0.001889</td>\n    </tr>\n    <tr>\n      <th>3</th>\n      <td>10board</td>\n      <td>0.010931</td>\n      <td>0.002196</td>\n    </tr>\n    <tr>\n      <th>17</th>\n      <td>Domain</td>\n      <td>0.010438</td>\n      <td>0.003336</td>\n    </tr>\n    <tr>\n      <th>6</th>\n      <td>12board</td>\n      <td>0.008578</td>\n      <td>0.001080</td>\n    </tr>\n    <tr>\n      <th>24</th>\n      <td>CivilEngg</td>\n      <td>0.007255</td>\n      <td>0.001027</td>\n    </tr>\n    <tr>\n      <th>4</th>\n      <td>12graduation</td>\n      <td>0.007174</td>\n      <td>0.001986</td>\n    </tr>\n    <tr>\n      <th>28</th>\n      <td>nueroticism</td>\n      <td>0.003084</td>\n      <td>0.001119</td>\n    </tr>\n    <tr>\n      <th>27</th>\n      <td>extraversion</td>\n      <td>0.002917</td>\n      <td>0.001044</td>\n    </tr>\n    <tr>\n      <th>21</th>\n      <td>MechanicalEngg</td>\n      <td>0.002157</td>\n      <td>0.000766</td>\n    </tr>\n    <tr>\n      <th>1</th>\n      <td>DOB</td>\n      <td>0.001718</td>\n      <td>0.000994</td>\n    </tr>\n    <tr>\n      <th>11</th>\n      <td>CollegeCityTier</td>\n      <td>0.001077</td>\n      <td>0.000321</td>\n    </tr>\n    <tr>\n      <th>15</th>\n      <td>Logical</td>\n      <td>0.001039</td>\n      <td>0.000901</td>\n    </tr>\n    <tr>\n      <th>29</th>\n      <td>openess_to_experience</td>\n      <td>0.001034</td>\n      <td>0.000902</td>\n    </tr>\n    <tr>\n      <th>22</th>\n      <td>ElectricalEngg</td>\n      <td>0.000840</td>\n      <td>0.000407</td>\n    </tr>\n    <tr>\n      <th>25</th>\n      <td>conscientiousness</td>\n      <td>0.000565</td>\n      <td>0.000590</td>\n    </tr>\n    <tr>\n      <th>19</th>\n      <td>ElectronicsAndSemicon</td>\n      <td>0.000532</td>\n      <td>0.000739</td>\n    </tr>\n    <tr>\n      <th>26</th>\n      <td>agreeableness</td>\n      <td>0.000425</td>\n      <td>0.000329</td>\n    </tr>\n    <tr>\n      <th>8</th>\n      <td>Degree</td>\n      <td>0.000273</td>\n      <td>0.000326</td>\n    </tr>\n    <tr>\n      <th>23</th>\n      <td>TelecomEngg</td>\n      <td>-0.000051</td>\n      <td>0.000309</td>\n    </tr>\n  </tbody>\n</table>\n</div>"
     },
     "metadata": {},
     "execution_count": 158
    },
    {
     "output_type": "display_data",
     "data": {
      "text/plain": "<Figure size 1080x360 with 1 Axes>",
      "image/svg+xml": "<?xml version=\"1.0\" encoding=\"utf-8\" standalone=\"no\"?>\r\n<!DOCTYPE svg PUBLIC \"-//W3C//DTD SVG 1.1//EN\"\r\n  \"http://www.w3.org/Graphics/SVG/1.1/DTD/svg11.dtd\">\r\n<!-- Created with matplotlib (https://matplotlib.org/) -->\r\n<svg height=\"399.766327pt\" version=\"1.1\" viewBox=\"0 0 894.34375 399.766327\" width=\"894.34375pt\" xmlns=\"http://www.w3.org/2000/svg\" xmlns:xlink=\"http://www.w3.org/1999/xlink\">\r\n <defs>\r\n  <style type=\"text/css\">\r\n*{stroke-linecap:butt;stroke-linejoin:round;}\r\n  </style>\r\n </defs>\r\n <g id=\"figure_1\">\r\n  <g id=\"patch_1\">\r\n   <path d=\"M 0 399.766327 \r\nL 894.34375 399.766327 \r\nL 894.34375 0 \r\nL 0 0 \r\nz\r\n\" style=\"fill:none;\"/>\r\n  </g>\r\n  <g id=\"axes_1\">\r\n   <g id=\"patch_2\">\r\n    <path d=\"M 50.14375 295.637812 \r\nL 887.14375 295.637812 \r\nL 887.14375 23.837812 \r\nL 50.14375 23.837812 \r\nz\r\n\" style=\"fill:#ffffff;\"/>\r\n   </g>\r\n   <g id=\"patch_3\">\r\n    <path clip-path=\"url(#p4bbaa34641)\" d=\"M 88.189205 282.096039 \r\nL 108.616294 282.096039 \r\nL 108.616294 54.103753 \r\nL 88.189205 54.103753 \r\nz\r\n\" style=\"fill:#00bfbf;\"/>\r\n   </g>\r\n   <g id=\"patch_4\">\r\n    <path clip-path=\"url(#p4bbaa34641)\" d=\"M 113.723067 282.096039 \r\nL 134.150156 282.096039 \r\nL 134.150156 164.859685 \r\nL 113.723067 164.859685 \r\nz\r\n\" style=\"fill:#00bfbf;\"/>\r\n   </g>\r\n   <g id=\"patch_5\">\r\n    <path clip-path=\"url(#p4bbaa34641)\" d=\"M 139.256929 282.096039 \r\nL 159.684018 282.096039 \r\nL 159.684018 182.888757 \r\nL 139.256929 182.888757 \r\nz\r\n\" style=\"fill:#00bfbf;\"/>\r\n   </g>\r\n   <g id=\"patch_6\">\r\n    <path clip-path=\"url(#p4bbaa34641)\" d=\"M 164.790791 282.096039 \r\nL 185.217881 282.096039 \r\nL 185.217881 192.204353 \r\nL 164.790791 192.204353 \r\nz\r\n\" style=\"fill:#00bfbf;\"/>\r\n   </g>\r\n   <g id=\"patch_7\">\r\n    <path clip-path=\"url(#p4bbaa34641)\" d=\"M 190.324653 282.096039 \r\nL 210.751743 282.096039 \r\nL 210.751743 204.576831 \r\nL 190.324653 204.576831 \r\nz\r\n\" style=\"fill:#00bfbf;\"/>\r\n   </g>\r\n   <g id=\"patch_8\">\r\n    <path clip-path=\"url(#p4bbaa34641)\" d=\"M 215.858515 282.096039 \r\nL 236.285605 282.096039 \r\nL 236.285605 211.75041 \r\nL 215.858515 211.75041 \r\nz\r\n\" style=\"fill:#00bfbf;\"/>\r\n   </g>\r\n   <g id=\"patch_9\">\r\n    <path clip-path=\"url(#p4bbaa34641)\" d=\"M 241.392377 282.096039 \r\nL 261.819467 282.096039 \r\nL 261.819467 233.088998 \r\nL 241.392377 233.088998 \r\nz\r\n\" style=\"fill:#00bfbf;\"/>\r\n   </g>\r\n   <g id=\"patch_10\">\r\n    <path clip-path=\"url(#p4bbaa34641)\" d=\"M 266.926239 282.096039 \r\nL 287.353329 282.096039 \r\nL 287.353329 237.008825 \r\nL 266.926239 237.008825 \r\nz\r\n\" style=\"fill:#00bfbf;\"/>\r\n   </g>\r\n   <g id=\"patch_11\">\r\n    <path clip-path=\"url(#p4bbaa34641)\" d=\"M 292.460101 282.096039 \r\nL 312.887191 282.096039 \r\nL 312.887191 240.150727 \r\nL 292.460101 240.150727 \r\nz\r\n\" style=\"fill:#00bfbf;\"/>\r\n   </g>\r\n   <g id=\"patch_12\">\r\n    <path clip-path=\"url(#p4bbaa34641)\" d=\"M 317.993964 282.096039 \r\nL 338.421053 282.096039 \r\nL 338.421053 240.295859 \r\nL 317.993964 240.295859 \r\nz\r\n\" style=\"fill:#00bfbf;\"/>\r\n   </g>\r\n   <g id=\"patch_13\">\r\n    <path clip-path=\"url(#p4bbaa34641)\" d=\"M 343.527826 282.096039 \r\nL 363.954915 282.096039 \r\nL 363.954915 243.667233 \r\nL 343.527826 243.667233 \r\nz\r\n\" style=\"fill:#00bfbf;\"/>\r\n   </g>\r\n   <g id=\"patch_14\">\r\n    <path clip-path=\"url(#p4bbaa34641)\" d=\"M 369.061688 282.096039 \r\nL 389.488777 282.096039 \r\nL 389.488777 243.81133 \r\nL 369.061688 243.81133 \r\nz\r\n\" style=\"fill:#00bfbf;\"/>\r\n   </g>\r\n   <g id=\"patch_15\">\r\n    <path clip-path=\"url(#p4bbaa34641)\" d=\"M 394.59555 282.096039 \r\nL 415.02264 282.096039 \r\nL 415.02264 246.020585 \r\nL 394.59555 246.020585 \r\nz\r\n\" style=\"fill:#00bfbf;\"/>\r\n   </g>\r\n   <g id=\"patch_16\">\r\n    <path clip-path=\"url(#p4bbaa34641)\" d=\"M 420.129412 282.096039 \r\nL 440.556502 282.096039 \r\nL 440.556502 247.646913 \r\nL 420.129412 247.646913 \r\nz\r\n\" style=\"fill:#00bfbf;\"/>\r\n   </g>\r\n   <g id=\"patch_17\">\r\n    <path clip-path=\"url(#p4bbaa34641)\" d=\"M 445.663274 282.096039 \r\nL 466.090364 282.096039 \r\nL 466.090364 253.785338 \r\nL 445.663274 253.785338 \r\nz\r\n\" style=\"fill:#00bfbf;\"/>\r\n   </g>\r\n   <g id=\"patch_18\">\r\n    <path clip-path=\"url(#p4bbaa34641)\" d=\"M 471.197136 282.096039 \r\nL 491.624226 282.096039 \r\nL 491.624226 258.153934 \r\nL 471.197136 258.153934 \r\nz\r\n\" style=\"fill:#00bfbf;\"/>\r\n   </g>\r\n   <g id=\"patch_19\">\r\n    <path clip-path=\"url(#p4bbaa34641)\" d=\"M 496.730998 282.096039 \r\nL 517.158088 282.096039 \r\nL 517.158088 258.420394 \r\nL 496.730998 258.420394 \r\nz\r\n\" style=\"fill:#00bfbf;\"/>\r\n   </g>\r\n   <g id=\"patch_20\">\r\n    <path clip-path=\"url(#p4bbaa34641)\" d=\"M 522.26486 282.096039 \r\nL 542.69195 282.096039 \r\nL 542.69195 271.919445 \r\nL 522.26486 271.919445 \r\nz\r\n\" style=\"fill:#00bfbf;\"/>\r\n   </g>\r\n   <g id=\"patch_21\">\r\n    <path clip-path=\"url(#p4bbaa34641)\" d=\"M 547.798723 282.096039 \r\nL 568.225812 282.096039 \r\nL 568.225812 272.468372 \r\nL 547.798723 272.468372 \r\nz\r\n\" style=\"fill:#00bfbf;\"/>\r\n   </g>\r\n   <g id=\"patch_22\">\r\n    <path clip-path=\"url(#p4bbaa34641)\" d=\"M 573.332585 282.096039 \r\nL 593.759674 282.096039 \r\nL 593.759674 274.976868 \r\nL 573.332585 274.976868 \r\nz\r\n\" style=\"fill:#00bfbf;\"/>\r\n   </g>\r\n   <g id=\"patch_23\">\r\n    <path clip-path=\"url(#p4bbaa34641)\" d=\"M 598.866447 282.096039 \r\nL 619.293536 282.096039 \r\nL 619.293536 276.425108 \r\nL 598.866447 276.425108 \r\nz\r\n\" style=\"fill:#00bfbf;\"/>\r\n   </g>\r\n   <g id=\"patch_24\">\r\n    <path clip-path=\"url(#p4bbaa34641)\" d=\"M 624.400309 282.096039 \r\nL 644.827399 282.096039 \r\nL 644.827399 278.540483 \r\nL 624.400309 278.540483 \r\nz\r\n\" style=\"fill:#00bfbf;\"/>\r\n   </g>\r\n   <g id=\"patch_25\">\r\n    <path clip-path=\"url(#p4bbaa34641)\" d=\"M 649.934171 282.096039 \r\nL 670.361261 282.096039 \r\nL 670.361261 278.667999 \r\nL 649.934171 278.667999 \r\nz\r\n\" style=\"fill:#00bfbf;\"/>\r\n   </g>\r\n   <g id=\"patch_26\">\r\n    <path clip-path=\"url(#p4bbaa34641)\" d=\"M 675.468033 282.096039 \r\nL 695.895123 282.096039 \r\nL 695.895123 278.684378 \r\nL 675.468033 278.684378 \r\nz\r\n\" style=\"fill:#00bfbf;\"/>\r\n   </g>\r\n   <g id=\"patch_27\">\r\n    <path clip-path=\"url(#p4bbaa34641)\" d=\"M 701.001895 282.096039 \r\nL 721.428985 282.096039 \r\nL 721.428985 279.322762 \r\nL 701.001895 279.322762 \r\nz\r\n\" style=\"fill:#00bfbf;\"/>\r\n   </g>\r\n   <g id=\"patch_28\">\r\n    <path clip-path=\"url(#p4bbaa34641)\" d=\"M 726.535757 282.096039 \r\nL 746.962847 282.096039 \r\nL 746.962847 280.231859 \r\nL 726.535757 280.231859 \r\nz\r\n\" style=\"fill:#00bfbf;\"/>\r\n   </g>\r\n   <g id=\"patch_29\">\r\n    <path clip-path=\"url(#p4bbaa34641)\" d=\"M 752.069619 282.096039 \r\nL 772.496709 282.096039 \r\nL 772.496709 280.3418 \r\nL 752.069619 280.3418 \r\nz\r\n\" style=\"fill:#00bfbf;\"/>\r\n   </g>\r\n   <g id=\"patch_30\">\r\n    <path clip-path=\"url(#p4bbaa34641)\" d=\"M 777.603482 282.096039 \r\nL 798.030571 282.096039 \r\nL 798.030571 280.694357 \r\nL 777.603482 280.694357 \r\nz\r\n\" style=\"fill:#00bfbf;\"/>\r\n   </g>\r\n   <g id=\"patch_31\">\r\n    <path clip-path=\"url(#p4bbaa34641)\" d=\"M 803.137344 282.096039 \r\nL 823.564433 282.096039 \r\nL 823.564433 281.194767 \r\nL 803.137344 281.194767 \r\nz\r\n\" style=\"fill:#00bfbf;\"/>\r\n   </g>\r\n   <g id=\"patch_32\">\r\n    <path clip-path=\"url(#p4bbaa34641)\" d=\"M 828.671206 282.096039 \r\nL 849.098295 282.096039 \r\nL 849.098295 282.263373 \r\nL 828.671206 282.263373 \r\nz\r\n\" style=\"fill:#00bfbf;\"/>\r\n   </g>\r\n   <g id=\"matplotlib.axis_1\">\r\n    <g id=\"xtick_1\">\r\n     <g id=\"line2d_1\">\r\n      <defs>\r\n       <path d=\"M 0 0 \r\nL 0 3.5 \r\n\" id=\"m7a0a69fb41\" style=\"stroke:#000000;stroke-width:0.8;\"/>\r\n      </defs>\r\n      <g>\r\n       <use style=\"stroke:#000000;stroke-width:0.8;\" x=\"98.402749\" xlink:href=\"#m7a0a69fb41\" y=\"295.637812\"/>\r\n      </g>\r\n     </g>\r\n     <g id=\"text_1\">\r\n      <!-- GraduationYear -->\r\n      <defs>\r\n       <path d=\"M 59.515625 10.40625 \r\nL 59.515625 29.984375 \r\nL 43.40625 29.984375 \r\nL 43.40625 38.09375 \r\nL 69.28125 38.09375 \r\nL 69.28125 6.78125 \r\nQ 63.578125 2.734375 56.6875 0.65625 \r\nQ 49.8125 -1.421875 42 -1.421875 \r\nQ 24.90625 -1.421875 15.25 8.5625 \r\nQ 5.609375 18.5625 5.609375 36.375 \r\nQ 5.609375 54.25 15.25 64.234375 \r\nQ 24.90625 74.21875 42 74.21875 \r\nQ 49.125 74.21875 55.546875 72.453125 \r\nQ 61.96875 70.703125 67.390625 67.28125 \r\nL 67.390625 56.78125 \r\nQ 61.921875 61.421875 55.765625 63.765625 \r\nQ 49.609375 66.109375 42.828125 66.109375 \r\nQ 29.4375 66.109375 22.71875 58.640625 \r\nQ 16.015625 51.171875 16.015625 36.375 \r\nQ 16.015625 21.625 22.71875 14.15625 \r\nQ 29.4375 6.6875 42.828125 6.6875 \r\nQ 48.046875 6.6875 52.140625 7.59375 \r\nQ 56.25 8.5 59.515625 10.40625 \r\nz\r\n\" id=\"DejaVuSans-71\"/>\r\n       <path d=\"M 41.109375 46.296875 \r\nQ 39.59375 47.171875 37.8125 47.578125 \r\nQ 36.03125 48 33.890625 48 \r\nQ 26.265625 48 22.1875 43.046875 \r\nQ 18.109375 38.09375 18.109375 28.8125 \r\nL 18.109375 0 \r\nL 9.078125 0 \r\nL 9.078125 54.6875 \r\nL 18.109375 54.6875 \r\nL 18.109375 46.1875 \r\nQ 20.953125 51.171875 25.484375 53.578125 \r\nQ 30.03125 56 36.53125 56 \r\nQ 37.453125 56 38.578125 55.875 \r\nQ 39.703125 55.765625 41.0625 55.515625 \r\nz\r\n\" id=\"DejaVuSans-114\"/>\r\n       <path d=\"M 34.28125 27.484375 \r\nQ 23.390625 27.484375 19.1875 25 \r\nQ 14.984375 22.515625 14.984375 16.5 \r\nQ 14.984375 11.71875 18.140625 8.90625 \r\nQ 21.296875 6.109375 26.703125 6.109375 \r\nQ 34.1875 6.109375 38.703125 11.40625 \r\nQ 43.21875 16.703125 43.21875 25.484375 \r\nL 43.21875 27.484375 \r\nz\r\nM 52.203125 31.203125 \r\nL 52.203125 0 \r\nL 43.21875 0 \r\nL 43.21875 8.296875 \r\nQ 40.140625 3.328125 35.546875 0.953125 \r\nQ 30.953125 -1.421875 24.3125 -1.421875 \r\nQ 15.921875 -1.421875 10.953125 3.296875 \r\nQ 6 8.015625 6 15.921875 \r\nQ 6 25.140625 12.171875 29.828125 \r\nQ 18.359375 34.515625 30.609375 34.515625 \r\nL 43.21875 34.515625 \r\nL 43.21875 35.40625 \r\nQ 43.21875 41.609375 39.140625 45 \r\nQ 35.0625 48.390625 27.6875 48.390625 \r\nQ 23 48.390625 18.546875 47.265625 \r\nQ 14.109375 46.140625 10.015625 43.890625 \r\nL 10.015625 52.203125 \r\nQ 14.9375 54.109375 19.578125 55.046875 \r\nQ 24.21875 56 28.609375 56 \r\nQ 40.484375 56 46.34375 49.84375 \r\nQ 52.203125 43.703125 52.203125 31.203125 \r\nz\r\n\" id=\"DejaVuSans-97\"/>\r\n       <path d=\"M 45.40625 46.390625 \r\nL 45.40625 75.984375 \r\nL 54.390625 75.984375 \r\nL 54.390625 0 \r\nL 45.40625 0 \r\nL 45.40625 8.203125 \r\nQ 42.578125 3.328125 38.25 0.953125 \r\nQ 33.9375 -1.421875 27.875 -1.421875 \r\nQ 17.96875 -1.421875 11.734375 6.484375 \r\nQ 5.515625 14.40625 5.515625 27.296875 \r\nQ 5.515625 40.1875 11.734375 48.09375 \r\nQ 17.96875 56 27.875 56 \r\nQ 33.9375 56 38.25 53.625 \r\nQ 42.578125 51.265625 45.40625 46.390625 \r\nz\r\nM 14.796875 27.296875 \r\nQ 14.796875 17.390625 18.875 11.75 \r\nQ 22.953125 6.109375 30.078125 6.109375 \r\nQ 37.203125 6.109375 41.296875 11.75 \r\nQ 45.40625 17.390625 45.40625 27.296875 \r\nQ 45.40625 37.203125 41.296875 42.84375 \r\nQ 37.203125 48.484375 30.078125 48.484375 \r\nQ 22.953125 48.484375 18.875 42.84375 \r\nQ 14.796875 37.203125 14.796875 27.296875 \r\nz\r\n\" id=\"DejaVuSans-100\"/>\r\n       <path d=\"M 8.5 21.578125 \r\nL 8.5 54.6875 \r\nL 17.484375 54.6875 \r\nL 17.484375 21.921875 \r\nQ 17.484375 14.15625 20.5 10.265625 \r\nQ 23.53125 6.390625 29.59375 6.390625 \r\nQ 36.859375 6.390625 41.078125 11.03125 \r\nQ 45.3125 15.671875 45.3125 23.6875 \r\nL 45.3125 54.6875 \r\nL 54.296875 54.6875 \r\nL 54.296875 0 \r\nL 45.3125 0 \r\nL 45.3125 8.40625 \r\nQ 42.046875 3.421875 37.71875 1 \r\nQ 33.40625 -1.421875 27.6875 -1.421875 \r\nQ 18.265625 -1.421875 13.375 4.4375 \r\nQ 8.5 10.296875 8.5 21.578125 \r\nz\r\nM 31.109375 56 \r\nz\r\n\" id=\"DejaVuSans-117\"/>\r\n       <path d=\"M 18.3125 70.21875 \r\nL 18.3125 54.6875 \r\nL 36.8125 54.6875 \r\nL 36.8125 47.703125 \r\nL 18.3125 47.703125 \r\nL 18.3125 18.015625 \r\nQ 18.3125 11.328125 20.140625 9.421875 \r\nQ 21.96875 7.515625 27.59375 7.515625 \r\nL 36.8125 7.515625 \r\nL 36.8125 0 \r\nL 27.59375 0 \r\nQ 17.1875 0 13.234375 3.875 \r\nQ 9.28125 7.765625 9.28125 18.015625 \r\nL 9.28125 47.703125 \r\nL 2.6875 47.703125 \r\nL 2.6875 54.6875 \r\nL 9.28125 54.6875 \r\nL 9.28125 70.21875 \r\nz\r\n\" id=\"DejaVuSans-116\"/>\r\n       <path d=\"M 9.421875 54.6875 \r\nL 18.40625 54.6875 \r\nL 18.40625 0 \r\nL 9.421875 0 \r\nz\r\nM 9.421875 75.984375 \r\nL 18.40625 75.984375 \r\nL 18.40625 64.59375 \r\nL 9.421875 64.59375 \r\nz\r\n\" id=\"DejaVuSans-105\"/>\r\n       <path d=\"M 30.609375 48.390625 \r\nQ 23.390625 48.390625 19.1875 42.75 \r\nQ 14.984375 37.109375 14.984375 27.296875 \r\nQ 14.984375 17.484375 19.15625 11.84375 \r\nQ 23.34375 6.203125 30.609375 6.203125 \r\nQ 37.796875 6.203125 41.984375 11.859375 \r\nQ 46.1875 17.53125 46.1875 27.296875 \r\nQ 46.1875 37.015625 41.984375 42.703125 \r\nQ 37.796875 48.390625 30.609375 48.390625 \r\nz\r\nM 30.609375 56 \r\nQ 42.328125 56 49.015625 48.375 \r\nQ 55.71875 40.765625 55.71875 27.296875 \r\nQ 55.71875 13.875 49.015625 6.21875 \r\nQ 42.328125 -1.421875 30.609375 -1.421875 \r\nQ 18.84375 -1.421875 12.171875 6.21875 \r\nQ 5.515625 13.875 5.515625 27.296875 \r\nQ 5.515625 40.765625 12.171875 48.375 \r\nQ 18.84375 56 30.609375 56 \r\nz\r\n\" id=\"DejaVuSans-111\"/>\r\n       <path d=\"M 54.890625 33.015625 \r\nL 54.890625 0 \r\nL 45.90625 0 \r\nL 45.90625 32.71875 \r\nQ 45.90625 40.484375 42.875 44.328125 \r\nQ 39.84375 48.1875 33.796875 48.1875 \r\nQ 26.515625 48.1875 22.3125 43.546875 \r\nQ 18.109375 38.921875 18.109375 30.90625 \r\nL 18.109375 0 \r\nL 9.078125 0 \r\nL 9.078125 54.6875 \r\nL 18.109375 54.6875 \r\nL 18.109375 46.1875 \r\nQ 21.34375 51.125 25.703125 53.5625 \r\nQ 30.078125 56 35.796875 56 \r\nQ 45.21875 56 50.046875 50.171875 \r\nQ 54.890625 44.34375 54.890625 33.015625 \r\nz\r\n\" id=\"DejaVuSans-110\"/>\r\n       <path d=\"M -0.203125 72.90625 \r\nL 10.40625 72.90625 \r\nL 30.609375 42.921875 \r\nL 50.6875 72.90625 \r\nL 61.28125 72.90625 \r\nL 35.5 34.71875 \r\nL 35.5 0 \r\nL 25.59375 0 \r\nL 25.59375 34.71875 \r\nz\r\n\" id=\"DejaVuSans-89\"/>\r\n       <path d=\"M 56.203125 29.59375 \r\nL 56.203125 25.203125 \r\nL 14.890625 25.203125 \r\nQ 15.484375 15.921875 20.484375 11.0625 \r\nQ 25.484375 6.203125 34.421875 6.203125 \r\nQ 39.59375 6.203125 44.453125 7.46875 \r\nQ 49.3125 8.734375 54.109375 11.28125 \r\nL 54.109375 2.78125 \r\nQ 49.265625 0.734375 44.1875 -0.34375 \r\nQ 39.109375 -1.421875 33.890625 -1.421875 \r\nQ 20.796875 -1.421875 13.15625 6.1875 \r\nQ 5.515625 13.8125 5.515625 26.8125 \r\nQ 5.515625 40.234375 12.765625 48.109375 \r\nQ 20.015625 56 32.328125 56 \r\nQ 43.359375 56 49.78125 48.890625 \r\nQ 56.203125 41.796875 56.203125 29.59375 \r\nz\r\nM 47.21875 32.234375 \r\nQ 47.125 39.59375 43.09375 43.984375 \r\nQ 39.0625 48.390625 32.421875 48.390625 \r\nQ 24.90625 48.390625 20.390625 44.140625 \r\nQ 15.875 39.890625 15.1875 32.171875 \r\nz\r\n\" id=\"DejaVuSans-101\"/>\r\n      </defs>\r\n      <g transform=\"translate(41.469605 363.473302)rotate(-45)scale(0.1 -0.1)\">\r\n       <use xlink:href=\"#DejaVuSans-71\"/>\r\n       <use x=\"77.490234\" xlink:href=\"#DejaVuSans-114\"/>\r\n       <use x=\"118.603516\" xlink:href=\"#DejaVuSans-97\"/>\r\n       <use x=\"179.882812\" xlink:href=\"#DejaVuSans-100\"/>\r\n       <use x=\"243.359375\" xlink:href=\"#DejaVuSans-117\"/>\r\n       <use x=\"306.738281\" xlink:href=\"#DejaVuSans-97\"/>\r\n       <use x=\"368.017578\" xlink:href=\"#DejaVuSans-116\"/>\r\n       <use x=\"407.226562\" xlink:href=\"#DejaVuSans-105\"/>\r\n       <use x=\"435.009766\" xlink:href=\"#DejaVuSans-111\"/>\r\n       <use x=\"496.191406\" xlink:href=\"#DejaVuSans-110\"/>\r\n       <use x=\"559.570312\" xlink:href=\"#DejaVuSans-89\"/>\r\n       <use x=\"620.451172\" xlink:href=\"#DejaVuSans-101\"/>\r\n       <use x=\"681.974609\" xlink:href=\"#DejaVuSans-97\"/>\r\n       <use x=\"743.253906\" xlink:href=\"#DejaVuSans-114\"/>\r\n      </g>\r\n     </g>\r\n    </g>\r\n    <g id=\"xtick_2\">\r\n     <g id=\"line2d_2\">\r\n      <g>\r\n       <use style=\"stroke:#000000;stroke-width:0.8;\" x=\"123.936612\" xlink:href=\"#m7a0a69fb41\" y=\"295.637812\"/>\r\n      </g>\r\n     </g>\r\n     <g id=\"text_2\">\r\n      <!-- Quant -->\r\n      <defs>\r\n       <path d=\"M 39.40625 66.21875 \r\nQ 28.65625 66.21875 22.328125 58.203125 \r\nQ 16.015625 50.203125 16.015625 36.375 \r\nQ 16.015625 22.609375 22.328125 14.59375 \r\nQ 28.65625 6.59375 39.40625 6.59375 \r\nQ 50.140625 6.59375 56.421875 14.59375 \r\nQ 62.703125 22.609375 62.703125 36.375 \r\nQ 62.703125 50.203125 56.421875 58.203125 \r\nQ 50.140625 66.21875 39.40625 66.21875 \r\nz\r\nM 53.21875 1.3125 \r\nL 66.21875 -12.890625 \r\nL 54.296875 -12.890625 \r\nL 43.5 -1.21875 \r\nQ 41.890625 -1.3125 41.03125 -1.359375 \r\nQ 40.1875 -1.421875 39.40625 -1.421875 \r\nQ 24.03125 -1.421875 14.8125 8.859375 \r\nQ 5.609375 19.140625 5.609375 36.375 \r\nQ 5.609375 53.65625 14.8125 63.9375 \r\nQ 24.03125 74.21875 39.40625 74.21875 \r\nQ 54.734375 74.21875 63.90625 63.9375 \r\nQ 73.09375 53.65625 73.09375 36.375 \r\nQ 73.09375 23.6875 67.984375 14.640625 \r\nQ 62.890625 5.609375 53.21875 1.3125 \r\nz\r\n\" id=\"DejaVuSans-81\"/>\r\n      </defs>\r\n      <g transform=\"translate(100.831897 329.644872)rotate(-45)scale(0.1 -0.1)\">\r\n       <use xlink:href=\"#DejaVuSans-81\"/>\r\n       <use x=\"78.710938\" xlink:href=\"#DejaVuSans-117\"/>\r\n       <use x=\"142.089844\" xlink:href=\"#DejaVuSans-97\"/>\r\n       <use x=\"203.369141\" xlink:href=\"#DejaVuSans-110\"/>\r\n       <use x=\"266.748047\" xlink:href=\"#DejaVuSans-116\"/>\r\n      </g>\r\n     </g>\r\n    </g>\r\n    <g id=\"xtick_3\">\r\n     <g id=\"line2d_3\">\r\n      <g>\r\n       <use style=\"stroke:#000000;stroke-width:0.8;\" x=\"149.470474\" xlink:href=\"#m7a0a69fb41\" y=\"295.637812\"/>\r\n      </g>\r\n     </g>\r\n     <g id=\"text_3\">\r\n      <!-- collegeGPA -->\r\n      <defs>\r\n       <path d=\"M 48.78125 52.59375 \r\nL 48.78125 44.1875 \r\nQ 44.96875 46.296875 41.140625 47.34375 \r\nQ 37.3125 48.390625 33.40625 48.390625 \r\nQ 24.65625 48.390625 19.8125 42.84375 \r\nQ 14.984375 37.3125 14.984375 27.296875 \r\nQ 14.984375 17.28125 19.8125 11.734375 \r\nQ 24.65625 6.203125 33.40625 6.203125 \r\nQ 37.3125 6.203125 41.140625 7.25 \r\nQ 44.96875 8.296875 48.78125 10.40625 \r\nL 48.78125 2.09375 \r\nQ 45.015625 0.34375 40.984375 -0.53125 \r\nQ 36.96875 -1.421875 32.421875 -1.421875 \r\nQ 20.0625 -1.421875 12.78125 6.34375 \r\nQ 5.515625 14.109375 5.515625 27.296875 \r\nQ 5.515625 40.671875 12.859375 48.328125 \r\nQ 20.21875 56 33.015625 56 \r\nQ 37.15625 56 41.109375 55.140625 \r\nQ 45.0625 54.296875 48.78125 52.59375 \r\nz\r\n\" id=\"DejaVuSans-99\"/>\r\n       <path d=\"M 9.421875 75.984375 \r\nL 18.40625 75.984375 \r\nL 18.40625 0 \r\nL 9.421875 0 \r\nz\r\n\" id=\"DejaVuSans-108\"/>\r\n       <path d=\"M 45.40625 27.984375 \r\nQ 45.40625 37.75 41.375 43.109375 \r\nQ 37.359375 48.484375 30.078125 48.484375 \r\nQ 22.859375 48.484375 18.828125 43.109375 \r\nQ 14.796875 37.75 14.796875 27.984375 \r\nQ 14.796875 18.265625 18.828125 12.890625 \r\nQ 22.859375 7.515625 30.078125 7.515625 \r\nQ 37.359375 7.515625 41.375 12.890625 \r\nQ 45.40625 18.265625 45.40625 27.984375 \r\nz\r\nM 54.390625 6.78125 \r\nQ 54.390625 -7.171875 48.1875 -13.984375 \r\nQ 42 -20.796875 29.203125 -20.796875 \r\nQ 24.46875 -20.796875 20.265625 -20.09375 \r\nQ 16.0625 -19.390625 12.109375 -17.921875 \r\nL 12.109375 -9.1875 \r\nQ 16.0625 -11.328125 19.921875 -12.34375 \r\nQ 23.78125 -13.375 27.78125 -13.375 \r\nQ 36.625 -13.375 41.015625 -8.765625 \r\nQ 45.40625 -4.15625 45.40625 5.171875 \r\nL 45.40625 9.625 \r\nQ 42.625 4.78125 38.28125 2.390625 \r\nQ 33.9375 0 27.875 0 \r\nQ 17.828125 0 11.671875 7.65625 \r\nQ 5.515625 15.328125 5.515625 27.984375 \r\nQ 5.515625 40.671875 11.671875 48.328125 \r\nQ 17.828125 56 27.875 56 \r\nQ 33.9375 56 38.28125 53.609375 \r\nQ 42.625 51.21875 45.40625 46.390625 \r\nL 45.40625 54.6875 \r\nL 54.390625 54.6875 \r\nz\r\n\" id=\"DejaVuSans-103\"/>\r\n       <path d=\"M 19.671875 64.796875 \r\nL 19.671875 37.40625 \r\nL 32.078125 37.40625 \r\nQ 38.96875 37.40625 42.71875 40.96875 \r\nQ 46.484375 44.53125 46.484375 51.125 \r\nQ 46.484375 57.671875 42.71875 61.234375 \r\nQ 38.96875 64.796875 32.078125 64.796875 \r\nz\r\nM 9.8125 72.90625 \r\nL 32.078125 72.90625 \r\nQ 44.34375 72.90625 50.609375 67.359375 \r\nQ 56.890625 61.8125 56.890625 51.125 \r\nQ 56.890625 40.328125 50.609375 34.8125 \r\nQ 44.34375 29.296875 32.078125 29.296875 \r\nL 19.671875 29.296875 \r\nL 19.671875 0 \r\nL 9.8125 0 \r\nz\r\n\" id=\"DejaVuSans-80\"/>\r\n       <path d=\"M 34.1875 63.1875 \r\nL 20.796875 26.90625 \r\nL 47.609375 26.90625 \r\nz\r\nM 28.609375 72.90625 \r\nL 39.796875 72.90625 \r\nL 67.578125 0 \r\nL 57.328125 0 \r\nL 50.6875 18.703125 \r\nL 17.828125 18.703125 \r\nL 11.1875 0 \r\nL 0.78125 0 \r\nz\r\n\" id=\"DejaVuSans-65\"/>\r\n      </defs>\r\n      <g transform=\"translate(108.092574 347.918058)rotate(-45)scale(0.1 -0.1)\">\r\n       <use xlink:href=\"#DejaVuSans-99\"/>\r\n       <use x=\"54.980469\" xlink:href=\"#DejaVuSans-111\"/>\r\n       <use x=\"116.162109\" xlink:href=\"#DejaVuSans-108\"/>\r\n       <use x=\"143.945312\" xlink:href=\"#DejaVuSans-108\"/>\r\n       <use x=\"171.728516\" xlink:href=\"#DejaVuSans-101\"/>\r\n       <use x=\"233.251953\" xlink:href=\"#DejaVuSans-103\"/>\r\n       <use x=\"296.728516\" xlink:href=\"#DejaVuSans-101\"/>\r\n       <use x=\"358.251953\" xlink:href=\"#DejaVuSans-71\"/>\r\n       <use x=\"435.742188\" xlink:href=\"#DejaVuSans-80\"/>\r\n       <use x=\"495.951172\" xlink:href=\"#DejaVuSans-65\"/>\r\n      </g>\r\n     </g>\r\n    </g>\r\n    <g id=\"xtick_4\">\r\n     <g id=\"line2d_4\">\r\n      <g>\r\n       <use style=\"stroke:#000000;stroke-width:0.8;\" x=\"175.004336\" xlink:href=\"#m7a0a69fb41\" y=\"295.637812\"/>\r\n      </g>\r\n     </g>\r\n     <g id=\"text_4\">\r\n      <!-- 12percentage -->\r\n      <defs>\r\n       <path d=\"M 12.40625 8.296875 \r\nL 28.515625 8.296875 \r\nL 28.515625 63.921875 \r\nL 10.984375 60.40625 \r\nL 10.984375 69.390625 \r\nL 28.421875 72.90625 \r\nL 38.28125 72.90625 \r\nL 38.28125 8.296875 \r\nL 54.390625 8.296875 \r\nL 54.390625 0 \r\nL 12.40625 0 \r\nz\r\n\" id=\"DejaVuSans-49\"/>\r\n       <path d=\"M 19.1875 8.296875 \r\nL 53.609375 8.296875 \r\nL 53.609375 0 \r\nL 7.328125 0 \r\nL 7.328125 8.296875 \r\nQ 12.9375 14.109375 22.625 23.890625 \r\nQ 32.328125 33.6875 34.8125 36.53125 \r\nQ 39.546875 41.84375 41.421875 45.53125 \r\nQ 43.3125 49.21875 43.3125 52.78125 \r\nQ 43.3125 58.59375 39.234375 62.25 \r\nQ 35.15625 65.921875 28.609375 65.921875 \r\nQ 23.96875 65.921875 18.8125 64.3125 \r\nQ 13.671875 62.703125 7.8125 59.421875 \r\nL 7.8125 69.390625 \r\nQ 13.765625 71.78125 18.9375 73 \r\nQ 24.125 74.21875 28.421875 74.21875 \r\nQ 39.75 74.21875 46.484375 68.546875 \r\nQ 53.21875 62.890625 53.21875 53.421875 \r\nQ 53.21875 48.921875 51.53125 44.890625 \r\nQ 49.859375 40.875 45.40625 35.40625 \r\nQ 44.1875 33.984375 37.640625 27.21875 \r\nQ 31.109375 20.453125 19.1875 8.296875 \r\nz\r\n\" id=\"DejaVuSans-50\"/>\r\n       <path d=\"M 18.109375 8.203125 \r\nL 18.109375 -20.796875 \r\nL 9.078125 -20.796875 \r\nL 9.078125 54.6875 \r\nL 18.109375 54.6875 \r\nL 18.109375 46.390625 \r\nQ 20.953125 51.265625 25.265625 53.625 \r\nQ 29.59375 56 35.59375 56 \r\nQ 45.5625 56 51.78125 48.09375 \r\nQ 58.015625 40.1875 58.015625 27.296875 \r\nQ 58.015625 14.40625 51.78125 6.484375 \r\nQ 45.5625 -1.421875 35.59375 -1.421875 \r\nQ 29.59375 -1.421875 25.265625 0.953125 \r\nQ 20.953125 3.328125 18.109375 8.203125 \r\nz\r\nM 48.6875 27.296875 \r\nQ 48.6875 37.203125 44.609375 42.84375 \r\nQ 40.53125 48.484375 33.40625 48.484375 \r\nQ 26.265625 48.484375 22.1875 42.84375 \r\nQ 18.109375 37.203125 18.109375 27.296875 \r\nQ 18.109375 17.390625 22.1875 11.75 \r\nQ 26.265625 6.109375 33.40625 6.109375 \r\nQ 40.53125 6.109375 44.609375 11.75 \r\nQ 48.6875 17.390625 48.6875 27.296875 \r\nz\r\n\" id=\"DejaVuSans-112\"/>\r\n      </defs>\r\n      <g transform=\"translate(124.125793 357.418701)rotate(-45)scale(0.1 -0.1)\">\r\n       <use xlink:href=\"#DejaVuSans-49\"/>\r\n       <use x=\"63.623047\" xlink:href=\"#DejaVuSans-50\"/>\r\n       <use x=\"127.246094\" xlink:href=\"#DejaVuSans-112\"/>\r\n       <use x=\"190.722656\" xlink:href=\"#DejaVuSans-101\"/>\r\n       <use x=\"252.246094\" xlink:href=\"#DejaVuSans-114\"/>\r\n       <use x=\"293.328125\" xlink:href=\"#DejaVuSans-99\"/>\r\n       <use x=\"348.308594\" xlink:href=\"#DejaVuSans-101\"/>\r\n       <use x=\"409.832031\" xlink:href=\"#DejaVuSans-110\"/>\r\n       <use x=\"473.210938\" xlink:href=\"#DejaVuSans-116\"/>\r\n       <use x=\"512.419922\" xlink:href=\"#DejaVuSans-97\"/>\r\n       <use x=\"573.699219\" xlink:href=\"#DejaVuSans-103\"/>\r\n       <use x=\"637.175781\" xlink:href=\"#DejaVuSans-101\"/>\r\n      </g>\r\n     </g>\r\n    </g>\r\n    <g id=\"xtick_5\">\r\n     <g id=\"line2d_5\">\r\n      <g>\r\n       <use style=\"stroke:#000000;stroke-width:0.8;\" x=\"200.538198\" xlink:href=\"#m7a0a69fb41\" y=\"295.637812\"/>\r\n      </g>\r\n     </g>\r\n     <g id=\"text_5\">\r\n      <!-- CollegeState -->\r\n      <defs>\r\n       <path d=\"M 64.40625 67.28125 \r\nL 64.40625 56.890625 \r\nQ 59.421875 61.53125 53.78125 63.8125 \r\nQ 48.140625 66.109375 41.796875 66.109375 \r\nQ 29.296875 66.109375 22.65625 58.46875 \r\nQ 16.015625 50.828125 16.015625 36.375 \r\nQ 16.015625 21.96875 22.65625 14.328125 \r\nQ 29.296875 6.6875 41.796875 6.6875 \r\nQ 48.140625 6.6875 53.78125 8.984375 \r\nQ 59.421875 11.28125 64.40625 15.921875 \r\nL 64.40625 5.609375 \r\nQ 59.234375 2.09375 53.4375 0.328125 \r\nQ 47.65625 -1.421875 41.21875 -1.421875 \r\nQ 24.65625 -1.421875 15.125 8.703125 \r\nQ 5.609375 18.84375 5.609375 36.375 \r\nQ 5.609375 53.953125 15.125 64.078125 \r\nQ 24.65625 74.21875 41.21875 74.21875 \r\nQ 47.75 74.21875 53.53125 72.484375 \r\nQ 59.328125 70.75 64.40625 67.28125 \r\nz\r\n\" id=\"DejaVuSans-67\"/>\r\n       <path d=\"M 53.515625 70.515625 \r\nL 53.515625 60.890625 \r\nQ 47.90625 63.578125 42.921875 64.890625 \r\nQ 37.9375 66.21875 33.296875 66.21875 \r\nQ 25.25 66.21875 20.875 63.09375 \r\nQ 16.5 59.96875 16.5 54.203125 \r\nQ 16.5 49.359375 19.40625 46.890625 \r\nQ 22.3125 44.4375 30.421875 42.921875 \r\nL 36.375 41.703125 \r\nQ 47.40625 39.59375 52.65625 34.296875 \r\nQ 57.90625 29 57.90625 20.125 \r\nQ 57.90625 9.515625 50.796875 4.046875 \r\nQ 43.703125 -1.421875 29.984375 -1.421875 \r\nQ 24.8125 -1.421875 18.96875 -0.25 \r\nQ 13.140625 0.921875 6.890625 3.21875 \r\nL 6.890625 13.375 \r\nQ 12.890625 10.015625 18.65625 8.296875 \r\nQ 24.421875 6.59375 29.984375 6.59375 \r\nQ 38.421875 6.59375 43.015625 9.90625 \r\nQ 47.609375 13.234375 47.609375 19.390625 \r\nQ 47.609375 24.75 44.3125 27.78125 \r\nQ 41.015625 30.8125 33.5 32.328125 \r\nL 27.484375 33.5 \r\nQ 16.453125 35.6875 11.515625 40.375 \r\nQ 6.59375 45.0625 6.59375 53.421875 \r\nQ 6.59375 63.09375 13.40625 68.65625 \r\nQ 20.21875 74.21875 32.171875 74.21875 \r\nQ 37.3125 74.21875 42.625 73.28125 \r\nQ 47.953125 72.359375 53.515625 70.515625 \r\nz\r\n\" id=\"DejaVuSans-83\"/>\r\n      </defs>\r\n      <g transform=\"translate(153.966377 353.111978)rotate(-45)scale(0.1 -0.1)\">\r\n       <use xlink:href=\"#DejaVuSans-67\"/>\r\n       <use x=\"69.824219\" xlink:href=\"#DejaVuSans-111\"/>\r\n       <use x=\"131.005859\" xlink:href=\"#DejaVuSans-108\"/>\r\n       <use x=\"158.789062\" xlink:href=\"#DejaVuSans-108\"/>\r\n       <use x=\"186.572266\" xlink:href=\"#DejaVuSans-101\"/>\r\n       <use x=\"248.095703\" xlink:href=\"#DejaVuSans-103\"/>\r\n       <use x=\"311.572266\" xlink:href=\"#DejaVuSans-101\"/>\r\n       <use x=\"373.095703\" xlink:href=\"#DejaVuSans-83\"/>\r\n       <use x=\"436.572266\" xlink:href=\"#DejaVuSans-116\"/>\r\n       <use x=\"475.78125\" xlink:href=\"#DejaVuSans-97\"/>\r\n       <use x=\"537.060547\" xlink:href=\"#DejaVuSans-116\"/>\r\n       <use x=\"576.269531\" xlink:href=\"#DejaVuSans-101\"/>\r\n      </g>\r\n     </g>\r\n    </g>\r\n    <g id=\"xtick_6\">\r\n     <g id=\"line2d_6\">\r\n      <g>\r\n       <use style=\"stroke:#000000;stroke-width:0.8;\" x=\"226.07206\" xlink:href=\"#m7a0a69fb41\" y=\"295.637812\"/>\r\n      </g>\r\n     </g>\r\n     <g id=\"text_6\">\r\n      <!-- English -->\r\n      <defs>\r\n       <path d=\"M 9.8125 72.90625 \r\nL 55.90625 72.90625 \r\nL 55.90625 64.59375 \r\nL 19.671875 64.59375 \r\nL 19.671875 43.015625 \r\nL 54.390625 43.015625 \r\nL 54.390625 34.71875 \r\nL 19.671875 34.71875 \r\nL 19.671875 8.296875 \r\nL 56.78125 8.296875 \r\nL 56.78125 0 \r\nL 9.8125 0 \r\nz\r\n\" id=\"DejaVuSans-69\"/>\r\n       <path d=\"M 44.28125 53.078125 \r\nL 44.28125 44.578125 \r\nQ 40.484375 46.53125 36.375 47.5 \r\nQ 32.28125 48.484375 27.875 48.484375 \r\nQ 21.1875 48.484375 17.84375 46.4375 \r\nQ 14.5 44.390625 14.5 40.28125 \r\nQ 14.5 37.15625 16.890625 35.375 \r\nQ 19.28125 33.59375 26.515625 31.984375 \r\nL 29.59375 31.296875 \r\nQ 39.15625 29.25 43.1875 25.515625 \r\nQ 47.21875 21.78125 47.21875 15.09375 \r\nQ 47.21875 7.46875 41.1875 3.015625 \r\nQ 35.15625 -1.421875 24.609375 -1.421875 \r\nQ 20.21875 -1.421875 15.453125 -0.5625 \r\nQ 10.6875 0.296875 5.421875 2 \r\nL 5.421875 11.28125 \r\nQ 10.40625 8.6875 15.234375 7.390625 \r\nQ 20.0625 6.109375 24.8125 6.109375 \r\nQ 31.15625 6.109375 34.5625 8.28125 \r\nQ 37.984375 10.453125 37.984375 14.40625 \r\nQ 37.984375 18.0625 35.515625 20.015625 \r\nQ 33.0625 21.96875 24.703125 23.78125 \r\nL 21.578125 24.515625 \r\nQ 13.234375 26.265625 9.515625 29.90625 \r\nQ 5.8125 33.546875 5.8125 39.890625 \r\nQ 5.8125 47.609375 11.28125 51.796875 \r\nQ 16.75 56 26.8125 56 \r\nQ 31.78125 56 36.171875 55.265625 \r\nQ 40.578125 54.546875 44.28125 53.078125 \r\nz\r\n\" id=\"DejaVuSans-115\"/>\r\n       <path d=\"M 54.890625 33.015625 \r\nL 54.890625 0 \r\nL 45.90625 0 \r\nL 45.90625 32.71875 \r\nQ 45.90625 40.484375 42.875 44.328125 \r\nQ 39.84375 48.1875 33.796875 48.1875 \r\nQ 26.515625 48.1875 22.3125 43.546875 \r\nQ 18.109375 38.921875 18.109375 30.90625 \r\nL 18.109375 0 \r\nL 9.078125 0 \r\nL 9.078125 75.984375 \r\nL 18.109375 75.984375 \r\nL 18.109375 46.1875 \r\nQ 21.34375 51.125 25.703125 53.5625 \r\nQ 30.078125 56 35.796875 56 \r\nQ 45.21875 56 50.046875 50.171875 \r\nQ 54.890625 44.34375 54.890625 33.015625 \r\nz\r\n\" id=\"DejaVuSans-104\"/>\r\n      </defs>\r\n      <g transform=\"translate(199.06942 333.542798)rotate(-45)scale(0.1 -0.1)\">\r\n       <use xlink:href=\"#DejaVuSans-69\"/>\r\n       <use x=\"63.183594\" xlink:href=\"#DejaVuSans-110\"/>\r\n       <use x=\"126.5625\" xlink:href=\"#DejaVuSans-103\"/>\r\n       <use x=\"190.039062\" xlink:href=\"#DejaVuSans-108\"/>\r\n       <use x=\"217.822266\" xlink:href=\"#DejaVuSans-105\"/>\r\n       <use x=\"245.605469\" xlink:href=\"#DejaVuSans-115\"/>\r\n       <use x=\"297.705078\" xlink:href=\"#DejaVuSans-104\"/>\r\n      </g>\r\n     </g>\r\n    </g>\r\n    <g id=\"xtick_7\">\r\n     <g id=\"line2d_7\">\r\n      <g>\r\n       <use style=\"stroke:#000000;stroke-width:0.8;\" x=\"251.605922\" xlink:href=\"#m7a0a69fb41\" y=\"295.637812\"/>\r\n      </g>\r\n     </g>\r\n     <g id=\"text_7\">\r\n      <!-- 10percentage -->\r\n      <defs>\r\n       <path d=\"M 31.78125 66.40625 \r\nQ 24.171875 66.40625 20.328125 58.90625 \r\nQ 16.5 51.421875 16.5 36.375 \r\nQ 16.5 21.390625 20.328125 13.890625 \r\nQ 24.171875 6.390625 31.78125 6.390625 \r\nQ 39.453125 6.390625 43.28125 13.890625 \r\nQ 47.125 21.390625 47.125 36.375 \r\nQ 47.125 51.421875 43.28125 58.90625 \r\nQ 39.453125 66.40625 31.78125 66.40625 \r\nz\r\nM 31.78125 74.21875 \r\nQ 44.046875 74.21875 50.515625 64.515625 \r\nQ 56.984375 54.828125 56.984375 36.375 \r\nQ 56.984375 17.96875 50.515625 8.265625 \r\nQ 44.046875 -1.421875 31.78125 -1.421875 \r\nQ 19.53125 -1.421875 13.0625 8.265625 \r\nQ 6.59375 17.96875 6.59375 36.375 \r\nQ 6.59375 54.828125 13.0625 64.515625 \r\nQ 19.53125 74.21875 31.78125 74.21875 \r\nz\r\n\" id=\"DejaVuSans-48\"/>\r\n      </defs>\r\n      <g transform=\"translate(200.727379 357.418701)rotate(-45)scale(0.1 -0.1)\">\r\n       <use xlink:href=\"#DejaVuSans-49\"/>\r\n       <use x=\"63.623047\" xlink:href=\"#DejaVuSans-48\"/>\r\n       <use x=\"127.246094\" xlink:href=\"#DejaVuSans-112\"/>\r\n       <use x=\"190.722656\" xlink:href=\"#DejaVuSans-101\"/>\r\n       <use x=\"252.246094\" xlink:href=\"#DejaVuSans-114\"/>\r\n       <use x=\"293.328125\" xlink:href=\"#DejaVuSans-99\"/>\r\n       <use x=\"348.308594\" xlink:href=\"#DejaVuSans-101\"/>\r\n       <use x=\"409.832031\" xlink:href=\"#DejaVuSans-110\"/>\r\n       <use x=\"473.210938\" xlink:href=\"#DejaVuSans-116\"/>\r\n       <use x=\"512.419922\" xlink:href=\"#DejaVuSans-97\"/>\r\n       <use x=\"573.699219\" xlink:href=\"#DejaVuSans-103\"/>\r\n       <use x=\"637.175781\" xlink:href=\"#DejaVuSans-101\"/>\r\n      </g>\r\n     </g>\r\n    </g>\r\n    <g id=\"xtick_8\">\r\n     <g id=\"line2d_8\">\r\n      <g>\r\n       <use style=\"stroke:#000000;stroke-width:0.8;\" x=\"277.139784\" xlink:href=\"#m7a0a69fb41\" y=\"295.637812\"/>\r\n      </g>\r\n     </g>\r\n     <g id=\"text_8\">\r\n      <!-- CollegeTier -->\r\n      <defs>\r\n       <path d=\"M -0.296875 72.90625 \r\nL 61.375 72.90625 \r\nL 61.375 64.59375 \r\nL 35.5 64.59375 \r\nL 35.5 0 \r\nL 25.59375 0 \r\nL 25.59375 64.59375 \r\nL -0.296875 64.59375 \r\nz\r\n\" id=\"DejaVuSans-84\"/>\r\n      </defs>\r\n      <g transform=\"translate(235.747521 347.932421)rotate(-45)scale(0.1 -0.1)\">\r\n       <use xlink:href=\"#DejaVuSans-67\"/>\r\n       <use x=\"69.824219\" xlink:href=\"#DejaVuSans-111\"/>\r\n       <use x=\"131.005859\" xlink:href=\"#DejaVuSans-108\"/>\r\n       <use x=\"158.789062\" xlink:href=\"#DejaVuSans-108\"/>\r\n       <use x=\"186.572266\" xlink:href=\"#DejaVuSans-101\"/>\r\n       <use x=\"248.095703\" xlink:href=\"#DejaVuSans-103\"/>\r\n       <use x=\"311.572266\" xlink:href=\"#DejaVuSans-101\"/>\r\n       <use x=\"373.095703\" xlink:href=\"#DejaVuSans-84\"/>\r\n       <use x=\"434.132812\" xlink:href=\"#DejaVuSans-105\"/>\r\n       <use x=\"461.916016\" xlink:href=\"#DejaVuSans-101\"/>\r\n       <use x=\"523.439453\" xlink:href=\"#DejaVuSans-114\"/>\r\n      </g>\r\n     </g>\r\n    </g>\r\n    <g id=\"xtick_9\">\r\n     <g id=\"line2d_9\">\r\n      <g>\r\n       <use style=\"stroke:#000000;stroke-width:0.8;\" x=\"302.673646\" xlink:href=\"#m7a0a69fb41\" y=\"295.637812\"/>\r\n      </g>\r\n     </g>\r\n     <g id=\"text_9\">\r\n      <!-- Gender -->\r\n      <g transform=\"translate(275.145095 334.068709)rotate(-45)scale(0.1 -0.1)\">\r\n       <use xlink:href=\"#DejaVuSans-71\"/>\r\n       <use x=\"77.490234\" xlink:href=\"#DejaVuSans-101\"/>\r\n       <use x=\"139.013672\" xlink:href=\"#DejaVuSans-110\"/>\r\n       <use x=\"202.392578\" xlink:href=\"#DejaVuSans-100\"/>\r\n       <use x=\"265.869141\" xlink:href=\"#DejaVuSans-101\"/>\r\n       <use x=\"327.392578\" xlink:href=\"#DejaVuSans-114\"/>\r\n      </g>\r\n     </g>\r\n    </g>\r\n    <g id=\"xtick_10\">\r\n     <g id=\"line2d_10\">\r\n      <g>\r\n       <use style=\"stroke:#000000;stroke-width:0.8;\" x=\"328.207508\" xlink:href=\"#m7a0a69fb41\" y=\"295.637812\"/>\r\n      </g>\r\n     </g>\r\n     <g id=\"text_10\">\r\n      <!-- ComputerProgramming -->\r\n      <defs>\r\n       <path d=\"M 52 44.1875 \r\nQ 55.375 50.25 60.0625 53.125 \r\nQ 64.75 56 71.09375 56 \r\nQ 79.640625 56 84.28125 50.015625 \r\nQ 88.921875 44.046875 88.921875 33.015625 \r\nL 88.921875 0 \r\nL 79.890625 0 \r\nL 79.890625 32.71875 \r\nQ 79.890625 40.578125 77.09375 44.375 \r\nQ 74.3125 48.1875 68.609375 48.1875 \r\nQ 61.625 48.1875 57.5625 43.546875 \r\nQ 53.515625 38.921875 53.515625 30.90625 \r\nL 53.515625 0 \r\nL 44.484375 0 \r\nL 44.484375 32.71875 \r\nQ 44.484375 40.625 41.703125 44.40625 \r\nQ 38.921875 48.1875 33.109375 48.1875 \r\nQ 26.21875 48.1875 22.15625 43.53125 \r\nQ 18.109375 38.875 18.109375 30.90625 \r\nL 18.109375 0 \r\nL 9.078125 0 \r\nL 9.078125 54.6875 \r\nL 18.109375 54.6875 \r\nL 18.109375 46.1875 \r\nQ 21.1875 51.21875 25.484375 53.609375 \r\nQ 29.78125 56 35.6875 56 \r\nQ 41.65625 56 45.828125 52.96875 \r\nQ 50 49.953125 52 44.1875 \r\nz\r\n\" id=\"DejaVuSans-109\"/>\r\n      </defs>\r\n      <g transform=\"translate(243.6519 391.095766)rotate(-45)scale(0.1 -0.1)\">\r\n       <use xlink:href=\"#DejaVuSans-67\"/>\r\n       <use x=\"69.824219\" xlink:href=\"#DejaVuSans-111\"/>\r\n       <use x=\"131.005859\" xlink:href=\"#DejaVuSans-109\"/>\r\n       <use x=\"228.417969\" xlink:href=\"#DejaVuSans-112\"/>\r\n       <use x=\"291.894531\" xlink:href=\"#DejaVuSans-117\"/>\r\n       <use x=\"355.273438\" xlink:href=\"#DejaVuSans-116\"/>\r\n       <use x=\"394.482422\" xlink:href=\"#DejaVuSans-101\"/>\r\n       <use x=\"456.005859\" xlink:href=\"#DejaVuSans-114\"/>\r\n       <use x=\"497.119141\" xlink:href=\"#DejaVuSans-80\"/>\r\n       <use x=\"557.40625\" xlink:href=\"#DejaVuSans-114\"/>\r\n       <use x=\"598.488281\" xlink:href=\"#DejaVuSans-111\"/>\r\n       <use x=\"659.669922\" xlink:href=\"#DejaVuSans-103\"/>\r\n       <use x=\"723.146484\" xlink:href=\"#DejaVuSans-114\"/>\r\n       <use x=\"764.259766\" xlink:href=\"#DejaVuSans-97\"/>\r\n       <use x=\"825.539062\" xlink:href=\"#DejaVuSans-109\"/>\r\n       <use x=\"922.951172\" xlink:href=\"#DejaVuSans-109\"/>\r\n       <use x=\"1020.363281\" xlink:href=\"#DejaVuSans-105\"/>\r\n       <use x=\"1048.146484\" xlink:href=\"#DejaVuSans-110\"/>\r\n       <use x=\"1111.525391\" xlink:href=\"#DejaVuSans-103\"/>\r\n      </g>\r\n     </g>\r\n    </g>\r\n    <g id=\"xtick_11\">\r\n     <g id=\"line2d_11\">\r\n      <g>\r\n       <use style=\"stroke:#000000;stroke-width:0.8;\" x=\"353.741371\" xlink:href=\"#m7a0a69fb41\" y=\"295.637812\"/>\r\n      </g>\r\n     </g>\r\n     <g id=\"text_11\">\r\n      <!-- ComputerScience -->\r\n      <g transform=\"translate(289.706222 370.575306)rotate(-45)scale(0.1 -0.1)\">\r\n       <use xlink:href=\"#DejaVuSans-67\"/>\r\n       <use x=\"69.824219\" xlink:href=\"#DejaVuSans-111\"/>\r\n       <use x=\"131.005859\" xlink:href=\"#DejaVuSans-109\"/>\r\n       <use x=\"228.417969\" xlink:href=\"#DejaVuSans-112\"/>\r\n       <use x=\"291.894531\" xlink:href=\"#DejaVuSans-117\"/>\r\n       <use x=\"355.273438\" xlink:href=\"#DejaVuSans-116\"/>\r\n       <use x=\"394.482422\" xlink:href=\"#DejaVuSans-101\"/>\r\n       <use x=\"456.005859\" xlink:href=\"#DejaVuSans-114\"/>\r\n       <use x=\"497.119141\" xlink:href=\"#DejaVuSans-83\"/>\r\n       <use x=\"560.595703\" xlink:href=\"#DejaVuSans-99\"/>\r\n       <use x=\"615.576172\" xlink:href=\"#DejaVuSans-105\"/>\r\n       <use x=\"643.359375\" xlink:href=\"#DejaVuSans-101\"/>\r\n       <use x=\"704.882812\" xlink:href=\"#DejaVuSans-110\"/>\r\n       <use x=\"768.261719\" xlink:href=\"#DejaVuSans-99\"/>\r\n       <use x=\"823.242188\" xlink:href=\"#DejaVuSans-101\"/>\r\n      </g>\r\n     </g>\r\n    </g>\r\n    <g id=\"xtick_12\">\r\n     <g id=\"line2d_12\">\r\n      <g>\r\n       <use style=\"stroke:#000000;stroke-width:0.8;\" x=\"379.275233\" xlink:href=\"#m7a0a69fb41\" y=\"295.637812\"/>\r\n      </g>\r\n     </g>\r\n     <g id=\"text_12\">\r\n      <!-- Specialization -->\r\n      <defs>\r\n       <path d=\"M 5.515625 54.6875 \r\nL 48.1875 54.6875 \r\nL 48.1875 46.484375 \r\nL 14.40625 7.171875 \r\nL 48.1875 7.171875 \r\nL 48.1875 0 \r\nL 4.296875 0 \r\nL 4.296875 8.203125 \r\nL 38.09375 47.515625 \r\nL 5.515625 47.515625 \r\nz\r\n\" id=\"DejaVuSans-122\"/>\r\n      </defs>\r\n      <g transform=\"translate(328.77234 357.04305)rotate(-45)scale(0.1 -0.1)\">\r\n       <use xlink:href=\"#DejaVuSans-83\"/>\r\n       <use x=\"63.476562\" xlink:href=\"#DejaVuSans-112\"/>\r\n       <use x=\"126.953125\" xlink:href=\"#DejaVuSans-101\"/>\r\n       <use x=\"188.476562\" xlink:href=\"#DejaVuSans-99\"/>\r\n       <use x=\"243.457031\" xlink:href=\"#DejaVuSans-105\"/>\r\n       <use x=\"271.240234\" xlink:href=\"#DejaVuSans-97\"/>\r\n       <use x=\"332.519531\" xlink:href=\"#DejaVuSans-108\"/>\r\n       <use x=\"360.302734\" xlink:href=\"#DejaVuSans-105\"/>\r\n       <use x=\"388.085938\" xlink:href=\"#DejaVuSans-122\"/>\r\n       <use x=\"440.576172\" xlink:href=\"#DejaVuSans-97\"/>\r\n       <use x=\"501.855469\" xlink:href=\"#DejaVuSans-116\"/>\r\n       <use x=\"541.064453\" xlink:href=\"#DejaVuSans-105\"/>\r\n       <use x=\"568.847656\" xlink:href=\"#DejaVuSans-111\"/>\r\n       <use x=\"630.029297\" xlink:href=\"#DejaVuSans-110\"/>\r\n      </g>\r\n     </g>\r\n    </g>\r\n    <g id=\"xtick_13\">\r\n     <g id=\"line2d_13\">\r\n      <g>\r\n       <use style=\"stroke:#000000;stroke-width:0.8;\" x=\"404.809095\" xlink:href=\"#m7a0a69fb41\" y=\"295.637812\"/>\r\n      </g>\r\n     </g>\r\n     <g id=\"text_13\">\r\n      <!-- 10board -->\r\n      <defs>\r\n       <path d=\"M 48.6875 27.296875 \r\nQ 48.6875 37.203125 44.609375 42.84375 \r\nQ 40.53125 48.484375 33.40625 48.484375 \r\nQ 26.265625 48.484375 22.1875 42.84375 \r\nQ 18.109375 37.203125 18.109375 27.296875 \r\nQ 18.109375 17.390625 22.1875 11.75 \r\nQ 26.265625 6.109375 33.40625 6.109375 \r\nQ 40.53125 6.109375 44.609375 11.75 \r\nQ 48.6875 17.390625 48.6875 27.296875 \r\nz\r\nM 18.109375 46.390625 \r\nQ 20.953125 51.265625 25.265625 53.625 \r\nQ 29.59375 56 35.59375 56 \r\nQ 45.5625 56 51.78125 48.09375 \r\nQ 58.015625 40.1875 58.015625 27.296875 \r\nQ 58.015625 14.40625 51.78125 6.484375 \r\nQ 45.5625 -1.421875 35.59375 -1.421875 \r\nQ 29.59375 -1.421875 25.265625 0.953125 \r\nQ 20.953125 3.328125 18.109375 8.203125 \r\nL 18.109375 0 \r\nL 9.078125 0 \r\nL 9.078125 75.984375 \r\nL 18.109375 75.984375 \r\nz\r\n\" id=\"DejaVuSans-98\"/>\r\n      </defs>\r\n      <g transform=\"translate(373.796938 337.552315)rotate(-45)scale(0.1 -0.1)\">\r\n       <use xlink:href=\"#DejaVuSans-49\"/>\r\n       <use x=\"63.623047\" xlink:href=\"#DejaVuSans-48\"/>\r\n       <use x=\"127.246094\" xlink:href=\"#DejaVuSans-98\"/>\r\n       <use x=\"190.722656\" xlink:href=\"#DejaVuSans-111\"/>\r\n       <use x=\"251.904297\" xlink:href=\"#DejaVuSans-97\"/>\r\n       <use x=\"313.183594\" xlink:href=\"#DejaVuSans-114\"/>\r\n       <use x=\"354.28125\" xlink:href=\"#DejaVuSans-100\"/>\r\n      </g>\r\n     </g>\r\n    </g>\r\n    <g id=\"xtick_14\">\r\n     <g id=\"line2d_14\">\r\n      <g>\r\n       <use style=\"stroke:#000000;stroke-width:0.8;\" x=\"430.342957\" xlink:href=\"#m7a0a69fb41\" y=\"295.637812\"/>\r\n      </g>\r\n     </g>\r\n     <g id=\"text_14\">\r\n      <!-- Domain -->\r\n      <defs>\r\n       <path d=\"M 19.671875 64.796875 \r\nL 19.671875 8.109375 \r\nL 31.59375 8.109375 \r\nQ 46.6875 8.109375 53.6875 14.9375 \r\nQ 60.6875 21.78125 60.6875 36.53125 \r\nQ 60.6875 51.171875 53.6875 57.984375 \r\nQ 46.6875 64.796875 31.59375 64.796875 \r\nz\r\nM 9.8125 72.90625 \r\nL 30.078125 72.90625 \r\nQ 51.265625 72.90625 61.171875 64.09375 \r\nQ 71.09375 55.28125 71.09375 36.53125 \r\nQ 71.09375 17.671875 61.125 8.828125 \r\nQ 51.171875 0 30.078125 0 \r\nL 9.8125 0 \r\nz\r\n\" id=\"DejaVuSans-68\"/>\r\n      </defs>\r\n      <g transform=\"translate(401.434443 335.448672)rotate(-45)scale(0.1 -0.1)\">\r\n       <use xlink:href=\"#DejaVuSans-68\"/>\r\n       <use x=\"77.001953\" xlink:href=\"#DejaVuSans-111\"/>\r\n       <use x=\"138.183594\" xlink:href=\"#DejaVuSans-109\"/>\r\n       <use x=\"235.595703\" xlink:href=\"#DejaVuSans-97\"/>\r\n       <use x=\"296.875\" xlink:href=\"#DejaVuSans-105\"/>\r\n       <use x=\"324.658203\" xlink:href=\"#DejaVuSans-110\"/>\r\n      </g>\r\n     </g>\r\n    </g>\r\n    <g id=\"xtick_15\">\r\n     <g id=\"line2d_15\">\r\n      <g>\r\n       <use style=\"stroke:#000000;stroke-width:0.8;\" x=\"455.876819\" xlink:href=\"#m7a0a69fb41\" y=\"295.637812\"/>\r\n      </g>\r\n     </g>\r\n     <g id=\"text_15\">\r\n      <!-- 12board -->\r\n      <g transform=\"translate(424.864662 337.552315)rotate(-45)scale(0.1 -0.1)\">\r\n       <use xlink:href=\"#DejaVuSans-49\"/>\r\n       <use x=\"63.623047\" xlink:href=\"#DejaVuSans-50\"/>\r\n       <use x=\"127.246094\" xlink:href=\"#DejaVuSans-98\"/>\r\n       <use x=\"190.722656\" xlink:href=\"#DejaVuSans-111\"/>\r\n       <use x=\"251.904297\" xlink:href=\"#DejaVuSans-97\"/>\r\n       <use x=\"313.183594\" xlink:href=\"#DejaVuSans-114\"/>\r\n       <use x=\"354.28125\" xlink:href=\"#DejaVuSans-100\"/>\r\n      </g>\r\n     </g>\r\n    </g>\r\n    <g id=\"xtick_16\">\r\n     <g id=\"line2d_16\">\r\n      <g>\r\n       <use style=\"stroke:#000000;stroke-width:0.8;\" x=\"481.410681\" xlink:href=\"#m7a0a69fb41\" y=\"295.637812\"/>\r\n      </g>\r\n     </g>\r\n     <g id=\"text_16\">\r\n      <!-- CivilEngg -->\r\n      <defs>\r\n       <path d=\"M 2.984375 54.6875 \r\nL 12.5 54.6875 \r\nL 29.59375 8.796875 \r\nL 46.6875 54.6875 \r\nL 56.203125 54.6875 \r\nL 35.6875 0 \r\nL 23.484375 0 \r\nz\r\n\" id=\"DejaVuSans-118\"/>\r\n      </defs>\r\n      <g transform=\"translate(446.996678 340.954161)rotate(-45)scale(0.1 -0.1)\">\r\n       <use xlink:href=\"#DejaVuSans-67\"/>\r\n       <use x=\"69.824219\" xlink:href=\"#DejaVuSans-105\"/>\r\n       <use x=\"97.607422\" xlink:href=\"#DejaVuSans-118\"/>\r\n       <use x=\"156.787109\" xlink:href=\"#DejaVuSans-105\"/>\r\n       <use x=\"184.570312\" xlink:href=\"#DejaVuSans-108\"/>\r\n       <use x=\"212.353516\" xlink:href=\"#DejaVuSans-69\"/>\r\n       <use x=\"275.537109\" xlink:href=\"#DejaVuSans-110\"/>\r\n       <use x=\"338.916016\" xlink:href=\"#DejaVuSans-103\"/>\r\n       <use x=\"402.392578\" xlink:href=\"#DejaVuSans-103\"/>\r\n      </g>\r\n     </g>\r\n    </g>\r\n    <g id=\"xtick_17\">\r\n     <g id=\"line2d_17\">\r\n      <g>\r\n       <use style=\"stroke:#000000;stroke-width:0.8;\" x=\"506.944543\" xlink:href=\"#m7a0a69fb41\" y=\"295.637812\"/>\r\n      </g>\r\n     </g>\r\n     <g id=\"text_17\">\r\n      <!-- 12graduation -->\r\n      <g transform=\"translate(457.898954 355.585747)rotate(-45)scale(0.1 -0.1)\">\r\n       <use xlink:href=\"#DejaVuSans-49\"/>\r\n       <use x=\"63.623047\" xlink:href=\"#DejaVuSans-50\"/>\r\n       <use x=\"127.246094\" xlink:href=\"#DejaVuSans-103\"/>\r\n       <use x=\"190.722656\" xlink:href=\"#DejaVuSans-114\"/>\r\n       <use x=\"231.835938\" xlink:href=\"#DejaVuSans-97\"/>\r\n       <use x=\"293.115234\" xlink:href=\"#DejaVuSans-100\"/>\r\n       <use x=\"356.591797\" xlink:href=\"#DejaVuSans-117\"/>\r\n       <use x=\"419.970703\" xlink:href=\"#DejaVuSans-97\"/>\r\n       <use x=\"481.25\" xlink:href=\"#DejaVuSans-116\"/>\r\n       <use x=\"520.458984\" xlink:href=\"#DejaVuSans-105\"/>\r\n       <use x=\"548.242188\" xlink:href=\"#DejaVuSans-111\"/>\r\n       <use x=\"609.423828\" xlink:href=\"#DejaVuSans-110\"/>\r\n      </g>\r\n     </g>\r\n    </g>\r\n    <g id=\"xtick_18\">\r\n     <g id=\"line2d_18\">\r\n      <g>\r\n       <use style=\"stroke:#000000;stroke-width:0.8;\" x=\"532.478405\" xlink:href=\"#m7a0a69fb41\" y=\"295.637812\"/>\r\n      </g>\r\n     </g>\r\n     <g id=\"text_18\">\r\n      <!-- nueroticism -->\r\n      <g transform=\"translate(489.302907 349.715656)rotate(-45)scale(0.1 -0.1)\">\r\n       <use xlink:href=\"#DejaVuSans-110\"/>\r\n       <use x=\"63.378906\" xlink:href=\"#DejaVuSans-117\"/>\r\n       <use x=\"126.757812\" xlink:href=\"#DejaVuSans-101\"/>\r\n       <use x=\"188.28125\" xlink:href=\"#DejaVuSans-114\"/>\r\n       <use x=\"229.363281\" xlink:href=\"#DejaVuSans-111\"/>\r\n       <use x=\"290.544922\" xlink:href=\"#DejaVuSans-116\"/>\r\n       <use x=\"329.753906\" xlink:href=\"#DejaVuSans-105\"/>\r\n       <use x=\"357.537109\" xlink:href=\"#DejaVuSans-99\"/>\r\n       <use x=\"412.517578\" xlink:href=\"#DejaVuSans-105\"/>\r\n       <use x=\"440.300781\" xlink:href=\"#DejaVuSans-115\"/>\r\n       <use x=\"492.400391\" xlink:href=\"#DejaVuSans-109\"/>\r\n      </g>\r\n     </g>\r\n    </g>\r\n    <g id=\"xtick_19\">\r\n     <g id=\"line2d_19\">\r\n      <g>\r\n       <use style=\"stroke:#000000;stroke-width:0.8;\" x=\"558.012267\" xlink:href=\"#m7a0a69fb41\" y=\"295.637812\"/>\r\n      </g>\r\n     </g>\r\n     <g id=\"text_19\">\r\n      <!-- extraversion -->\r\n      <defs>\r\n       <path d=\"M 54.890625 54.6875 \r\nL 35.109375 28.078125 \r\nL 55.90625 0 \r\nL 45.3125 0 \r\nL 29.390625 21.484375 \r\nL 13.484375 0 \r\nL 2.875 0 \r\nL 24.125 28.609375 \r\nL 4.6875 54.6875 \r\nL 15.28125 54.6875 \r\nL 29.78125 35.203125 \r\nL 44.28125 54.6875 \r\nz\r\n\" id=\"DejaVuSans-120\"/>\r\n      </defs>\r\n      <g transform=\"translate(512.095626 352.4568)rotate(-45)scale(0.1 -0.1)\">\r\n       <use xlink:href=\"#DejaVuSans-101\"/>\r\n       <use x=\"61.507812\" xlink:href=\"#DejaVuSans-120\"/>\r\n       <use x=\"120.6875\" xlink:href=\"#DejaVuSans-116\"/>\r\n       <use x=\"159.896484\" xlink:href=\"#DejaVuSans-114\"/>\r\n       <use x=\"201.009766\" xlink:href=\"#DejaVuSans-97\"/>\r\n       <use x=\"262.289062\" xlink:href=\"#DejaVuSans-118\"/>\r\n       <use x=\"321.46875\" xlink:href=\"#DejaVuSans-101\"/>\r\n       <use x=\"382.992188\" xlink:href=\"#DejaVuSans-114\"/>\r\n       <use x=\"424.105469\" xlink:href=\"#DejaVuSans-115\"/>\r\n       <use x=\"476.205078\" xlink:href=\"#DejaVuSans-105\"/>\r\n       <use x=\"503.988281\" xlink:href=\"#DejaVuSans-111\"/>\r\n       <use x=\"565.169922\" xlink:href=\"#DejaVuSans-110\"/>\r\n      </g>\r\n     </g>\r\n    </g>\r\n    <g id=\"xtick_20\">\r\n     <g id=\"line2d_20\">\r\n      <g>\r\n       <use style=\"stroke:#000000;stroke-width:0.8;\" x=\"583.546129\" xlink:href=\"#m7a0a69fb41\" y=\"295.637812\"/>\r\n      </g>\r\n     </g>\r\n     <g id=\"text_20\">\r\n      <!-- MechanicalEngg -->\r\n      <defs>\r\n       <path d=\"M 9.8125 72.90625 \r\nL 24.515625 72.90625 \r\nL 43.109375 23.296875 \r\nL 61.8125 72.90625 \r\nL 76.515625 72.90625 \r\nL 76.515625 0 \r\nL 66.890625 0 \r\nL 66.890625 64.015625 \r\nL 48.09375 14.015625 \r\nL 38.1875 14.015625 \r\nL 19.390625 64.015625 \r\nL 19.390625 0 \r\nL 9.8125 0 \r\nz\r\n\" id=\"DejaVuSans-77\"/>\r\n      </defs>\r\n      <g transform=\"translate(524.362397 365.723891)rotate(-45)scale(0.1 -0.1)\">\r\n       <use xlink:href=\"#DejaVuSans-77\"/>\r\n       <use x=\"86.279297\" xlink:href=\"#DejaVuSans-101\"/>\r\n       <use x=\"147.802734\" xlink:href=\"#DejaVuSans-99\"/>\r\n       <use x=\"202.783203\" xlink:href=\"#DejaVuSans-104\"/>\r\n       <use x=\"266.162109\" xlink:href=\"#DejaVuSans-97\"/>\r\n       <use x=\"327.441406\" xlink:href=\"#DejaVuSans-110\"/>\r\n       <use x=\"390.820312\" xlink:href=\"#DejaVuSans-105\"/>\r\n       <use x=\"418.603516\" xlink:href=\"#DejaVuSans-99\"/>\r\n       <use x=\"473.583984\" xlink:href=\"#DejaVuSans-97\"/>\r\n       <use x=\"534.863281\" xlink:href=\"#DejaVuSans-108\"/>\r\n       <use x=\"562.646484\" xlink:href=\"#DejaVuSans-69\"/>\r\n       <use x=\"625.830078\" xlink:href=\"#DejaVuSans-110\"/>\r\n       <use x=\"689.208984\" xlink:href=\"#DejaVuSans-103\"/>\r\n       <use x=\"752.685547\" xlink:href=\"#DejaVuSans-103\"/>\r\n      </g>\r\n     </g>\r\n    </g>\r\n    <g id=\"xtick_21\">\r\n     <g id=\"line2d_21\">\r\n      <g>\r\n       <use style=\"stroke:#000000;stroke-width:0.8;\" x=\"609.079992\" xlink:href=\"#m7a0a69fb41\" y=\"295.637812\"/>\r\n      </g>\r\n     </g>\r\n     <g id=\"text_21\">\r\n      <!-- DOB -->\r\n      <defs>\r\n       <path d=\"M 39.40625 66.21875 \r\nQ 28.65625 66.21875 22.328125 58.203125 \r\nQ 16.015625 50.203125 16.015625 36.375 \r\nQ 16.015625 22.609375 22.328125 14.59375 \r\nQ 28.65625 6.59375 39.40625 6.59375 \r\nQ 50.140625 6.59375 56.421875 14.59375 \r\nQ 62.703125 22.609375 62.703125 36.375 \r\nQ 62.703125 50.203125 56.421875 58.203125 \r\nQ 50.140625 66.21875 39.40625 66.21875 \r\nz\r\nM 39.40625 74.21875 \r\nQ 54.734375 74.21875 63.90625 63.9375 \r\nQ 73.09375 53.65625 73.09375 36.375 \r\nQ 73.09375 19.140625 63.90625 8.859375 \r\nQ 54.734375 -1.421875 39.40625 -1.421875 \r\nQ 24.03125 -1.421875 14.8125 8.828125 \r\nQ 5.609375 19.09375 5.609375 36.375 \r\nQ 5.609375 53.65625 14.8125 63.9375 \r\nQ 24.03125 74.21875 39.40625 74.21875 \r\nz\r\n\" id=\"DejaVuSans-79\"/>\r\n       <path d=\"M 19.671875 34.8125 \r\nL 19.671875 8.109375 \r\nL 35.5 8.109375 \r\nQ 43.453125 8.109375 47.28125 11.40625 \r\nQ 51.125 14.703125 51.125 21.484375 \r\nQ 51.125 28.328125 47.28125 31.5625 \r\nQ 43.453125 34.8125 35.5 34.8125 \r\nz\r\nM 19.671875 64.796875 \r\nL 19.671875 42.828125 \r\nL 34.28125 42.828125 \r\nQ 41.5 42.828125 45.03125 45.53125 \r\nQ 48.578125 48.25 48.578125 53.8125 \r\nQ 48.578125 59.328125 45.03125 62.0625 \r\nQ 41.5 64.796875 34.28125 64.796875 \r\nz\r\nM 9.8125 72.90625 \r\nL 35.015625 72.90625 \r\nQ 46.296875 72.90625 52.390625 68.21875 \r\nQ 58.5 63.53125 58.5 54.890625 \r\nQ 58.5 48.1875 55.375 44.234375 \r\nQ 52.25 40.28125 46.1875 39.3125 \r\nQ 53.46875 37.75 57.5 32.78125 \r\nQ 61.53125 27.828125 61.53125 20.40625 \r\nQ 61.53125 10.640625 54.890625 5.3125 \r\nQ 48.25 0 35.984375 0 \r\nL 9.8125 0 \r\nz\r\n\" id=\"DejaVuSans-66\"/>\r\n      </defs>\r\n      <g transform=\"translate(591.747037 323.873113)rotate(-45)scale(0.1 -0.1)\">\r\n       <use xlink:href=\"#DejaVuSans-68\"/>\r\n       <use x=\"77.001953\" xlink:href=\"#DejaVuSans-79\"/>\r\n       <use x=\"155.712891\" xlink:href=\"#DejaVuSans-66\"/>\r\n      </g>\r\n     </g>\r\n    </g>\r\n    <g id=\"xtick_22\">\r\n     <g id=\"line2d_22\">\r\n      <g>\r\n       <use style=\"stroke:#000000;stroke-width:0.8;\" x=\"634.613854\" xlink:href=\"#m7a0a69fb41\" y=\"295.637812\"/>\r\n      </g>\r\n     </g>\r\n     <g id=\"text_22\">\r\n      <!-- CollegeCityTier -->\r\n      <defs>\r\n       <path d=\"M 32.171875 -5.078125 \r\nQ 28.375 -14.84375 24.75 -17.8125 \r\nQ 21.140625 -20.796875 15.09375 -20.796875 \r\nL 7.90625 -20.796875 \r\nL 7.90625 -13.28125 \r\nL 13.1875 -13.28125 \r\nQ 16.890625 -13.28125 18.9375 -11.515625 \r\nQ 21 -9.765625 23.484375 -3.21875 \r\nL 25.09375 0.875 \r\nL 2.984375 54.6875 \r\nL 12.5 54.6875 \r\nL 29.59375 11.921875 \r\nL 46.6875 54.6875 \r\nL 56.203125 54.6875 \r\nz\r\n\" id=\"DejaVuSans-121\"/>\r\n      </defs>\r\n      <g transform=\"translate(579.362298 361.791714)rotate(-45)scale(0.1 -0.1)\">\r\n       <use xlink:href=\"#DejaVuSans-67\"/>\r\n       <use x=\"69.824219\" xlink:href=\"#DejaVuSans-111\"/>\r\n       <use x=\"131.005859\" xlink:href=\"#DejaVuSans-108\"/>\r\n       <use x=\"158.789062\" xlink:href=\"#DejaVuSans-108\"/>\r\n       <use x=\"186.572266\" xlink:href=\"#DejaVuSans-101\"/>\r\n       <use x=\"248.095703\" xlink:href=\"#DejaVuSans-103\"/>\r\n       <use x=\"311.572266\" xlink:href=\"#DejaVuSans-101\"/>\r\n       <use x=\"373.095703\" xlink:href=\"#DejaVuSans-67\"/>\r\n       <use x=\"442.919922\" xlink:href=\"#DejaVuSans-105\"/>\r\n       <use x=\"470.703125\" xlink:href=\"#DejaVuSans-116\"/>\r\n       <use x=\"509.912109\" xlink:href=\"#DejaVuSans-121\"/>\r\n       <use x=\"569.091797\" xlink:href=\"#DejaVuSans-84\"/>\r\n       <use x=\"630.128906\" xlink:href=\"#DejaVuSans-105\"/>\r\n       <use x=\"657.912109\" xlink:href=\"#DejaVuSans-101\"/>\r\n       <use x=\"719.435547\" xlink:href=\"#DejaVuSans-114\"/>\r\n      </g>\r\n     </g>\r\n    </g>\r\n    <g id=\"xtick_23\">\r\n     <g id=\"line2d_23\">\r\n      <g>\r\n       <use style=\"stroke:#000000;stroke-width:0.8;\" x=\"660.147716\" xlink:href=\"#m7a0a69fb41\" y=\"295.637812\"/>\r\n      </g>\r\n     </g>\r\n     <g id=\"text_23\">\r\n      <!-- Logical -->\r\n      <defs>\r\n       <path d=\"M 9.8125 72.90625 \r\nL 19.671875 72.90625 \r\nL 19.671875 8.296875 \r\nL 55.171875 8.296875 \r\nL 55.171875 0 \r\nL 9.8125 0 \r\nz\r\n\" id=\"DejaVuSans-76\"/>\r\n      </defs>\r\n      <g transform=\"translate(633.772633 332.915241)rotate(-45)scale(0.1 -0.1)\">\r\n       <use xlink:href=\"#DejaVuSans-76\"/>\r\n       <use x=\"55.697266\" xlink:href=\"#DejaVuSans-111\"/>\r\n       <use x=\"116.878906\" xlink:href=\"#DejaVuSans-103\"/>\r\n       <use x=\"180.355469\" xlink:href=\"#DejaVuSans-105\"/>\r\n       <use x=\"208.138672\" xlink:href=\"#DejaVuSans-99\"/>\r\n       <use x=\"263.119141\" xlink:href=\"#DejaVuSans-97\"/>\r\n       <use x=\"324.398438\" xlink:href=\"#DejaVuSans-108\"/>\r\n      </g>\r\n     </g>\r\n    </g>\r\n    <g id=\"xtick_24\">\r\n     <g id=\"line2d_24\">\r\n      <g>\r\n       <use style=\"stroke:#000000;stroke-width:0.8;\" x=\"685.681578\" xlink:href=\"#m7a0a69fb41\" y=\"295.637812\"/>\r\n      </g>\r\n     </g>\r\n     <g id=\"text_24\">\r\n      <!-- openess_to_experience -->\r\n      <defs>\r\n       <path d=\"M 50.984375 -16.609375 \r\nL 50.984375 -23.578125 \r\nL -0.984375 -23.578125 \r\nL -0.984375 -16.609375 \r\nz\r\n\" id=\"DejaVuSans-95\"/>\r\n      </defs>\r\n      <g transform=\"translate(601.161325 390.863747)rotate(-45)scale(0.1 -0.1)\">\r\n       <use xlink:href=\"#DejaVuSans-111\"/>\r\n       <use x=\"61.181641\" xlink:href=\"#DejaVuSans-112\"/>\r\n       <use x=\"124.658203\" xlink:href=\"#DejaVuSans-101\"/>\r\n       <use x=\"186.181641\" xlink:href=\"#DejaVuSans-110\"/>\r\n       <use x=\"249.560547\" xlink:href=\"#DejaVuSans-101\"/>\r\n       <use x=\"311.083984\" xlink:href=\"#DejaVuSans-115\"/>\r\n       <use x=\"363.183594\" xlink:href=\"#DejaVuSans-115\"/>\r\n       <use x=\"415.283203\" xlink:href=\"#DejaVuSans-95\"/>\r\n       <use x=\"465.283203\" xlink:href=\"#DejaVuSans-116\"/>\r\n       <use x=\"504.492188\" xlink:href=\"#DejaVuSans-111\"/>\r\n       <use x=\"565.673828\" xlink:href=\"#DejaVuSans-95\"/>\r\n       <use x=\"615.673828\" xlink:href=\"#DejaVuSans-101\"/>\r\n       <use x=\"677.181641\" xlink:href=\"#DejaVuSans-120\"/>\r\n       <use x=\"736.361328\" xlink:href=\"#DejaVuSans-112\"/>\r\n       <use x=\"799.837891\" xlink:href=\"#DejaVuSans-101\"/>\r\n       <use x=\"861.361328\" xlink:href=\"#DejaVuSans-114\"/>\r\n       <use x=\"902.474609\" xlink:href=\"#DejaVuSans-105\"/>\r\n       <use x=\"930.257812\" xlink:href=\"#DejaVuSans-101\"/>\r\n       <use x=\"991.78125\" xlink:href=\"#DejaVuSans-110\"/>\r\n       <use x=\"1055.160156\" xlink:href=\"#DejaVuSans-99\"/>\r\n       <use x=\"1110.140625\" xlink:href=\"#DejaVuSans-101\"/>\r\n      </g>\r\n     </g>\r\n    </g>\r\n    <g id=\"xtick_25\">\r\n     <g id=\"line2d_25\">\r\n      <g>\r\n       <use style=\"stroke:#000000;stroke-width:0.8;\" x=\"711.21544\" xlink:href=\"#m7a0a69fb41\" y=\"295.637812\"/>\r\n      </g>\r\n     </g>\r\n     <g id=\"text_25\">\r\n      <!-- ElectricalEngg -->\r\n      <g transform=\"translate(659.317117 358.438481)rotate(-45)scale(0.1 -0.1)\">\r\n       <use xlink:href=\"#DejaVuSans-69\"/>\r\n       <use x=\"63.183594\" xlink:href=\"#DejaVuSans-108\"/>\r\n       <use x=\"90.966797\" xlink:href=\"#DejaVuSans-101\"/>\r\n       <use x=\"152.490234\" xlink:href=\"#DejaVuSans-99\"/>\r\n       <use x=\"207.470703\" xlink:href=\"#DejaVuSans-116\"/>\r\n       <use x=\"246.679688\" xlink:href=\"#DejaVuSans-114\"/>\r\n       <use x=\"287.792969\" xlink:href=\"#DejaVuSans-105\"/>\r\n       <use x=\"315.576172\" xlink:href=\"#DejaVuSans-99\"/>\r\n       <use x=\"370.556641\" xlink:href=\"#DejaVuSans-97\"/>\r\n       <use x=\"431.835938\" xlink:href=\"#DejaVuSans-108\"/>\r\n       <use x=\"459.619141\" xlink:href=\"#DejaVuSans-69\"/>\r\n       <use x=\"522.802734\" xlink:href=\"#DejaVuSans-110\"/>\r\n       <use x=\"586.181641\" xlink:href=\"#DejaVuSans-103\"/>\r\n       <use x=\"649.658203\" xlink:href=\"#DejaVuSans-103\"/>\r\n      </g>\r\n     </g>\r\n    </g>\r\n    <g id=\"xtick_26\">\r\n     <g id=\"line2d_26\">\r\n      <g>\r\n       <use style=\"stroke:#000000;stroke-width:0.8;\" x=\"736.749302\" xlink:href=\"#m7a0a69fb41\" y=\"295.637812\"/>\r\n      </g>\r\n     </g>\r\n     <g id=\"text_26\">\r\n      <!-- conscientiousness -->\r\n      <g transform=\"translate(670.787288 372.502172)rotate(-45)scale(0.1 -0.1)\">\r\n       <use xlink:href=\"#DejaVuSans-99\"/>\r\n       <use x=\"54.980469\" xlink:href=\"#DejaVuSans-111\"/>\r\n       <use x=\"116.162109\" xlink:href=\"#DejaVuSans-110\"/>\r\n       <use x=\"179.541016\" xlink:href=\"#DejaVuSans-115\"/>\r\n       <use x=\"231.640625\" xlink:href=\"#DejaVuSans-99\"/>\r\n       <use x=\"286.621094\" xlink:href=\"#DejaVuSans-105\"/>\r\n       <use x=\"314.404297\" xlink:href=\"#DejaVuSans-101\"/>\r\n       <use x=\"375.927734\" xlink:href=\"#DejaVuSans-110\"/>\r\n       <use x=\"439.306641\" xlink:href=\"#DejaVuSans-116\"/>\r\n       <use x=\"478.515625\" xlink:href=\"#DejaVuSans-105\"/>\r\n       <use x=\"506.298828\" xlink:href=\"#DejaVuSans-111\"/>\r\n       <use x=\"567.480469\" xlink:href=\"#DejaVuSans-117\"/>\r\n       <use x=\"630.859375\" xlink:href=\"#DejaVuSans-115\"/>\r\n       <use x=\"682.958984\" xlink:href=\"#DejaVuSans-110\"/>\r\n       <use x=\"746.337891\" xlink:href=\"#DejaVuSans-101\"/>\r\n       <use x=\"807.861328\" xlink:href=\"#DejaVuSans-115\"/>\r\n       <use x=\"859.960938\" xlink:href=\"#DejaVuSans-115\"/>\r\n      </g>\r\n     </g>\r\n    </g>\r\n    <g id=\"xtick_27\">\r\n     <g id=\"line2d_27\">\r\n      <g>\r\n       <use style=\"stroke:#000000;stroke-width:0.8;\" x=\"762.283164\" xlink:href=\"#m7a0a69fb41\" y=\"295.637812\"/>\r\n      </g>\r\n     </g>\r\n     <g id=\"text_27\">\r\n      <!-- ElectronicsAndSemicon -->\r\n      <g transform=\"translate(677.925325 390.897997)rotate(-45)scale(0.1 -0.1)\">\r\n       <use xlink:href=\"#DejaVuSans-69\"/>\r\n       <use x=\"63.183594\" xlink:href=\"#DejaVuSans-108\"/>\r\n       <use x=\"90.966797\" xlink:href=\"#DejaVuSans-101\"/>\r\n       <use x=\"152.490234\" xlink:href=\"#DejaVuSans-99\"/>\r\n       <use x=\"207.470703\" xlink:href=\"#DejaVuSans-116\"/>\r\n       <use x=\"246.679688\" xlink:href=\"#DejaVuSans-114\"/>\r\n       <use x=\"287.761719\" xlink:href=\"#DejaVuSans-111\"/>\r\n       <use x=\"348.943359\" xlink:href=\"#DejaVuSans-110\"/>\r\n       <use x=\"412.322266\" xlink:href=\"#DejaVuSans-105\"/>\r\n       <use x=\"440.105469\" xlink:href=\"#DejaVuSans-99\"/>\r\n       <use x=\"495.085938\" xlink:href=\"#DejaVuSans-115\"/>\r\n       <use x=\"547.185547\" xlink:href=\"#DejaVuSans-65\"/>\r\n       <use x=\"615.59375\" xlink:href=\"#DejaVuSans-110\"/>\r\n       <use x=\"678.972656\" xlink:href=\"#DejaVuSans-100\"/>\r\n       <use x=\"742.449219\" xlink:href=\"#DejaVuSans-83\"/>\r\n       <use x=\"805.925781\" xlink:href=\"#DejaVuSans-101\"/>\r\n       <use x=\"867.449219\" xlink:href=\"#DejaVuSans-109\"/>\r\n       <use x=\"964.861328\" xlink:href=\"#DejaVuSans-105\"/>\r\n       <use x=\"992.644531\" xlink:href=\"#DejaVuSans-99\"/>\r\n       <use x=\"1047.625\" xlink:href=\"#DejaVuSans-111\"/>\r\n       <use x=\"1108.806641\" xlink:href=\"#DejaVuSans-110\"/>\r\n      </g>\r\n     </g>\r\n    </g>\r\n    <g id=\"xtick_28\">\r\n     <g id=\"line2d_28\">\r\n      <g>\r\n       <use style=\"stroke:#000000;stroke-width:0.8;\" x=\"787.817026\" xlink:href=\"#m7a0a69fb41\" y=\"295.637812\"/>\r\n      </g>\r\n     </g>\r\n     <g id=\"text_28\">\r\n      <!-- agreeableness -->\r\n      <g transform=\"translate(734.580725 359.77646)rotate(-45)scale(0.1 -0.1)\">\r\n       <use xlink:href=\"#DejaVuSans-97\"/>\r\n       <use x=\"61.279297\" xlink:href=\"#DejaVuSans-103\"/>\r\n       <use x=\"124.755859\" xlink:href=\"#DejaVuSans-114\"/>\r\n       <use x=\"165.837891\" xlink:href=\"#DejaVuSans-101\"/>\r\n       <use x=\"227.361328\" xlink:href=\"#DejaVuSans-101\"/>\r\n       <use x=\"288.884766\" xlink:href=\"#DejaVuSans-97\"/>\r\n       <use x=\"350.164062\" xlink:href=\"#DejaVuSans-98\"/>\r\n       <use x=\"413.640625\" xlink:href=\"#DejaVuSans-108\"/>\r\n       <use x=\"441.423828\" xlink:href=\"#DejaVuSans-101\"/>\r\n       <use x=\"502.947266\" xlink:href=\"#DejaVuSans-110\"/>\r\n       <use x=\"566.326172\" xlink:href=\"#DejaVuSans-101\"/>\r\n       <use x=\"627.849609\" xlink:href=\"#DejaVuSans-115\"/>\r\n       <use x=\"679.949219\" xlink:href=\"#DejaVuSans-115\"/>\r\n      </g>\r\n     </g>\r\n    </g>\r\n    <g id=\"xtick_29\">\r\n     <g id=\"line2d_29\">\r\n      <g>\r\n       <use style=\"stroke:#000000;stroke-width:0.8;\" x=\"813.350888\" xlink:href=\"#m7a0a69fb41\" y=\"295.637812\"/>\r\n      </g>\r\n     </g>\r\n     <g id=\"text_29\">\r\n      <!-- Degree -->\r\n      <g transform=\"translate(785.989171 333.901876)rotate(-45)scale(0.1 -0.1)\">\r\n       <use xlink:href=\"#DejaVuSans-68\"/>\r\n       <use x=\"77.001953\" xlink:href=\"#DejaVuSans-101\"/>\r\n       <use x=\"138.525391\" xlink:href=\"#DejaVuSans-103\"/>\r\n       <use x=\"202.001953\" xlink:href=\"#DejaVuSans-114\"/>\r\n       <use x=\"243.083984\" xlink:href=\"#DejaVuSans-101\"/>\r\n       <use x=\"304.607422\" xlink:href=\"#DejaVuSans-101\"/>\r\n      </g>\r\n     </g>\r\n    </g>\r\n    <g id=\"xtick_30\">\r\n     <g id=\"line2d_30\">\r\n      <g>\r\n       <use style=\"stroke:#000000;stroke-width:0.8;\" x=\"838.884751\" xlink:href=\"#m7a0a69fb41\" y=\"295.637812\"/>\r\n      </g>\r\n     </g>\r\n     <g id=\"text_30\">\r\n      <!-- TelecomEngg -->\r\n      <g transform=\"translate(789.418212 356.006697)rotate(-45)scale(0.1 -0.1)\">\r\n       <use xlink:href=\"#DejaVuSans-84\"/>\r\n       <use x=\"60.818359\" xlink:href=\"#DejaVuSans-101\"/>\r\n       <use x=\"122.341797\" xlink:href=\"#DejaVuSans-108\"/>\r\n       <use x=\"150.125\" xlink:href=\"#DejaVuSans-101\"/>\r\n       <use x=\"211.648438\" xlink:href=\"#DejaVuSans-99\"/>\r\n       <use x=\"266.628906\" xlink:href=\"#DejaVuSans-111\"/>\r\n       <use x=\"327.810547\" xlink:href=\"#DejaVuSans-109\"/>\r\n       <use x=\"425.222656\" xlink:href=\"#DejaVuSans-69\"/>\r\n       <use x=\"488.40625\" xlink:href=\"#DejaVuSans-110\"/>\r\n       <use x=\"551.785156\" xlink:href=\"#DejaVuSans-103\"/>\r\n       <use x=\"615.261719\" xlink:href=\"#DejaVuSans-103\"/>\r\n      </g>\r\n     </g>\r\n    </g>\r\n   </g>\r\n   <g id=\"matplotlib.axis_2\">\r\n    <g id=\"ytick_1\">\r\n     <g id=\"line2d_31\">\r\n      <defs>\r\n       <path d=\"M 0 0 \r\nL -3.5 0 \r\n\" id=\"mfc037da6ab\" style=\"stroke:#000000;stroke-width:0.8;\"/>\r\n      </defs>\r\n      <g>\r\n       <use style=\"stroke:#000000;stroke-width:0.8;\" x=\"50.14375\" xlink:href=\"#mfc037da6ab\" y=\"282.096039\"/>\r\n      </g>\r\n     </g>\r\n     <g id=\"text_31\">\r\n      <!-- 0.00 -->\r\n      <defs>\r\n       <path d=\"M 10.6875 12.40625 \r\nL 21 12.40625 \r\nL 21 0 \r\nL 10.6875 0 \r\nz\r\n\" id=\"DejaVuSans-46\"/>\r\n      </defs>\r\n      <g transform=\"translate(20.878125 285.895258)scale(0.1 -0.1)\">\r\n       <use xlink:href=\"#DejaVuSans-48\"/>\r\n       <use x=\"63.623047\" xlink:href=\"#DejaVuSans-46\"/>\r\n       <use x=\"95.410156\" xlink:href=\"#DejaVuSans-48\"/>\r\n       <use x=\"159.033203\" xlink:href=\"#DejaVuSans-48\"/>\r\n      </g>\r\n     </g>\r\n    </g>\r\n    <g id=\"ytick_2\">\r\n     <g id=\"line2d_32\">\r\n      <g>\r\n       <use style=\"stroke:#000000;stroke-width:0.8;\" x=\"50.14375\" xlink:href=\"#mfc037da6ab\" y=\"249.094003\"/>\r\n      </g>\r\n     </g>\r\n     <g id=\"text_32\">\r\n      <!-- 0.01 -->\r\n      <g transform=\"translate(20.878125 252.893222)scale(0.1 -0.1)\">\r\n       <use xlink:href=\"#DejaVuSans-48\"/>\r\n       <use x=\"63.623047\" xlink:href=\"#DejaVuSans-46\"/>\r\n       <use x=\"95.410156\" xlink:href=\"#DejaVuSans-48\"/>\r\n       <use x=\"159.033203\" xlink:href=\"#DejaVuSans-49\"/>\r\n      </g>\r\n     </g>\r\n    </g>\r\n    <g id=\"ytick_3\">\r\n     <g id=\"line2d_33\">\r\n      <g>\r\n       <use style=\"stroke:#000000;stroke-width:0.8;\" x=\"50.14375\" xlink:href=\"#mfc037da6ab\" y=\"216.091967\"/>\r\n      </g>\r\n     </g>\r\n     <g id=\"text_33\">\r\n      <!-- 0.02 -->\r\n      <g transform=\"translate(20.878125 219.891186)scale(0.1 -0.1)\">\r\n       <use xlink:href=\"#DejaVuSans-48\"/>\r\n       <use x=\"63.623047\" xlink:href=\"#DejaVuSans-46\"/>\r\n       <use x=\"95.410156\" xlink:href=\"#DejaVuSans-48\"/>\r\n       <use x=\"159.033203\" xlink:href=\"#DejaVuSans-50\"/>\r\n      </g>\r\n     </g>\r\n    </g>\r\n    <g id=\"ytick_4\">\r\n     <g id=\"line2d_34\">\r\n      <g>\r\n       <use style=\"stroke:#000000;stroke-width:0.8;\" x=\"50.14375\" xlink:href=\"#mfc037da6ab\" y=\"183.089931\"/>\r\n      </g>\r\n     </g>\r\n     <g id=\"text_34\">\r\n      <!-- 0.03 -->\r\n      <defs>\r\n       <path d=\"M 40.578125 39.3125 \r\nQ 47.65625 37.796875 51.625 33 \r\nQ 55.609375 28.21875 55.609375 21.1875 \r\nQ 55.609375 10.40625 48.1875 4.484375 \r\nQ 40.765625 -1.421875 27.09375 -1.421875 \r\nQ 22.515625 -1.421875 17.65625 -0.515625 \r\nQ 12.796875 0.390625 7.625 2.203125 \r\nL 7.625 11.71875 \r\nQ 11.71875 9.328125 16.59375 8.109375 \r\nQ 21.484375 6.890625 26.8125 6.890625 \r\nQ 36.078125 6.890625 40.9375 10.546875 \r\nQ 45.796875 14.203125 45.796875 21.1875 \r\nQ 45.796875 27.640625 41.28125 31.265625 \r\nQ 36.765625 34.90625 28.71875 34.90625 \r\nL 20.21875 34.90625 \r\nL 20.21875 43.015625 \r\nL 29.109375 43.015625 \r\nQ 36.375 43.015625 40.234375 45.921875 \r\nQ 44.09375 48.828125 44.09375 54.296875 \r\nQ 44.09375 59.90625 40.109375 62.90625 \r\nQ 36.140625 65.921875 28.71875 65.921875 \r\nQ 24.65625 65.921875 20.015625 65.03125 \r\nQ 15.375 64.15625 9.8125 62.3125 \r\nL 9.8125 71.09375 \r\nQ 15.4375 72.65625 20.34375 73.4375 \r\nQ 25.25 74.21875 29.59375 74.21875 \r\nQ 40.828125 74.21875 47.359375 69.109375 \r\nQ 53.90625 64.015625 53.90625 55.328125 \r\nQ 53.90625 49.265625 50.4375 45.09375 \r\nQ 46.96875 40.921875 40.578125 39.3125 \r\nz\r\n\" id=\"DejaVuSans-51\"/>\r\n      </defs>\r\n      <g transform=\"translate(20.878125 186.88915)scale(0.1 -0.1)\">\r\n       <use xlink:href=\"#DejaVuSans-48\"/>\r\n       <use x=\"63.623047\" xlink:href=\"#DejaVuSans-46\"/>\r\n       <use x=\"95.410156\" xlink:href=\"#DejaVuSans-48\"/>\r\n       <use x=\"159.033203\" xlink:href=\"#DejaVuSans-51\"/>\r\n      </g>\r\n     </g>\r\n    </g>\r\n    <g id=\"ytick_5\">\r\n     <g id=\"line2d_35\">\r\n      <g>\r\n       <use style=\"stroke:#000000;stroke-width:0.8;\" x=\"50.14375\" xlink:href=\"#mfc037da6ab\" y=\"150.087895\"/>\r\n      </g>\r\n     </g>\r\n     <g id=\"text_35\">\r\n      <!-- 0.04 -->\r\n      <defs>\r\n       <path d=\"M 37.796875 64.3125 \r\nL 12.890625 25.390625 \r\nL 37.796875 25.390625 \r\nz\r\nM 35.203125 72.90625 \r\nL 47.609375 72.90625 \r\nL 47.609375 25.390625 \r\nL 58.015625 25.390625 \r\nL 58.015625 17.1875 \r\nL 47.609375 17.1875 \r\nL 47.609375 0 \r\nL 37.796875 0 \r\nL 37.796875 17.1875 \r\nL 4.890625 17.1875 \r\nL 4.890625 26.703125 \r\nz\r\n\" id=\"DejaVuSans-52\"/>\r\n      </defs>\r\n      <g transform=\"translate(20.878125 153.887114)scale(0.1 -0.1)\">\r\n       <use xlink:href=\"#DejaVuSans-48\"/>\r\n       <use x=\"63.623047\" xlink:href=\"#DejaVuSans-46\"/>\r\n       <use x=\"95.410156\" xlink:href=\"#DejaVuSans-48\"/>\r\n       <use x=\"159.033203\" xlink:href=\"#DejaVuSans-52\"/>\r\n      </g>\r\n     </g>\r\n    </g>\r\n    <g id=\"ytick_6\">\r\n     <g id=\"line2d_36\">\r\n      <g>\r\n       <use style=\"stroke:#000000;stroke-width:0.8;\" x=\"50.14375\" xlink:href=\"#mfc037da6ab\" y=\"117.085859\"/>\r\n      </g>\r\n     </g>\r\n     <g id=\"text_36\">\r\n      <!-- 0.05 -->\r\n      <defs>\r\n       <path d=\"M 10.796875 72.90625 \r\nL 49.515625 72.90625 \r\nL 49.515625 64.59375 \r\nL 19.828125 64.59375 \r\nL 19.828125 46.734375 \r\nQ 21.96875 47.46875 24.109375 47.828125 \r\nQ 26.265625 48.1875 28.421875 48.1875 \r\nQ 40.625 48.1875 47.75 41.5 \r\nQ 54.890625 34.8125 54.890625 23.390625 \r\nQ 54.890625 11.625 47.5625 5.09375 \r\nQ 40.234375 -1.421875 26.90625 -1.421875 \r\nQ 22.3125 -1.421875 17.546875 -0.640625 \r\nQ 12.796875 0.140625 7.71875 1.703125 \r\nL 7.71875 11.625 \r\nQ 12.109375 9.234375 16.796875 8.0625 \r\nQ 21.484375 6.890625 26.703125 6.890625 \r\nQ 35.15625 6.890625 40.078125 11.328125 \r\nQ 45.015625 15.765625 45.015625 23.390625 \r\nQ 45.015625 31 40.078125 35.4375 \r\nQ 35.15625 39.890625 26.703125 39.890625 \r\nQ 22.75 39.890625 18.8125 39.015625 \r\nQ 14.890625 38.140625 10.796875 36.28125 \r\nz\r\n\" id=\"DejaVuSans-53\"/>\r\n      </defs>\r\n      <g transform=\"translate(20.878125 120.885078)scale(0.1 -0.1)\">\r\n       <use xlink:href=\"#DejaVuSans-48\"/>\r\n       <use x=\"63.623047\" xlink:href=\"#DejaVuSans-46\"/>\r\n       <use x=\"95.410156\" xlink:href=\"#DejaVuSans-48\"/>\r\n       <use x=\"159.033203\" xlink:href=\"#DejaVuSans-53\"/>\r\n      </g>\r\n     </g>\r\n    </g>\r\n    <g id=\"ytick_7\">\r\n     <g id=\"line2d_37\">\r\n      <g>\r\n       <use style=\"stroke:#000000;stroke-width:0.8;\" x=\"50.14375\" xlink:href=\"#mfc037da6ab\" y=\"84.083823\"/>\r\n      </g>\r\n     </g>\r\n     <g id=\"text_37\">\r\n      <!-- 0.06 -->\r\n      <defs>\r\n       <path d=\"M 33.015625 40.375 \r\nQ 26.375 40.375 22.484375 35.828125 \r\nQ 18.609375 31.296875 18.609375 23.390625 \r\nQ 18.609375 15.53125 22.484375 10.953125 \r\nQ 26.375 6.390625 33.015625 6.390625 \r\nQ 39.65625 6.390625 43.53125 10.953125 \r\nQ 47.40625 15.53125 47.40625 23.390625 \r\nQ 47.40625 31.296875 43.53125 35.828125 \r\nQ 39.65625 40.375 33.015625 40.375 \r\nz\r\nM 52.59375 71.296875 \r\nL 52.59375 62.3125 \r\nQ 48.875 64.0625 45.09375 64.984375 \r\nQ 41.3125 65.921875 37.59375 65.921875 \r\nQ 27.828125 65.921875 22.671875 59.328125 \r\nQ 17.53125 52.734375 16.796875 39.40625 \r\nQ 19.671875 43.65625 24.015625 45.921875 \r\nQ 28.375 48.1875 33.59375 48.1875 \r\nQ 44.578125 48.1875 50.953125 41.515625 \r\nQ 57.328125 34.859375 57.328125 23.390625 \r\nQ 57.328125 12.15625 50.6875 5.359375 \r\nQ 44.046875 -1.421875 33.015625 -1.421875 \r\nQ 20.359375 -1.421875 13.671875 8.265625 \r\nQ 6.984375 17.96875 6.984375 36.375 \r\nQ 6.984375 53.65625 15.1875 63.9375 \r\nQ 23.390625 74.21875 37.203125 74.21875 \r\nQ 40.921875 74.21875 44.703125 73.484375 \r\nQ 48.484375 72.75 52.59375 71.296875 \r\nz\r\n\" id=\"DejaVuSans-54\"/>\r\n      </defs>\r\n      <g transform=\"translate(20.878125 87.883042)scale(0.1 -0.1)\">\r\n       <use xlink:href=\"#DejaVuSans-48\"/>\r\n       <use x=\"63.623047\" xlink:href=\"#DejaVuSans-46\"/>\r\n       <use x=\"95.410156\" xlink:href=\"#DejaVuSans-48\"/>\r\n       <use x=\"159.033203\" xlink:href=\"#DejaVuSans-54\"/>\r\n      </g>\r\n     </g>\r\n    </g>\r\n    <g id=\"ytick_8\">\r\n     <g id=\"line2d_38\">\r\n      <g>\r\n       <use style=\"stroke:#000000;stroke-width:0.8;\" x=\"50.14375\" xlink:href=\"#mfc037da6ab\" y=\"51.081787\"/>\r\n      </g>\r\n     </g>\r\n     <g id=\"text_38\">\r\n      <!-- 0.07 -->\r\n      <defs>\r\n       <path d=\"M 8.203125 72.90625 \r\nL 55.078125 72.90625 \r\nL 55.078125 68.703125 \r\nL 28.609375 0 \r\nL 18.3125 0 \r\nL 43.21875 64.59375 \r\nL 8.203125 64.59375 \r\nz\r\n\" id=\"DejaVuSans-55\"/>\r\n      </defs>\r\n      <g transform=\"translate(20.878125 54.881006)scale(0.1 -0.1)\">\r\n       <use xlink:href=\"#DejaVuSans-48\"/>\r\n       <use x=\"63.623047\" xlink:href=\"#DejaVuSans-46\"/>\r\n       <use x=\"95.410156\" xlink:href=\"#DejaVuSans-48\"/>\r\n       <use x=\"159.033203\" xlink:href=\"#DejaVuSans-55\"/>\r\n      </g>\r\n     </g>\r\n    </g>\r\n    <g id=\"text_39\">\r\n     <!-- importance -->\r\n     <g transform=\"translate(14.798438 188.305)rotate(-90)scale(0.1 -0.1)\">\r\n      <use xlink:href=\"#DejaVuSans-105\"/>\r\n      <use x=\"27.783203\" xlink:href=\"#DejaVuSans-109\"/>\r\n      <use x=\"125.195312\" xlink:href=\"#DejaVuSans-112\"/>\r\n      <use x=\"188.671875\" xlink:href=\"#DejaVuSans-111\"/>\r\n      <use x=\"249.853516\" xlink:href=\"#DejaVuSans-114\"/>\r\n      <use x=\"290.966797\" xlink:href=\"#DejaVuSans-116\"/>\r\n      <use x=\"330.175781\" xlink:href=\"#DejaVuSans-97\"/>\r\n      <use x=\"391.455078\" xlink:href=\"#DejaVuSans-110\"/>\r\n      <use x=\"454.833984\" xlink:href=\"#DejaVuSans-99\"/>\r\n      <use x=\"509.814453\" xlink:href=\"#DejaVuSans-101\"/>\r\n     </g>\r\n    </g>\r\n   </g>\r\n   <g id=\"LineCollection_1\">\r\n    <path clip-path=\"url(#p4bbaa34641)\" d=\"M 98.402749 72.015148 \r\nL 98.402749 36.192358 \r\n\" style=\"fill:none;stroke:#000000;stroke-width:1.5;\"/>\r\n    <path clip-path=\"url(#p4bbaa34641)\" d=\"M 123.936612 178.417022 \r\nL 123.936612 151.302348 \r\n\" style=\"fill:none;stroke:#000000;stroke-width:1.5;\"/>\r\n    <path clip-path=\"url(#p4bbaa34641)\" d=\"M 149.470474 188.042511 \r\nL 149.470474 177.735003 \r\n\" style=\"fill:none;stroke:#000000;stroke-width:1.5;\"/>\r\n    <path clip-path=\"url(#p4bbaa34641)\" d=\"M 175.004336 207.882535 \r\nL 175.004336 176.526171 \r\n\" style=\"fill:none;stroke:#000000;stroke-width:1.5;\"/>\r\n    <path clip-path=\"url(#p4bbaa34641)\" d=\"M 200.538198 208.982418 \r\nL 200.538198 200.171244 \r\n\" style=\"fill:none;stroke:#000000;stroke-width:1.5;\"/>\r\n    <path clip-path=\"url(#p4bbaa34641)\" d=\"M 226.07206 218.690585 \r\nL 226.07206 204.810234 \r\n\" style=\"fill:none;stroke:#000000;stroke-width:1.5;\"/>\r\n    <path clip-path=\"url(#p4bbaa34641)\" d=\"M 251.605922 241.166903 \r\nL 251.605922 225.011092 \r\n\" style=\"fill:none;stroke:#000000;stroke-width:1.5;\"/>\r\n    <path clip-path=\"url(#p4bbaa34641)\" d=\"M 277.139784 242.826815 \r\nL 277.139784 231.190835 \r\n\" style=\"fill:none;stroke:#000000;stroke-width:1.5;\"/>\r\n    <path clip-path=\"url(#p4bbaa34641)\" d=\"M 302.673646 251.231922 \r\nL 302.673646 229.069532 \r\n\" style=\"fill:none;stroke:#000000;stroke-width:1.5;\"/>\r\n    <path clip-path=\"url(#p4bbaa34641)\" d=\"M 328.207508 250.45862 \r\nL 328.207508 230.133099 \r\n\" style=\"fill:none;stroke:#000000;stroke-width:1.5;\"/>\r\n    <path clip-path=\"url(#p4bbaa34641)\" d=\"M 353.741371 248.429493 \r\nL 353.741371 238.904973 \r\n\" style=\"fill:none;stroke:#000000;stroke-width:1.5;\"/>\r\n    <path clip-path=\"url(#p4bbaa34641)\" d=\"M 379.275233 250.045859 \r\nL 379.275233 237.576802 \r\n\" style=\"fill:none;stroke:#000000;stroke-width:1.5;\"/>\r\n    <path clip-path=\"url(#p4bbaa34641)\" d=\"M 404.809095 253.2692 \r\nL 404.809095 238.77197 \r\n\" style=\"fill:none;stroke:#000000;stroke-width:1.5;\"/>\r\n    <path clip-path=\"url(#p4bbaa34641)\" d=\"M 430.342957 258.657018 \r\nL 430.342957 236.636808 \r\n\" style=\"fill:none;stroke:#000000;stroke-width:1.5;\"/>\r\n    <path clip-path=\"url(#p4bbaa34641)\" d=\"M 455.876819 257.348676 \r\nL 455.876819 250.222001 \r\n\" style=\"fill:none;stroke:#000000;stroke-width:1.5;\"/>\r\n    <path clip-path=\"url(#p4bbaa34641)\" d=\"M 481.410681 261.543874 \r\nL 481.410681 254.763995 \r\n\" style=\"fill:none;stroke:#000000;stroke-width:1.5;\"/>\r\n    <path clip-path=\"url(#p4bbaa34641)\" d=\"M 506.944543 264.975231 \r\nL 506.944543 251.865556 \r\n\" style=\"fill:none;stroke:#000000;stroke-width:1.5;\"/>\r\n    <path clip-path=\"url(#p4bbaa34641)\" d=\"M 532.478405 275.612769 \r\nL 532.478405 268.226122 \r\n\" style=\"fill:none;stroke:#000000;stroke-width:1.5;\"/>\r\n    <path clip-path=\"url(#p4bbaa34641)\" d=\"M 558.012267 275.915243 \r\nL 558.012267 269.021501 \r\n\" style=\"fill:none;stroke:#000000;stroke-width:1.5;\"/>\r\n    <path clip-path=\"url(#p4bbaa34641)\" d=\"M 583.546129 277.503271 \r\nL 583.546129 272.450465 \r\n\" style=\"fill:none;stroke:#000000;stroke-width:1.5;\"/>\r\n    <path clip-path=\"url(#p4bbaa34641)\" d=\"M 609.079992 279.703954 \r\nL 609.079992 273.146261 \r\n\" style=\"fill:none;stroke:#000000;stroke-width:1.5;\"/>\r\n    <path clip-path=\"url(#p4bbaa34641)\" d=\"M 634.613854 279.599106 \r\nL 634.613854 277.48186 \r\n\" style=\"fill:none;stroke:#000000;stroke-width:1.5;\"/>\r\n    <path clip-path=\"url(#p4bbaa34641)\" d=\"M 660.147716 281.64137 \r\nL 660.147716 275.694628 \r\n\" style=\"fill:none;stroke:#000000;stroke-width:1.5;\"/>\r\n    <path clip-path=\"url(#p4bbaa34641)\" d=\"M 685.681578 281.66043 \r\nL 685.681578 275.708327 \r\n\" style=\"fill:none;stroke:#000000;stroke-width:1.5;\"/>\r\n    <path clip-path=\"url(#p4bbaa34641)\" d=\"M 711.21544 280.666208 \r\nL 711.21544 277.979317 \r\n\" style=\"fill:none;stroke:#000000;stroke-width:1.5;\"/>\r\n    <path clip-path=\"url(#p4bbaa34641)\" d=\"M 736.749302 282.179277 \r\nL 736.749302 278.28444 \r\n\" style=\"fill:none;stroke:#000000;stroke-width:1.5;\"/>\r\n    <path clip-path=\"url(#p4bbaa34641)\" d=\"M 762.283164 282.779066 \r\nL 762.283164 277.904534 \r\n\" style=\"fill:none;stroke:#000000;stroke-width:1.5;\"/>\r\n    <path clip-path=\"url(#p4bbaa34641)\" d=\"M 787.817026 281.780694 \r\nL 787.817026 279.608019 \r\n\" style=\"fill:none;stroke:#000000;stroke-width:1.5;\"/>\r\n    <path clip-path=\"url(#p4bbaa34641)\" d=\"M 813.350888 282.26915 \r\nL 813.350888 280.120383 \r\n\" style=\"fill:none;stroke:#000000;stroke-width:1.5;\"/>\r\n    <path clip-path=\"url(#p4bbaa34641)\" d=\"M 838.884751 283.283267 \r\nL 838.884751 281.243479 \r\n\" style=\"fill:none;stroke:#000000;stroke-width:1.5;\"/>\r\n   </g>\r\n   <g id=\"line2d_39\">\r\n    <defs>\r\n     <path d=\"M 5 0 \r\nL -5 -0 \r\n\" id=\"m76ddbf0442\" style=\"stroke:#000000;\"/>\r\n    </defs>\r\n    <g clip-path=\"url(#p4bbaa34641)\">\r\n     <use style=\"stroke:#000000;\" x=\"98.402749\" xlink:href=\"#m76ddbf0442\" y=\"72.015148\"/>\r\n     <use style=\"stroke:#000000;\" x=\"123.936612\" xlink:href=\"#m76ddbf0442\" y=\"178.417022\"/>\r\n     <use style=\"stroke:#000000;\" x=\"149.470474\" xlink:href=\"#m76ddbf0442\" y=\"188.042511\"/>\r\n     <use style=\"stroke:#000000;\" x=\"175.004336\" xlink:href=\"#m76ddbf0442\" y=\"207.882535\"/>\r\n     <use style=\"stroke:#000000;\" x=\"200.538198\" xlink:href=\"#m76ddbf0442\" y=\"208.982418\"/>\r\n     <use style=\"stroke:#000000;\" x=\"226.07206\" xlink:href=\"#m76ddbf0442\" y=\"218.690585\"/>\r\n     <use style=\"stroke:#000000;\" x=\"251.605922\" xlink:href=\"#m76ddbf0442\" y=\"241.166903\"/>\r\n     <use style=\"stroke:#000000;\" x=\"277.139784\" xlink:href=\"#m76ddbf0442\" y=\"242.826815\"/>\r\n     <use style=\"stroke:#000000;\" x=\"302.673646\" xlink:href=\"#m76ddbf0442\" y=\"251.231922\"/>\r\n     <use style=\"stroke:#000000;\" x=\"328.207508\" xlink:href=\"#m76ddbf0442\" y=\"250.45862\"/>\r\n     <use style=\"stroke:#000000;\" x=\"353.741371\" xlink:href=\"#m76ddbf0442\" y=\"248.429493\"/>\r\n     <use style=\"stroke:#000000;\" x=\"379.275233\" xlink:href=\"#m76ddbf0442\" y=\"250.045859\"/>\r\n     <use style=\"stroke:#000000;\" x=\"404.809095\" xlink:href=\"#m76ddbf0442\" y=\"253.2692\"/>\r\n     <use style=\"stroke:#000000;\" x=\"430.342957\" xlink:href=\"#m76ddbf0442\" y=\"258.657018\"/>\r\n     <use style=\"stroke:#000000;\" x=\"455.876819\" xlink:href=\"#m76ddbf0442\" y=\"257.348676\"/>\r\n     <use style=\"stroke:#000000;\" x=\"481.410681\" xlink:href=\"#m76ddbf0442\" y=\"261.543874\"/>\r\n     <use style=\"stroke:#000000;\" x=\"506.944543\" xlink:href=\"#m76ddbf0442\" y=\"264.975231\"/>\r\n     <use style=\"stroke:#000000;\" x=\"532.478405\" xlink:href=\"#m76ddbf0442\" y=\"275.612769\"/>\r\n     <use style=\"stroke:#000000;\" x=\"558.012267\" xlink:href=\"#m76ddbf0442\" y=\"275.915243\"/>\r\n     <use style=\"stroke:#000000;\" x=\"583.546129\" xlink:href=\"#m76ddbf0442\" y=\"277.503271\"/>\r\n     <use style=\"stroke:#000000;\" x=\"609.079992\" xlink:href=\"#m76ddbf0442\" y=\"279.703954\"/>\r\n     <use style=\"stroke:#000000;\" x=\"634.613854\" xlink:href=\"#m76ddbf0442\" y=\"279.599106\"/>\r\n     <use style=\"stroke:#000000;\" x=\"660.147716\" xlink:href=\"#m76ddbf0442\" y=\"281.64137\"/>\r\n     <use style=\"stroke:#000000;\" x=\"685.681578\" xlink:href=\"#m76ddbf0442\" y=\"281.66043\"/>\r\n     <use style=\"stroke:#000000;\" x=\"711.21544\" xlink:href=\"#m76ddbf0442\" y=\"280.666208\"/>\r\n     <use style=\"stroke:#000000;\" x=\"736.749302\" xlink:href=\"#m76ddbf0442\" y=\"282.179277\"/>\r\n     <use style=\"stroke:#000000;\" x=\"762.283164\" xlink:href=\"#m76ddbf0442\" y=\"282.779066\"/>\r\n     <use style=\"stroke:#000000;\" x=\"787.817026\" xlink:href=\"#m76ddbf0442\" y=\"281.780694\"/>\r\n     <use style=\"stroke:#000000;\" x=\"813.350888\" xlink:href=\"#m76ddbf0442\" y=\"282.26915\"/>\r\n     <use style=\"stroke:#000000;\" x=\"838.884751\" xlink:href=\"#m76ddbf0442\" y=\"283.283267\"/>\r\n    </g>\r\n   </g>\r\n   <g id=\"line2d_40\">\r\n    <g clip-path=\"url(#p4bbaa34641)\">\r\n     <use style=\"stroke:#000000;\" x=\"98.402749\" xlink:href=\"#m76ddbf0442\" y=\"36.192358\"/>\r\n     <use style=\"stroke:#000000;\" x=\"123.936612\" xlink:href=\"#m76ddbf0442\" y=\"151.302348\"/>\r\n     <use style=\"stroke:#000000;\" x=\"149.470474\" xlink:href=\"#m76ddbf0442\" y=\"177.735003\"/>\r\n     <use style=\"stroke:#000000;\" x=\"175.004336\" xlink:href=\"#m76ddbf0442\" y=\"176.526171\"/>\r\n     <use style=\"stroke:#000000;\" x=\"200.538198\" xlink:href=\"#m76ddbf0442\" y=\"200.171244\"/>\r\n     <use style=\"stroke:#000000;\" x=\"226.07206\" xlink:href=\"#m76ddbf0442\" y=\"204.810234\"/>\r\n     <use style=\"stroke:#000000;\" x=\"251.605922\" xlink:href=\"#m76ddbf0442\" y=\"225.011092\"/>\r\n     <use style=\"stroke:#000000;\" x=\"277.139784\" xlink:href=\"#m76ddbf0442\" y=\"231.190835\"/>\r\n     <use style=\"stroke:#000000;\" x=\"302.673646\" xlink:href=\"#m76ddbf0442\" y=\"229.069532\"/>\r\n     <use style=\"stroke:#000000;\" x=\"328.207508\" xlink:href=\"#m76ddbf0442\" y=\"230.133099\"/>\r\n     <use style=\"stroke:#000000;\" x=\"353.741371\" xlink:href=\"#m76ddbf0442\" y=\"238.904973\"/>\r\n     <use style=\"stroke:#000000;\" x=\"379.275233\" xlink:href=\"#m76ddbf0442\" y=\"237.576802\"/>\r\n     <use style=\"stroke:#000000;\" x=\"404.809095\" xlink:href=\"#m76ddbf0442\" y=\"238.77197\"/>\r\n     <use style=\"stroke:#000000;\" x=\"430.342957\" xlink:href=\"#m76ddbf0442\" y=\"236.636808\"/>\r\n     <use style=\"stroke:#000000;\" x=\"455.876819\" xlink:href=\"#m76ddbf0442\" y=\"250.222001\"/>\r\n     <use style=\"stroke:#000000;\" x=\"481.410681\" xlink:href=\"#m76ddbf0442\" y=\"254.763995\"/>\r\n     <use style=\"stroke:#000000;\" x=\"506.944543\" xlink:href=\"#m76ddbf0442\" y=\"251.865556\"/>\r\n     <use style=\"stroke:#000000;\" x=\"532.478405\" xlink:href=\"#m76ddbf0442\" y=\"268.226122\"/>\r\n     <use style=\"stroke:#000000;\" x=\"558.012267\" xlink:href=\"#m76ddbf0442\" y=\"269.021501\"/>\r\n     <use style=\"stroke:#000000;\" x=\"583.546129\" xlink:href=\"#m76ddbf0442\" y=\"272.450465\"/>\r\n     <use style=\"stroke:#000000;\" x=\"609.079992\" xlink:href=\"#m76ddbf0442\" y=\"273.146261\"/>\r\n     <use style=\"stroke:#000000;\" x=\"634.613854\" xlink:href=\"#m76ddbf0442\" y=\"277.48186\"/>\r\n     <use style=\"stroke:#000000;\" x=\"660.147716\" xlink:href=\"#m76ddbf0442\" y=\"275.694628\"/>\r\n     <use style=\"stroke:#000000;\" x=\"685.681578\" xlink:href=\"#m76ddbf0442\" y=\"275.708327\"/>\r\n     <use style=\"stroke:#000000;\" x=\"711.21544\" xlink:href=\"#m76ddbf0442\" y=\"277.979317\"/>\r\n     <use style=\"stroke:#000000;\" x=\"736.749302\" xlink:href=\"#m76ddbf0442\" y=\"278.28444\"/>\r\n     <use style=\"stroke:#000000;\" x=\"762.283164\" xlink:href=\"#m76ddbf0442\" y=\"277.904534\"/>\r\n     <use style=\"stroke:#000000;\" x=\"787.817026\" xlink:href=\"#m76ddbf0442\" y=\"279.608019\"/>\r\n     <use style=\"stroke:#000000;\" x=\"813.350888\" xlink:href=\"#m76ddbf0442\" y=\"280.120383\"/>\r\n     <use style=\"stroke:#000000;\" x=\"838.884751\" xlink:href=\"#m76ddbf0442\" y=\"281.243479\"/>\r\n    </g>\r\n   </g>\r\n   <g id=\"patch_33\">\r\n    <path d=\"M 50.14375 295.637812 \r\nL 50.14375 23.837812 \r\n\" style=\"fill:none;stroke:#000000;stroke-linecap:square;stroke-linejoin:miter;stroke-width:0.8;\"/>\r\n   </g>\r\n   <g id=\"patch_34\">\r\n    <path d=\"M 887.14375 295.637812 \r\nL 887.14375 23.837812 \r\n\" style=\"fill:none;stroke:#000000;stroke-linecap:square;stroke-linejoin:miter;stroke-width:0.8;\"/>\r\n   </g>\r\n   <g id=\"patch_35\">\r\n    <path d=\"M 50.14375 295.637812 \r\nL 887.14375 295.637812 \r\n\" style=\"fill:none;stroke:#000000;stroke-linecap:square;stroke-linejoin:miter;stroke-width:0.8;\"/>\r\n   </g>\r\n   <g id=\"patch_36\">\r\n    <path d=\"M 50.14375 23.837812 \r\nL 887.14375 23.837812 \r\n\" style=\"fill:none;stroke:#000000;stroke-linecap:square;stroke-linejoin:miter;stroke-width:0.8;\"/>\r\n   </g>\r\n   <g id=\"text_40\">\r\n    <!-- Mean Score Decrease -->\r\n    <defs>\r\n     <path id=\"DejaVuSans-32\"/>\r\n    </defs>\r\n    <g transform=\"translate(392.390781 17.837812)scale(0.14 -0.14)\">\r\n     <use xlink:href=\"#DejaVuSans-77\"/>\r\n     <use x=\"86.279297\" xlink:href=\"#DejaVuSans-101\"/>\r\n     <use x=\"147.802734\" xlink:href=\"#DejaVuSans-97\"/>\r\n     <use x=\"209.082031\" xlink:href=\"#DejaVuSans-110\"/>\r\n     <use x=\"272.460938\" xlink:href=\"#DejaVuSans-32\"/>\r\n     <use x=\"304.248047\" xlink:href=\"#DejaVuSans-83\"/>\r\n     <use x=\"367.724609\" xlink:href=\"#DejaVuSans-99\"/>\r\n     <use x=\"422.705078\" xlink:href=\"#DejaVuSans-111\"/>\r\n     <use x=\"483.886719\" xlink:href=\"#DejaVuSans-114\"/>\r\n     <use x=\"524.96875\" xlink:href=\"#DejaVuSans-101\"/>\r\n     <use x=\"586.492188\" xlink:href=\"#DejaVuSans-32\"/>\r\n     <use x=\"618.279297\" xlink:href=\"#DejaVuSans-68\"/>\r\n     <use x=\"695.28125\" xlink:href=\"#DejaVuSans-101\"/>\r\n     <use x=\"756.804688\" xlink:href=\"#DejaVuSans-99\"/>\r\n     <use x=\"811.785156\" xlink:href=\"#DejaVuSans-114\"/>\r\n     <use x=\"852.867188\" xlink:href=\"#DejaVuSans-101\"/>\r\n     <use x=\"914.390625\" xlink:href=\"#DejaVuSans-97\"/>\r\n     <use x=\"975.669922\" xlink:href=\"#DejaVuSans-115\"/>\r\n     <use x=\"1027.769531\" xlink:href=\"#DejaVuSans-101\"/>\r\n    </g>\r\n   </g>\r\n  </g>\r\n </g>\r\n <defs>\r\n  <clipPath id=\"p4bbaa34641\">\r\n   <rect height=\"271.8\" width=\"837\" x=\"50.14375\" y=\"23.837812\"/>\r\n  </clipPath>\r\n </defs>\r\n</svg>\r\n",
      "image/png": "[encoded data removed]"
     },
     "metadata": {
      "needs_background": "light"
     }
    }
   ],
   "source": [
    "# feature importance berasarkan mean score decrease\n",
    "mean_score_decrease( X_train, y_train, model, plot=True, topk=None, n_fold=5, normalize=False, random_state=42)"
   ]
  },
  {
   "cell_type": "code",
   "execution_count": null,
   "metadata": {},
   "outputs": [],
   "source": []
  },
  {
   "cell_type": "code",
   "execution_count": 159,
   "metadata": {},
   "outputs": [
    {
     "output_type": "display_data",
     "data": {
      "text/plain": "<Figure size 720x720 with 2 Axes>",
      "image/svg+xml": "<?xml version=\"1.0\" encoding=\"utf-8\" standalone=\"no\"?>\r\n<!DOCTYPE svg PUBLIC \"-//W3C//DTD SVG 1.1//EN\"\r\n  \"http://www.w3.org/Graphics/SVG/1.1/DTD/svg11.dtd\">\r\n<!-- Created with matplotlib (https://matplotlib.org/) -->\r\n<svg height=\"578.477344pt\" version=\"1.1\" viewBox=\"0 0 678.025313 578.477344\" width=\"678.025313pt\" xmlns=\"http://www.w3.org/2000/svg\" xmlns:xlink=\"http://www.w3.org/1999/xlink\">\r\n <defs>\r\n  <style type=\"text/css\">\r\n*{stroke-linecap:butt;stroke-linejoin:round;}\r\n  </style>\r\n </defs>\r\n <g id=\"figure_1\">\r\n  <g id=\"patch_1\">\r\n   <path d=\"M 0 578.477344 \r\nL 678.025313 578.477344 \r\nL 678.025313 0 \r\nL 0 0 \r\nz\r\n\" style=\"fill:none;\"/>\r\n  </g>\r\n  <g id=\"axes_1\">\r\n   <g id=\"patch_2\">\r\n    <path d=\"M 131.7 554.599219 \r\nL 578.1 554.599219 \r\nL 578.1 10.999219 \r\nL 131.7 10.999219 \r\nz\r\n\" style=\"fill:#ffffff;\"/>\r\n   </g>\r\n   <g id=\"QuadMesh_1\">\r\n    <path clip-path=\"url(#p96141a6e29)\" d=\"M 131.7 10.999219 \r\nL 578.1 10.999219 \r\nL 578.1 32.743219 \r\nL 131.7 32.743219 \r\nL 131.7 10.999219 \r\n\" style=\"fill:#c9d7f0;\"/>\r\n    <path clip-path=\"url(#p96141a6e29)\" d=\"M 131.7 32.743219 \r\nL 578.1 32.743219 \r\nL 578.1 54.487219 \r\nL 131.7 54.487219 \r\nL 131.7 32.743219 \r\n\" style=\"fill:#f6bfa6;\"/>\r\n    <path clip-path=\"url(#p96141a6e29)\" d=\"M 131.7 54.487219 \r\nL 578.1 54.487219 \r\nL 578.1 76.231219 \r\nL 131.7 76.231219 \r\nL 131.7 54.487219 \r\n\" style=\"fill:#c6d6f1;\"/>\r\n    <path clip-path=\"url(#p96141a6e29)\" d=\"M 131.7 76.231219 \r\nL 578.1 76.231219 \r\nL 578.1 97.975219 \r\nL 131.7 97.975219 \r\nL 131.7 76.231219 \r\n\" style=\"fill:#f5c2aa;\"/>\r\n    <path clip-path=\"url(#p96141a6e29)\" d=\"M 131.7 97.975219 \r\nL 578.1 97.975219 \r\nL 578.1 119.719219 \r\nL 131.7 119.719219 \r\nL 131.7 97.975219 \r\n\" style=\"fill:#c0d4f5;\"/>\r\n    <path clip-path=\"url(#p96141a6e29)\" d=\"M 131.7 119.719219 \r\nL 578.1 119.719219 \r\nL 578.1 141.463219 \r\nL 131.7 141.463219 \r\nL 131.7 119.719219 \r\n\" style=\"fill:#f2cbb7;\"/>\r\n    <path clip-path=\"url(#p96141a6e29)\" d=\"M 131.7 141.463219 \r\nL 578.1 141.463219 \r\nL 578.1 163.207219 \r\nL 131.7 163.207219 \r\nL 131.7 141.463219 \r\n\" style=\"fill:#dedcdb;\"/>\r\n    <path clip-path=\"url(#p96141a6e29)\" d=\"M 131.7 163.207219 \r\nL 578.1 163.207219 \r\nL 578.1 184.951219 \r\nL 131.7 184.951219 \r\nL 131.7 163.207219 \r\n\" style=\"fill:#b9d0f9;\"/>\r\n    <path clip-path=\"url(#p96141a6e29)\" d=\"M 131.7 184.951219 \r\nL 578.1 184.951219 \r\nL 578.1 206.695219 \r\nL 131.7 206.695219 \r\nL 131.7 184.951219 \r\n\" style=\"fill:#f5c2aa;\"/>\r\n    <path clip-path=\"url(#p96141a6e29)\" d=\"M 131.7 206.695219 \r\nL 578.1 206.695219 \r\nL 578.1 228.439219 \r\nL 131.7 228.439219 \r\nL 131.7 206.695219 \r\n\" style=\"fill:#f5c2aa;\"/>\r\n    <path clip-path=\"url(#p96141a6e29)\" d=\"M 131.7 228.439219 \r\nL 578.1 228.439219 \r\nL 578.1 250.183219 \r\nL 131.7 250.183219 \r\nL 131.7 228.439219 \r\n\" style=\"fill:#f7b396;\"/>\r\n    <path clip-path=\"url(#p96141a6e29)\" d=\"M 131.7 250.183219 \r\nL 578.1 250.183219 \r\nL 578.1 271.927219 \r\nL 131.7 271.927219 \r\nL 131.7 250.183219 \r\n\" style=\"fill:#f4c5ad;\"/>\r\n    <path clip-path=\"url(#p96141a6e29)\" d=\"M 131.7 271.927219 \r\nL 578.1 271.927219 \r\nL 578.1 293.671219 \r\nL 131.7 293.671219 \r\nL 131.7 271.927219 \r\n\" style=\"fill:#efcfbf;\"/>\r\n    <path clip-path=\"url(#p96141a6e29)\" d=\"M 131.7 293.671219 \r\nL 578.1 293.671219 \r\nL 578.1 315.415219 \r\nL 131.7 315.415219 \r\nL 131.7 293.671219 \r\n\" style=\"fill:#dddcdc;\"/>\r\n    <path clip-path=\"url(#p96141a6e29)\" d=\"M 131.7 315.415219 \r\nL 578.1 315.415219 \r\nL 578.1 337.159219 \r\nL 131.7 337.159219 \r\nL 131.7 315.415219 \r\n\" style=\"fill:#c9d7f0;\"/>\r\n    <path clip-path=\"url(#p96141a6e29)\" d=\"M 131.7 337.159219 \r\nL 578.1 337.159219 \r\nL 578.1 358.903219 \r\nL 131.7 358.903219 \r\nL 131.7 337.159219 \r\n\" style=\"fill:#e1dad6;\"/>\r\n    <path clip-path=\"url(#p96141a6e29)\" d=\"M 131.7 358.903219 \r\nL 578.1 358.903219 \r\nL 578.1 380.647219 \r\nL 131.7 380.647219 \r\nL 131.7 358.903219 \r\n\" style=\"fill:#d7dce3;\"/>\r\n    <path clip-path=\"url(#p96141a6e29)\" d=\"M 131.7 380.647219 \r\nL 578.1 380.647219 \r\nL 578.1 402.391219 \r\nL 131.7 402.391219 \r\nL 131.7 380.647219 \r\n\" style=\"fill:#dadce0;\"/>\r\n    <path clip-path=\"url(#p96141a6e29)\" d=\"M 131.7 402.391219 \r\nL 578.1 402.391219 \r\nL 578.1 424.135219 \r\nL 131.7 424.135219 \r\nL 131.7 402.391219 \r\n\" style=\"fill:#e3d9d3;\"/>\r\n    <path clip-path=\"url(#p96141a6e29)\" d=\"M 131.7 424.135219 \r\nL 578.1 424.135219 \r\nL 578.1 445.879219 \r\nL 131.7 445.879219 \r\nL 131.7 424.135219 \r\n\" style=\"fill:#d8dce2;\"/>\r\n    <path clip-path=\"url(#p96141a6e29)\" d=\"M 131.7 445.879219 \r\nL 578.1 445.879219 \r\nL 578.1 467.623219 \r\nL 131.7 467.623219 \r\nL 131.7 445.879219 \r\n\" style=\"fill:#e7d7ce;\"/>\r\n    <path clip-path=\"url(#p96141a6e29)\" d=\"M 131.7 467.623219 \r\nL 578.1 467.623219 \r\nL 578.1 489.367219 \r\nL 131.7 489.367219 \r\nL 131.7 467.623219 \r\n\" style=\"fill:#dbdcde;\"/>\r\n    <path clip-path=\"url(#p96141a6e29)\" d=\"M 131.7 489.367219 \r\nL 578.1 489.367219 \r\nL 578.1 511.111219 \r\nL 131.7 511.111219 \r\nL 131.7 489.367219 \r\n\" style=\"fill:#d3dbe7;\"/>\r\n    <path clip-path=\"url(#p96141a6e29)\" d=\"M 131.7 511.111219 \r\nL 578.1 511.111219 \r\nL 578.1 532.855219 \r\nL 131.7 532.855219 \r\nL 131.7 511.111219 \r\n\" style=\"fill:#dedcdb;\"/>\r\n    <path clip-path=\"url(#p96141a6e29)\" d=\"M 131.7 532.855219 \r\nL 578.1 532.855219 \r\nL 578.1 554.599219 \r\nL 131.7 554.599219 \r\nL 131.7 532.855219 \r\n\" style=\"fill:#b40426;\"/>\r\n   </g>\r\n   <g id=\"matplotlib.axis_1\">\r\n    <g id=\"xtick_1\">\r\n     <g id=\"line2d_1\">\r\n      <defs>\r\n       <path d=\"M 0 0 \r\nL 0 3.5 \r\n\" id=\"m3478ac1987\" style=\"stroke:#000000;stroke-width:0.8;\"/>\r\n      </defs>\r\n      <g>\r\n       <use style=\"stroke:#000000;stroke-width:0.8;\" x=\"354.9\" xlink:href=\"#m3478ac1987\" y=\"554.599219\"/>\r\n      </g>\r\n     </g>\r\n     <g id=\"text_1\">\r\n      <!-- Salary -->\r\n      <defs>\r\n       <path d=\"M 53.515625 70.515625 \r\nL 53.515625 60.890625 \r\nQ 47.90625 63.578125 42.921875 64.890625 \r\nQ 37.9375 66.21875 33.296875 66.21875 \r\nQ 25.25 66.21875 20.875 63.09375 \r\nQ 16.5 59.96875 16.5 54.203125 \r\nQ 16.5 49.359375 19.40625 46.890625 \r\nQ 22.3125 44.4375 30.421875 42.921875 \r\nL 36.375 41.703125 \r\nQ 47.40625 39.59375 52.65625 34.296875 \r\nQ 57.90625 29 57.90625 20.125 \r\nQ 57.90625 9.515625 50.796875 4.046875 \r\nQ 43.703125 -1.421875 29.984375 -1.421875 \r\nQ 24.8125 -1.421875 18.96875 -0.25 \r\nQ 13.140625 0.921875 6.890625 3.21875 \r\nL 6.890625 13.375 \r\nQ 12.890625 10.015625 18.65625 8.296875 \r\nQ 24.421875 6.59375 29.984375 6.59375 \r\nQ 38.421875 6.59375 43.015625 9.90625 \r\nQ 47.609375 13.234375 47.609375 19.390625 \r\nQ 47.609375 24.75 44.3125 27.78125 \r\nQ 41.015625 30.8125 33.5 32.328125 \r\nL 27.484375 33.5 \r\nQ 16.453125 35.6875 11.515625 40.375 \r\nQ 6.59375 45.0625 6.59375 53.421875 \r\nQ 6.59375 63.09375 13.40625 68.65625 \r\nQ 20.21875 74.21875 32.171875 74.21875 \r\nQ 37.3125 74.21875 42.625 73.28125 \r\nQ 47.953125 72.359375 53.515625 70.515625 \r\nz\r\n\" id=\"DejaVuSans-83\"/>\r\n       <path d=\"M 34.28125 27.484375 \r\nQ 23.390625 27.484375 19.1875 25 \r\nQ 14.984375 22.515625 14.984375 16.5 \r\nQ 14.984375 11.71875 18.140625 8.90625 \r\nQ 21.296875 6.109375 26.703125 6.109375 \r\nQ 34.1875 6.109375 38.703125 11.40625 \r\nQ 43.21875 16.703125 43.21875 25.484375 \r\nL 43.21875 27.484375 \r\nz\r\nM 52.203125 31.203125 \r\nL 52.203125 0 \r\nL 43.21875 0 \r\nL 43.21875 8.296875 \r\nQ 40.140625 3.328125 35.546875 0.953125 \r\nQ 30.953125 -1.421875 24.3125 -1.421875 \r\nQ 15.921875 -1.421875 10.953125 3.296875 \r\nQ 6 8.015625 6 15.921875 \r\nQ 6 25.140625 12.171875 29.828125 \r\nQ 18.359375 34.515625 30.609375 34.515625 \r\nL 43.21875 34.515625 \r\nL 43.21875 35.40625 \r\nQ 43.21875 41.609375 39.140625 45 \r\nQ 35.0625 48.390625 27.6875 48.390625 \r\nQ 23 48.390625 18.546875 47.265625 \r\nQ 14.109375 46.140625 10.015625 43.890625 \r\nL 10.015625 52.203125 \r\nQ 14.9375 54.109375 19.578125 55.046875 \r\nQ 24.21875 56 28.609375 56 \r\nQ 40.484375 56 46.34375 49.84375 \r\nQ 52.203125 43.703125 52.203125 31.203125 \r\nz\r\n\" id=\"DejaVuSans-97\"/>\r\n       <path d=\"M 9.421875 75.984375 \r\nL 18.40625 75.984375 \r\nL 18.40625 0 \r\nL 9.421875 0 \r\nz\r\n\" id=\"DejaVuSans-108\"/>\r\n       <path d=\"M 41.109375 46.296875 \r\nQ 39.59375 47.171875 37.8125 47.578125 \r\nQ 36.03125 48 33.890625 48 \r\nQ 26.265625 48 22.1875 43.046875 \r\nQ 18.109375 38.09375 18.109375 28.8125 \r\nL 18.109375 0 \r\nL 9.078125 0 \r\nL 9.078125 54.6875 \r\nL 18.109375 54.6875 \r\nL 18.109375 46.1875 \r\nQ 20.953125 51.171875 25.484375 53.578125 \r\nQ 30.03125 56 36.53125 56 \r\nQ 37.453125 56 38.578125 55.875 \r\nQ 39.703125 55.765625 41.0625 55.515625 \r\nz\r\n\" id=\"DejaVuSans-114\"/>\r\n       <path d=\"M 32.171875 -5.078125 \r\nQ 28.375 -14.84375 24.75 -17.8125 \r\nQ 21.140625 -20.796875 15.09375 -20.796875 \r\nL 7.90625 -20.796875 \r\nL 7.90625 -13.28125 \r\nL 13.1875 -13.28125 \r\nQ 16.890625 -13.28125 18.9375 -11.515625 \r\nQ 21 -9.765625 23.484375 -3.21875 \r\nL 25.09375 0.875 \r\nL 2.984375 54.6875 \r\nL 12.5 54.6875 \r\nL 29.59375 11.921875 \r\nL 46.6875 54.6875 \r\nL 56.203125 54.6875 \r\nz\r\n\" id=\"DejaVuSans-121\"/>\r\n      </defs>\r\n      <g transform=\"translate(339.19375 569.197656)scale(0.1 -0.1)\">\r\n       <use xlink:href=\"#DejaVuSans-83\"/>\r\n       <use x=\"63.476562\" xlink:href=\"#DejaVuSans-97\"/>\r\n       <use x=\"124.755859\" xlink:href=\"#DejaVuSans-108\"/>\r\n       <use x=\"152.539062\" xlink:href=\"#DejaVuSans-97\"/>\r\n       <use x=\"213.818359\" xlink:href=\"#DejaVuSans-114\"/>\r\n       <use x=\"254.931641\" xlink:href=\"#DejaVuSans-121\"/>\r\n      </g>\r\n     </g>\r\n    </g>\r\n   </g>\r\n   <g id=\"matplotlib.axis_2\">\r\n    <g id=\"ytick_1\">\r\n     <g id=\"line2d_2\">\r\n      <defs>\r\n       <path d=\"M 0 0 \r\nL -3.5 0 \r\n\" id=\"mecd97f2883\" style=\"stroke:#000000;stroke-width:0.8;\"/>\r\n      </defs>\r\n      <g>\r\n       <use style=\"stroke:#000000;stroke-width:0.8;\" x=\"131.7\" xlink:href=\"#mecd97f2883\" y=\"21.871219\"/>\r\n      </g>\r\n     </g>\r\n     <g id=\"text_2\">\r\n      <!-- DOB -->\r\n      <defs>\r\n       <path d=\"M 19.671875 64.796875 \r\nL 19.671875 8.109375 \r\nL 31.59375 8.109375 \r\nQ 46.6875 8.109375 53.6875 14.9375 \r\nQ 60.6875 21.78125 60.6875 36.53125 \r\nQ 60.6875 51.171875 53.6875 57.984375 \r\nQ 46.6875 64.796875 31.59375 64.796875 \r\nz\r\nM 9.8125 72.90625 \r\nL 30.078125 72.90625 \r\nQ 51.265625 72.90625 61.171875 64.09375 \r\nQ 71.09375 55.28125 71.09375 36.53125 \r\nQ 71.09375 17.671875 61.125 8.828125 \r\nQ 51.171875 0 30.078125 0 \r\nL 9.8125 0 \r\nz\r\n\" id=\"DejaVuSans-68\"/>\r\n       <path d=\"M 39.40625 66.21875 \r\nQ 28.65625 66.21875 22.328125 58.203125 \r\nQ 16.015625 50.203125 16.015625 36.375 \r\nQ 16.015625 22.609375 22.328125 14.59375 \r\nQ 28.65625 6.59375 39.40625 6.59375 \r\nQ 50.140625 6.59375 56.421875 14.59375 \r\nQ 62.703125 22.609375 62.703125 36.375 \r\nQ 62.703125 50.203125 56.421875 58.203125 \r\nQ 50.140625 66.21875 39.40625 66.21875 \r\nz\r\nM 39.40625 74.21875 \r\nQ 54.734375 74.21875 63.90625 63.9375 \r\nQ 73.09375 53.65625 73.09375 36.375 \r\nQ 73.09375 19.140625 63.90625 8.859375 \r\nQ 54.734375 -1.421875 39.40625 -1.421875 \r\nQ 24.03125 -1.421875 14.8125 8.828125 \r\nQ 5.609375 19.09375 5.609375 36.375 \r\nQ 5.609375 53.65625 14.8125 63.9375 \r\nQ 24.03125 74.21875 39.40625 74.21875 \r\nz\r\n\" id=\"DejaVuSans-79\"/>\r\n       <path d=\"M 19.671875 34.8125 \r\nL 19.671875 8.109375 \r\nL 35.5 8.109375 \r\nQ 43.453125 8.109375 47.28125 11.40625 \r\nQ 51.125 14.703125 51.125 21.484375 \r\nQ 51.125 28.328125 47.28125 31.5625 \r\nQ 43.453125 34.8125 35.5 34.8125 \r\nz\r\nM 19.671875 64.796875 \r\nL 19.671875 42.828125 \r\nL 34.28125 42.828125 \r\nQ 41.5 42.828125 45.03125 45.53125 \r\nQ 48.578125 48.25 48.578125 53.8125 \r\nQ 48.578125 59.328125 45.03125 62.0625 \r\nQ 41.5 64.796875 34.28125 64.796875 \r\nz\r\nM 9.8125 72.90625 \r\nL 35.015625 72.90625 \r\nQ 46.296875 72.90625 52.390625 68.21875 \r\nQ 58.5 63.53125 58.5 54.890625 \r\nQ 58.5 48.1875 55.375 44.234375 \r\nQ 52.25 40.28125 46.1875 39.3125 \r\nQ 53.46875 37.75 57.5 32.78125 \r\nQ 61.53125 27.828125 61.53125 20.40625 \r\nQ 61.53125 10.640625 54.890625 5.3125 \r\nQ 48.25 0 35.984375 0 \r\nL 9.8125 0 \r\nz\r\n\" id=\"DejaVuSans-66\"/>\r\n      </defs>\r\n      <g transform=\"translate(102.267187 25.670438)scale(0.1 -0.1)\">\r\n       <use xlink:href=\"#DejaVuSans-68\"/>\r\n       <use x=\"77.001953\" xlink:href=\"#DejaVuSans-79\"/>\r\n       <use x=\"155.712891\" xlink:href=\"#DejaVuSans-66\"/>\r\n      </g>\r\n     </g>\r\n    </g>\r\n    <g id=\"ytick_2\">\r\n     <g id=\"line2d_3\">\r\n      <g>\r\n       <use style=\"stroke:#000000;stroke-width:0.8;\" x=\"131.7\" xlink:href=\"#mecd97f2883\" y=\"43.615219\"/>\r\n      </g>\r\n     </g>\r\n     <g id=\"text_3\">\r\n      <!-- 10percentage -->\r\n      <defs>\r\n       <path d=\"M 12.40625 8.296875 \r\nL 28.515625 8.296875 \r\nL 28.515625 63.921875 \r\nL 10.984375 60.40625 \r\nL 10.984375 69.390625 \r\nL 28.421875 72.90625 \r\nL 38.28125 72.90625 \r\nL 38.28125 8.296875 \r\nL 54.390625 8.296875 \r\nL 54.390625 0 \r\nL 12.40625 0 \r\nz\r\n\" id=\"DejaVuSans-49\"/>\r\n       <path d=\"M 31.78125 66.40625 \r\nQ 24.171875 66.40625 20.328125 58.90625 \r\nQ 16.5 51.421875 16.5 36.375 \r\nQ 16.5 21.390625 20.328125 13.890625 \r\nQ 24.171875 6.390625 31.78125 6.390625 \r\nQ 39.453125 6.390625 43.28125 13.890625 \r\nQ 47.125 21.390625 47.125 36.375 \r\nQ 47.125 51.421875 43.28125 58.90625 \r\nQ 39.453125 66.40625 31.78125 66.40625 \r\nz\r\nM 31.78125 74.21875 \r\nQ 44.046875 74.21875 50.515625 64.515625 \r\nQ 56.984375 54.828125 56.984375 36.375 \r\nQ 56.984375 17.96875 50.515625 8.265625 \r\nQ 44.046875 -1.421875 31.78125 -1.421875 \r\nQ 19.53125 -1.421875 13.0625 8.265625 \r\nQ 6.59375 17.96875 6.59375 36.375 \r\nQ 6.59375 54.828125 13.0625 64.515625 \r\nQ 19.53125 74.21875 31.78125 74.21875 \r\nz\r\n\" id=\"DejaVuSans-48\"/>\r\n       <path d=\"M 18.109375 8.203125 \r\nL 18.109375 -20.796875 \r\nL 9.078125 -20.796875 \r\nL 9.078125 54.6875 \r\nL 18.109375 54.6875 \r\nL 18.109375 46.390625 \r\nQ 20.953125 51.265625 25.265625 53.625 \r\nQ 29.59375 56 35.59375 56 \r\nQ 45.5625 56 51.78125 48.09375 \r\nQ 58.015625 40.1875 58.015625 27.296875 \r\nQ 58.015625 14.40625 51.78125 6.484375 \r\nQ 45.5625 -1.421875 35.59375 -1.421875 \r\nQ 29.59375 -1.421875 25.265625 0.953125 \r\nQ 20.953125 3.328125 18.109375 8.203125 \r\nz\r\nM 48.6875 27.296875 \r\nQ 48.6875 37.203125 44.609375 42.84375 \r\nQ 40.53125 48.484375 33.40625 48.484375 \r\nQ 26.265625 48.484375 22.1875 42.84375 \r\nQ 18.109375 37.203125 18.109375 27.296875 \r\nQ 18.109375 17.390625 22.1875 11.75 \r\nQ 26.265625 6.109375 33.40625 6.109375 \r\nQ 40.53125 6.109375 44.609375 11.75 \r\nQ 48.6875 17.390625 48.6875 27.296875 \r\nz\r\n\" id=\"DejaVuSans-112\"/>\r\n       <path d=\"M 56.203125 29.59375 \r\nL 56.203125 25.203125 \r\nL 14.890625 25.203125 \r\nQ 15.484375 15.921875 20.484375 11.0625 \r\nQ 25.484375 6.203125 34.421875 6.203125 \r\nQ 39.59375 6.203125 44.453125 7.46875 \r\nQ 49.3125 8.734375 54.109375 11.28125 \r\nL 54.109375 2.78125 \r\nQ 49.265625 0.734375 44.1875 -0.34375 \r\nQ 39.109375 -1.421875 33.890625 -1.421875 \r\nQ 20.796875 -1.421875 13.15625 6.1875 \r\nQ 5.515625 13.8125 5.515625 26.8125 \r\nQ 5.515625 40.234375 12.765625 48.109375 \r\nQ 20.015625 56 32.328125 56 \r\nQ 43.359375 56 49.78125 48.890625 \r\nQ 56.203125 41.796875 56.203125 29.59375 \r\nz\r\nM 47.21875 32.234375 \r\nQ 47.125 39.59375 43.09375 43.984375 \r\nQ 39.0625 48.390625 32.421875 48.390625 \r\nQ 24.90625 48.390625 20.390625 44.140625 \r\nQ 15.875 39.890625 15.1875 32.171875 \r\nz\r\n\" id=\"DejaVuSans-101\"/>\r\n       <path d=\"M 48.78125 52.59375 \r\nL 48.78125 44.1875 \r\nQ 44.96875 46.296875 41.140625 47.34375 \r\nQ 37.3125 48.390625 33.40625 48.390625 \r\nQ 24.65625 48.390625 19.8125 42.84375 \r\nQ 14.984375 37.3125 14.984375 27.296875 \r\nQ 14.984375 17.28125 19.8125 11.734375 \r\nQ 24.65625 6.203125 33.40625 6.203125 \r\nQ 37.3125 6.203125 41.140625 7.25 \r\nQ 44.96875 8.296875 48.78125 10.40625 \r\nL 48.78125 2.09375 \r\nQ 45.015625 0.34375 40.984375 -0.53125 \r\nQ 36.96875 -1.421875 32.421875 -1.421875 \r\nQ 20.0625 -1.421875 12.78125 6.34375 \r\nQ 5.515625 14.109375 5.515625 27.296875 \r\nQ 5.515625 40.671875 12.859375 48.328125 \r\nQ 20.21875 56 33.015625 56 \r\nQ 37.15625 56 41.109375 55.140625 \r\nQ 45.0625 54.296875 48.78125 52.59375 \r\nz\r\n\" id=\"DejaVuSans-99\"/>\r\n       <path d=\"M 54.890625 33.015625 \r\nL 54.890625 0 \r\nL 45.90625 0 \r\nL 45.90625 32.71875 \r\nQ 45.90625 40.484375 42.875 44.328125 \r\nQ 39.84375 48.1875 33.796875 48.1875 \r\nQ 26.515625 48.1875 22.3125 43.546875 \r\nQ 18.109375 38.921875 18.109375 30.90625 \r\nL 18.109375 0 \r\nL 9.078125 0 \r\nL 9.078125 54.6875 \r\nL 18.109375 54.6875 \r\nL 18.109375 46.1875 \r\nQ 21.34375 51.125 25.703125 53.5625 \r\nQ 30.078125 56 35.796875 56 \r\nQ 45.21875 56 50.046875 50.171875 \r\nQ 54.890625 44.34375 54.890625 33.015625 \r\nz\r\n\" id=\"DejaVuSans-110\"/>\r\n       <path d=\"M 18.3125 70.21875 \r\nL 18.3125 54.6875 \r\nL 36.8125 54.6875 \r\nL 36.8125 47.703125 \r\nL 18.3125 47.703125 \r\nL 18.3125 18.015625 \r\nQ 18.3125 11.328125 20.140625 9.421875 \r\nQ 21.96875 7.515625 27.59375 7.515625 \r\nL 36.8125 7.515625 \r\nL 36.8125 0 \r\nL 27.59375 0 \r\nQ 17.1875 0 13.234375 3.875 \r\nQ 9.28125 7.765625 9.28125 18.015625 \r\nL 9.28125 47.703125 \r\nL 2.6875 47.703125 \r\nL 2.6875 54.6875 \r\nL 9.28125 54.6875 \r\nL 9.28125 70.21875 \r\nz\r\n\" id=\"DejaVuSans-116\"/>\r\n       <path d=\"M 45.40625 27.984375 \r\nQ 45.40625 37.75 41.375 43.109375 \r\nQ 37.359375 48.484375 30.078125 48.484375 \r\nQ 22.859375 48.484375 18.828125 43.109375 \r\nQ 14.796875 37.75 14.796875 27.984375 \r\nQ 14.796875 18.265625 18.828125 12.890625 \r\nQ 22.859375 7.515625 30.078125 7.515625 \r\nQ 37.359375 7.515625 41.375 12.890625 \r\nQ 45.40625 18.265625 45.40625 27.984375 \r\nz\r\nM 54.390625 6.78125 \r\nQ 54.390625 -7.171875 48.1875 -13.984375 \r\nQ 42 -20.796875 29.203125 -20.796875 \r\nQ 24.46875 -20.796875 20.265625 -20.09375 \r\nQ 16.0625 -19.390625 12.109375 -17.921875 \r\nL 12.109375 -9.1875 \r\nQ 16.0625 -11.328125 19.921875 -12.34375 \r\nQ 23.78125 -13.375 27.78125 -13.375 \r\nQ 36.625 -13.375 41.015625 -8.765625 \r\nQ 45.40625 -4.15625 45.40625 5.171875 \r\nL 45.40625 9.625 \r\nQ 42.625 4.78125 38.28125 2.390625 \r\nQ 33.9375 0 27.875 0 \r\nQ 17.828125 0 11.671875 7.65625 \r\nQ 5.515625 15.328125 5.515625 27.984375 \r\nQ 5.515625 40.671875 11.671875 48.328125 \r\nQ 17.828125 56 27.875 56 \r\nQ 33.9375 56 38.28125 53.609375 \r\nQ 42.625 51.21875 45.40625 46.390625 \r\nL 45.40625 54.6875 \r\nL 54.390625 54.6875 \r\nz\r\n\" id=\"DejaVuSans-103\"/>\r\n      </defs>\r\n      <g transform=\"translate(54.826562 47.414438)scale(0.1 -0.1)\">\r\n       <use xlink:href=\"#DejaVuSans-49\"/>\r\n       <use x=\"63.623047\" xlink:href=\"#DejaVuSans-48\"/>\r\n       <use x=\"127.246094\" xlink:href=\"#DejaVuSans-112\"/>\r\n       <use x=\"190.722656\" xlink:href=\"#DejaVuSans-101\"/>\r\n       <use x=\"252.246094\" xlink:href=\"#DejaVuSans-114\"/>\r\n       <use x=\"293.328125\" xlink:href=\"#DejaVuSans-99\"/>\r\n       <use x=\"348.308594\" xlink:href=\"#DejaVuSans-101\"/>\r\n       <use x=\"409.832031\" xlink:href=\"#DejaVuSans-110\"/>\r\n       <use x=\"473.210938\" xlink:href=\"#DejaVuSans-116\"/>\r\n       <use x=\"512.419922\" xlink:href=\"#DejaVuSans-97\"/>\r\n       <use x=\"573.699219\" xlink:href=\"#DejaVuSans-103\"/>\r\n       <use x=\"637.175781\" xlink:href=\"#DejaVuSans-101\"/>\r\n      </g>\r\n     </g>\r\n    </g>\r\n    <g id=\"ytick_3\">\r\n     <g id=\"line2d_4\">\r\n      <g>\r\n       <use style=\"stroke:#000000;stroke-width:0.8;\" x=\"131.7\" xlink:href=\"#mecd97f2883\" y=\"65.359219\"/>\r\n      </g>\r\n     </g>\r\n     <g id=\"text_4\">\r\n      <!-- 12graduation -->\r\n      <defs>\r\n       <path d=\"M 19.1875 8.296875 \r\nL 53.609375 8.296875 \r\nL 53.609375 0 \r\nL 7.328125 0 \r\nL 7.328125 8.296875 \r\nQ 12.9375 14.109375 22.625 23.890625 \r\nQ 32.328125 33.6875 34.8125 36.53125 \r\nQ 39.546875 41.84375 41.421875 45.53125 \r\nQ 43.3125 49.21875 43.3125 52.78125 \r\nQ 43.3125 58.59375 39.234375 62.25 \r\nQ 35.15625 65.921875 28.609375 65.921875 \r\nQ 23.96875 65.921875 18.8125 64.3125 \r\nQ 13.671875 62.703125 7.8125 59.421875 \r\nL 7.8125 69.390625 \r\nQ 13.765625 71.78125 18.9375 73 \r\nQ 24.125 74.21875 28.421875 74.21875 \r\nQ 39.75 74.21875 46.484375 68.546875 \r\nQ 53.21875 62.890625 53.21875 53.421875 \r\nQ 53.21875 48.921875 51.53125 44.890625 \r\nQ 49.859375 40.875 45.40625 35.40625 \r\nQ 44.1875 33.984375 37.640625 27.21875 \r\nQ 31.109375 20.453125 19.1875 8.296875 \r\nz\r\n\" id=\"DejaVuSans-50\"/>\r\n       <path d=\"M 45.40625 46.390625 \r\nL 45.40625 75.984375 \r\nL 54.390625 75.984375 \r\nL 54.390625 0 \r\nL 45.40625 0 \r\nL 45.40625 8.203125 \r\nQ 42.578125 3.328125 38.25 0.953125 \r\nQ 33.9375 -1.421875 27.875 -1.421875 \r\nQ 17.96875 -1.421875 11.734375 6.484375 \r\nQ 5.515625 14.40625 5.515625 27.296875 \r\nQ 5.515625 40.1875 11.734375 48.09375 \r\nQ 17.96875 56 27.875 56 \r\nQ 33.9375 56 38.25 53.625 \r\nQ 42.578125 51.265625 45.40625 46.390625 \r\nz\r\nM 14.796875 27.296875 \r\nQ 14.796875 17.390625 18.875 11.75 \r\nQ 22.953125 6.109375 30.078125 6.109375 \r\nQ 37.203125 6.109375 41.296875 11.75 \r\nQ 45.40625 17.390625 45.40625 27.296875 \r\nQ 45.40625 37.203125 41.296875 42.84375 \r\nQ 37.203125 48.484375 30.078125 48.484375 \r\nQ 22.953125 48.484375 18.875 42.84375 \r\nQ 14.796875 37.203125 14.796875 27.296875 \r\nz\r\n\" id=\"DejaVuSans-100\"/>\r\n       <path d=\"M 8.5 21.578125 \r\nL 8.5 54.6875 \r\nL 17.484375 54.6875 \r\nL 17.484375 21.921875 \r\nQ 17.484375 14.15625 20.5 10.265625 \r\nQ 23.53125 6.390625 29.59375 6.390625 \r\nQ 36.859375 6.390625 41.078125 11.03125 \r\nQ 45.3125 15.671875 45.3125 23.6875 \r\nL 45.3125 54.6875 \r\nL 54.296875 54.6875 \r\nL 54.296875 0 \r\nL 45.3125 0 \r\nL 45.3125 8.40625 \r\nQ 42.046875 3.421875 37.71875 1 \r\nQ 33.40625 -1.421875 27.6875 -1.421875 \r\nQ 18.265625 -1.421875 13.375 4.4375 \r\nQ 8.5 10.296875 8.5 21.578125 \r\nz\r\nM 31.109375 56 \r\nz\r\n\" id=\"DejaVuSans-117\"/>\r\n       <path d=\"M 9.421875 54.6875 \r\nL 18.40625 54.6875 \r\nL 18.40625 0 \r\nL 9.421875 0 \r\nz\r\nM 9.421875 75.984375 \r\nL 18.40625 75.984375 \r\nL 18.40625 64.59375 \r\nL 9.421875 64.59375 \r\nz\r\n\" id=\"DejaVuSans-105\"/>\r\n       <path d=\"M 30.609375 48.390625 \r\nQ 23.390625 48.390625 19.1875 42.75 \r\nQ 14.984375 37.109375 14.984375 27.296875 \r\nQ 14.984375 17.484375 19.15625 11.84375 \r\nQ 23.34375 6.203125 30.609375 6.203125 \r\nQ 37.796875 6.203125 41.984375 11.859375 \r\nQ 46.1875 17.53125 46.1875 27.296875 \r\nQ 46.1875 37.015625 41.984375 42.703125 \r\nQ 37.796875 48.390625 30.609375 48.390625 \r\nz\r\nM 30.609375 56 \r\nQ 42.328125 56 49.015625 48.375 \r\nQ 55.71875 40.765625 55.71875 27.296875 \r\nQ 55.71875 13.875 49.015625 6.21875 \r\nQ 42.328125 -1.421875 30.609375 -1.421875 \r\nQ 18.84375 -1.421875 12.171875 6.21875 \r\nQ 5.515625 13.875 5.515625 27.296875 \r\nQ 5.515625 40.765625 12.171875 48.375 \r\nQ 18.84375 56 30.609375 56 \r\nz\r\n\" id=\"DejaVuSans-111\"/>\r\n      </defs>\r\n      <g transform=\"translate(57.41875 69.158438)scale(0.1 -0.1)\">\r\n       <use xlink:href=\"#DejaVuSans-49\"/>\r\n       <use x=\"63.623047\" xlink:href=\"#DejaVuSans-50\"/>\r\n       <use x=\"127.246094\" xlink:href=\"#DejaVuSans-103\"/>\r\n       <use x=\"190.722656\" xlink:href=\"#DejaVuSans-114\"/>\r\n       <use x=\"231.835938\" xlink:href=\"#DejaVuSans-97\"/>\r\n       <use x=\"293.115234\" xlink:href=\"#DejaVuSans-100\"/>\r\n       <use x=\"356.591797\" xlink:href=\"#DejaVuSans-117\"/>\r\n       <use x=\"419.970703\" xlink:href=\"#DejaVuSans-97\"/>\r\n       <use x=\"481.25\" xlink:href=\"#DejaVuSans-116\"/>\r\n       <use x=\"520.458984\" xlink:href=\"#DejaVuSans-105\"/>\r\n       <use x=\"548.242188\" xlink:href=\"#DejaVuSans-111\"/>\r\n       <use x=\"609.423828\" xlink:href=\"#DejaVuSans-110\"/>\r\n      </g>\r\n     </g>\r\n    </g>\r\n    <g id=\"ytick_4\">\r\n     <g id=\"line2d_5\">\r\n      <g>\r\n       <use style=\"stroke:#000000;stroke-width:0.8;\" x=\"131.7\" xlink:href=\"#mecd97f2883\" y=\"87.103219\"/>\r\n      </g>\r\n     </g>\r\n     <g id=\"text_5\">\r\n      <!-- 12percentage -->\r\n      <g transform=\"translate(54.826562 90.902438)scale(0.1 -0.1)\">\r\n       <use xlink:href=\"#DejaVuSans-49\"/>\r\n       <use x=\"63.623047\" xlink:href=\"#DejaVuSans-50\"/>\r\n       <use x=\"127.246094\" xlink:href=\"#DejaVuSans-112\"/>\r\n       <use x=\"190.722656\" xlink:href=\"#DejaVuSans-101\"/>\r\n       <use x=\"252.246094\" xlink:href=\"#DejaVuSans-114\"/>\r\n       <use x=\"293.328125\" xlink:href=\"#DejaVuSans-99\"/>\r\n       <use x=\"348.308594\" xlink:href=\"#DejaVuSans-101\"/>\r\n       <use x=\"409.832031\" xlink:href=\"#DejaVuSans-110\"/>\r\n       <use x=\"473.210938\" xlink:href=\"#DejaVuSans-116\"/>\r\n       <use x=\"512.419922\" xlink:href=\"#DejaVuSans-97\"/>\r\n       <use x=\"573.699219\" xlink:href=\"#DejaVuSans-103\"/>\r\n       <use x=\"637.175781\" xlink:href=\"#DejaVuSans-101\"/>\r\n      </g>\r\n     </g>\r\n    </g>\r\n    <g id=\"ytick_5\">\r\n     <g id=\"line2d_6\">\r\n      <g>\r\n       <use style=\"stroke:#000000;stroke-width:0.8;\" x=\"131.7\" xlink:href=\"#mecd97f2883\" y=\"108.847219\"/>\r\n      </g>\r\n     </g>\r\n     <g id=\"text_6\">\r\n      <!-- CollegeTier -->\r\n      <defs>\r\n       <path d=\"M 64.40625 67.28125 \r\nL 64.40625 56.890625 \r\nQ 59.421875 61.53125 53.78125 63.8125 \r\nQ 48.140625 66.109375 41.796875 66.109375 \r\nQ 29.296875 66.109375 22.65625 58.46875 \r\nQ 16.015625 50.828125 16.015625 36.375 \r\nQ 16.015625 21.96875 22.65625 14.328125 \r\nQ 29.296875 6.6875 41.796875 6.6875 \r\nQ 48.140625 6.6875 53.78125 8.984375 \r\nQ 59.421875 11.28125 64.40625 15.921875 \r\nL 64.40625 5.609375 \r\nQ 59.234375 2.09375 53.4375 0.328125 \r\nQ 47.65625 -1.421875 41.21875 -1.421875 \r\nQ 24.65625 -1.421875 15.125 8.703125 \r\nQ 5.609375 18.84375 5.609375 36.375 \r\nQ 5.609375 53.953125 15.125 64.078125 \r\nQ 24.65625 74.21875 41.21875 74.21875 \r\nQ 47.75 74.21875 53.53125 72.484375 \r\nQ 59.328125 70.75 64.40625 67.28125 \r\nz\r\n\" id=\"DejaVuSans-67\"/>\r\n       <path d=\"M -0.296875 72.90625 \r\nL 61.375 72.90625 \r\nL 61.375 64.59375 \r\nL 35.5 64.59375 \r\nL 35.5 0 \r\nL 25.59375 0 \r\nL 25.59375 64.59375 \r\nL -0.296875 64.59375 \r\nz\r\n\" id=\"DejaVuSans-84\"/>\r\n      </defs>\r\n      <g transform=\"translate(68.242187 112.646438)scale(0.1 -0.1)\">\r\n       <use xlink:href=\"#DejaVuSans-67\"/>\r\n       <use x=\"69.824219\" xlink:href=\"#DejaVuSans-111\"/>\r\n       <use x=\"131.005859\" xlink:href=\"#DejaVuSans-108\"/>\r\n       <use x=\"158.789062\" xlink:href=\"#DejaVuSans-108\"/>\r\n       <use x=\"186.572266\" xlink:href=\"#DejaVuSans-101\"/>\r\n       <use x=\"248.095703\" xlink:href=\"#DejaVuSans-103\"/>\r\n       <use x=\"311.572266\" xlink:href=\"#DejaVuSans-101\"/>\r\n       <use x=\"373.095703\" xlink:href=\"#DejaVuSans-84\"/>\r\n       <use x=\"434.132812\" xlink:href=\"#DejaVuSans-105\"/>\r\n       <use x=\"461.916016\" xlink:href=\"#DejaVuSans-101\"/>\r\n       <use x=\"523.439453\" xlink:href=\"#DejaVuSans-114\"/>\r\n      </g>\r\n     </g>\r\n    </g>\r\n    <g id=\"ytick_6\">\r\n     <g id=\"line2d_7\">\r\n      <g>\r\n       <use style=\"stroke:#000000;stroke-width:0.8;\" x=\"131.7\" xlink:href=\"#mecd97f2883\" y=\"130.591219\"/>\r\n      </g>\r\n     </g>\r\n     <g id=\"text_7\">\r\n      <!-- collegeGPA -->\r\n      <defs>\r\n       <path d=\"M 59.515625 10.40625 \r\nL 59.515625 29.984375 \r\nL 43.40625 29.984375 \r\nL 43.40625 38.09375 \r\nL 69.28125 38.09375 \r\nL 69.28125 6.78125 \r\nQ 63.578125 2.734375 56.6875 0.65625 \r\nQ 49.8125 -1.421875 42 -1.421875 \r\nQ 24.90625 -1.421875 15.25 8.5625 \r\nQ 5.609375 18.5625 5.609375 36.375 \r\nQ 5.609375 54.25 15.25 64.234375 \r\nQ 24.90625 74.21875 42 74.21875 \r\nQ 49.125 74.21875 55.546875 72.453125 \r\nQ 61.96875 70.703125 67.390625 67.28125 \r\nL 67.390625 56.78125 \r\nQ 61.921875 61.421875 55.765625 63.765625 \r\nQ 49.609375 66.109375 42.828125 66.109375 \r\nQ 29.4375 66.109375 22.71875 58.640625 \r\nQ 16.015625 51.171875 16.015625 36.375 \r\nQ 16.015625 21.625 22.71875 14.15625 \r\nQ 29.4375 6.6875 42.828125 6.6875 \r\nQ 48.046875 6.6875 52.140625 7.59375 \r\nQ 56.25 8.5 59.515625 10.40625 \r\nz\r\n\" id=\"DejaVuSans-71\"/>\r\n       <path d=\"M 19.671875 64.796875 \r\nL 19.671875 37.40625 \r\nL 32.078125 37.40625 \r\nQ 38.96875 37.40625 42.71875 40.96875 \r\nQ 46.484375 44.53125 46.484375 51.125 \r\nQ 46.484375 57.671875 42.71875 61.234375 \r\nQ 38.96875 64.796875 32.078125 64.796875 \r\nz\r\nM 9.8125 72.90625 \r\nL 32.078125 72.90625 \r\nQ 44.34375 72.90625 50.609375 67.359375 \r\nQ 56.890625 61.8125 56.890625 51.125 \r\nQ 56.890625 40.328125 50.609375 34.8125 \r\nQ 44.34375 29.296875 32.078125 29.296875 \r\nL 19.671875 29.296875 \r\nL 19.671875 0 \r\nL 9.8125 0 \r\nz\r\n\" id=\"DejaVuSans-80\"/>\r\n       <path d=\"M 34.1875 63.1875 \r\nL 20.796875 26.90625 \r\nL 47.609375 26.90625 \r\nz\r\nM 28.609375 72.90625 \r\nL 39.796875 72.90625 \r\nL 67.578125 0 \r\nL 57.328125 0 \r\nL 50.6875 18.703125 \r\nL 17.828125 18.703125 \r\nL 11.1875 0 \r\nL 0.78125 0 \r\nz\r\n\" id=\"DejaVuSans-65\"/>\r\n      </defs>\r\n      <g transform=\"translate(68.2625 134.390438)scale(0.1 -0.1)\">\r\n       <use xlink:href=\"#DejaVuSans-99\"/>\r\n       <use x=\"54.980469\" xlink:href=\"#DejaVuSans-111\"/>\r\n       <use x=\"116.162109\" xlink:href=\"#DejaVuSans-108\"/>\r\n       <use x=\"143.945312\" xlink:href=\"#DejaVuSans-108\"/>\r\n       <use x=\"171.728516\" xlink:href=\"#DejaVuSans-101\"/>\r\n       <use x=\"233.251953\" xlink:href=\"#DejaVuSans-103\"/>\r\n       <use x=\"296.728516\" xlink:href=\"#DejaVuSans-101\"/>\r\n       <use x=\"358.251953\" xlink:href=\"#DejaVuSans-71\"/>\r\n       <use x=\"435.742188\" xlink:href=\"#DejaVuSans-80\"/>\r\n       <use x=\"495.951172\" xlink:href=\"#DejaVuSans-65\"/>\r\n      </g>\r\n     </g>\r\n    </g>\r\n    <g id=\"ytick_7\">\r\n     <g id=\"line2d_8\">\r\n      <g>\r\n       <use style=\"stroke:#000000;stroke-width:0.8;\" x=\"131.7\" xlink:href=\"#mecd97f2883\" y=\"152.335219\"/>\r\n      </g>\r\n     </g>\r\n     <g id=\"text_8\">\r\n      <!-- CollegeCityTier -->\r\n      <g transform=\"translate(48.642187 156.134438)scale(0.1 -0.1)\">\r\n       <use xlink:href=\"#DejaVuSans-67\"/>\r\n       <use x=\"69.824219\" xlink:href=\"#DejaVuSans-111\"/>\r\n       <use x=\"131.005859\" xlink:href=\"#DejaVuSans-108\"/>\r\n       <use x=\"158.789062\" xlink:href=\"#DejaVuSans-108\"/>\r\n       <use x=\"186.572266\" xlink:href=\"#DejaVuSans-101\"/>\r\n       <use x=\"248.095703\" xlink:href=\"#DejaVuSans-103\"/>\r\n       <use x=\"311.572266\" xlink:href=\"#DejaVuSans-101\"/>\r\n       <use x=\"373.095703\" xlink:href=\"#DejaVuSans-67\"/>\r\n       <use x=\"442.919922\" xlink:href=\"#DejaVuSans-105\"/>\r\n       <use x=\"470.703125\" xlink:href=\"#DejaVuSans-116\"/>\r\n       <use x=\"509.912109\" xlink:href=\"#DejaVuSans-121\"/>\r\n       <use x=\"569.091797\" xlink:href=\"#DejaVuSans-84\"/>\r\n       <use x=\"630.128906\" xlink:href=\"#DejaVuSans-105\"/>\r\n       <use x=\"657.912109\" xlink:href=\"#DejaVuSans-101\"/>\r\n       <use x=\"719.435547\" xlink:href=\"#DejaVuSans-114\"/>\r\n      </g>\r\n     </g>\r\n    </g>\r\n    <g id=\"ytick_8\">\r\n     <g id=\"line2d_9\">\r\n      <g>\r\n       <use style=\"stroke:#000000;stroke-width:0.8;\" x=\"131.7\" xlink:href=\"#mecd97f2883\" y=\"174.079219\"/>\r\n      </g>\r\n     </g>\r\n     <g id=\"text_9\">\r\n      <!-- GraduationYear -->\r\n      <defs>\r\n       <path d=\"M -0.203125 72.90625 \r\nL 10.40625 72.90625 \r\nL 30.609375 42.921875 \r\nL 50.6875 72.90625 \r\nL 61.28125 72.90625 \r\nL 35.5 34.71875 \r\nL 35.5 0 \r\nL 25.59375 0 \r\nL 25.59375 34.71875 \r\nz\r\n\" id=\"DejaVuSans-89\"/>\r\n      </defs>\r\n      <g transform=\"translate(46.264062 177.878438)scale(0.1 -0.1)\">\r\n       <use xlink:href=\"#DejaVuSans-71\"/>\r\n       <use x=\"77.490234\" xlink:href=\"#DejaVuSans-114\"/>\r\n       <use x=\"118.603516\" xlink:href=\"#DejaVuSans-97\"/>\r\n       <use x=\"179.882812\" xlink:href=\"#DejaVuSans-100\"/>\r\n       <use x=\"243.359375\" xlink:href=\"#DejaVuSans-117\"/>\r\n       <use x=\"306.738281\" xlink:href=\"#DejaVuSans-97\"/>\r\n       <use x=\"368.017578\" xlink:href=\"#DejaVuSans-116\"/>\r\n       <use x=\"407.226562\" xlink:href=\"#DejaVuSans-105\"/>\r\n       <use x=\"435.009766\" xlink:href=\"#DejaVuSans-111\"/>\r\n       <use x=\"496.191406\" xlink:href=\"#DejaVuSans-110\"/>\r\n       <use x=\"559.570312\" xlink:href=\"#DejaVuSans-89\"/>\r\n       <use x=\"620.451172\" xlink:href=\"#DejaVuSans-101\"/>\r\n       <use x=\"681.974609\" xlink:href=\"#DejaVuSans-97\"/>\r\n       <use x=\"743.253906\" xlink:href=\"#DejaVuSans-114\"/>\r\n      </g>\r\n     </g>\r\n    </g>\r\n    <g id=\"ytick_9\">\r\n     <g id=\"line2d_10\">\r\n      <g>\r\n       <use style=\"stroke:#000000;stroke-width:0.8;\" x=\"131.7\" xlink:href=\"#mecd97f2883\" y=\"195.823219\"/>\r\n      </g>\r\n     </g>\r\n     <g id=\"text_10\">\r\n      <!-- English -->\r\n      <defs>\r\n       <path d=\"M 9.8125 72.90625 \r\nL 55.90625 72.90625 \r\nL 55.90625 64.59375 \r\nL 19.671875 64.59375 \r\nL 19.671875 43.015625 \r\nL 54.390625 43.015625 \r\nL 54.390625 34.71875 \r\nL 19.671875 34.71875 \r\nL 19.671875 8.296875 \r\nL 56.78125 8.296875 \r\nL 56.78125 0 \r\nL 9.8125 0 \r\nz\r\n\" id=\"DejaVuSans-69\"/>\r\n       <path d=\"M 44.28125 53.078125 \r\nL 44.28125 44.578125 \r\nQ 40.484375 46.53125 36.375 47.5 \r\nQ 32.28125 48.484375 27.875 48.484375 \r\nQ 21.1875 48.484375 17.84375 46.4375 \r\nQ 14.5 44.390625 14.5 40.28125 \r\nQ 14.5 37.15625 16.890625 35.375 \r\nQ 19.28125 33.59375 26.515625 31.984375 \r\nL 29.59375 31.296875 \r\nQ 39.15625 29.25 43.1875 25.515625 \r\nQ 47.21875 21.78125 47.21875 15.09375 \r\nQ 47.21875 7.46875 41.1875 3.015625 \r\nQ 35.15625 -1.421875 24.609375 -1.421875 \r\nQ 20.21875 -1.421875 15.453125 -0.5625 \r\nQ 10.6875 0.296875 5.421875 2 \r\nL 5.421875 11.28125 \r\nQ 10.40625 8.6875 15.234375 7.390625 \r\nQ 20.0625 6.109375 24.8125 6.109375 \r\nQ 31.15625 6.109375 34.5625 8.28125 \r\nQ 37.984375 10.453125 37.984375 14.40625 \r\nQ 37.984375 18.0625 35.515625 20.015625 \r\nQ 33.0625 21.96875 24.703125 23.78125 \r\nL 21.578125 24.515625 \r\nQ 13.234375 26.265625 9.515625 29.90625 \r\nQ 5.8125 33.546875 5.8125 39.890625 \r\nQ 5.8125 47.609375 11.28125 51.796875 \r\nQ 16.75 56 26.8125 56 \r\nQ 31.78125 56 36.171875 55.265625 \r\nQ 40.578125 54.546875 44.28125 53.078125 \r\nz\r\n\" id=\"DejaVuSans-115\"/>\r\n       <path d=\"M 54.890625 33.015625 \r\nL 54.890625 0 \r\nL 45.90625 0 \r\nL 45.90625 32.71875 \r\nQ 45.90625 40.484375 42.875 44.328125 \r\nQ 39.84375 48.1875 33.796875 48.1875 \r\nQ 26.515625 48.1875 22.3125 43.546875 \r\nQ 18.109375 38.921875 18.109375 30.90625 \r\nL 18.109375 0 \r\nL 9.078125 0 \r\nL 9.078125 75.984375 \r\nL 18.109375 75.984375 \r\nL 18.109375 46.1875 \r\nQ 21.34375 51.125 25.703125 53.5625 \r\nQ 30.078125 56 35.796875 56 \r\nQ 45.21875 56 50.046875 50.171875 \r\nQ 54.890625 44.34375 54.890625 33.015625 \r\nz\r\n\" id=\"DejaVuSans-104\"/>\r\n      </defs>\r\n      <g transform=\"translate(88.592187 199.622438)scale(0.1 -0.1)\">\r\n       <use xlink:href=\"#DejaVuSans-69\"/>\r\n       <use x=\"63.183594\" xlink:href=\"#DejaVuSans-110\"/>\r\n       <use x=\"126.5625\" xlink:href=\"#DejaVuSans-103\"/>\r\n       <use x=\"190.039062\" xlink:href=\"#DejaVuSans-108\"/>\r\n       <use x=\"217.822266\" xlink:href=\"#DejaVuSans-105\"/>\r\n       <use x=\"245.605469\" xlink:href=\"#DejaVuSans-115\"/>\r\n       <use x=\"297.705078\" xlink:href=\"#DejaVuSans-104\"/>\r\n      </g>\r\n     </g>\r\n    </g>\r\n    <g id=\"ytick_10\">\r\n     <g id=\"line2d_11\">\r\n      <g>\r\n       <use style=\"stroke:#000000;stroke-width:0.8;\" x=\"131.7\" xlink:href=\"#mecd97f2883\" y=\"217.567219\"/>\r\n      </g>\r\n     </g>\r\n     <g id=\"text_11\">\r\n      <!-- Logical -->\r\n      <defs>\r\n       <path d=\"M 9.8125 72.90625 \r\nL 19.671875 72.90625 \r\nL 19.671875 8.296875 \r\nL 55.171875 8.296875 \r\nL 55.171875 0 \r\nL 9.8125 0 \r\nz\r\n\" id=\"DejaVuSans-76\"/>\r\n      </defs>\r\n      <g transform=\"translate(89.479687 221.366438)scale(0.1 -0.1)\">\r\n       <use xlink:href=\"#DejaVuSans-76\"/>\r\n       <use x=\"55.697266\" xlink:href=\"#DejaVuSans-111\"/>\r\n       <use x=\"116.878906\" xlink:href=\"#DejaVuSans-103\"/>\r\n       <use x=\"180.355469\" xlink:href=\"#DejaVuSans-105\"/>\r\n       <use x=\"208.138672\" xlink:href=\"#DejaVuSans-99\"/>\r\n       <use x=\"263.119141\" xlink:href=\"#DejaVuSans-97\"/>\r\n       <use x=\"324.398438\" xlink:href=\"#DejaVuSans-108\"/>\r\n      </g>\r\n     </g>\r\n    </g>\r\n    <g id=\"ytick_11\">\r\n     <g id=\"line2d_12\">\r\n      <g>\r\n       <use style=\"stroke:#000000;stroke-width:0.8;\" x=\"131.7\" xlink:href=\"#mecd97f2883\" y=\"239.311219\"/>\r\n      </g>\r\n     </g>\r\n     <g id=\"text_12\">\r\n      <!-- Quant -->\r\n      <defs>\r\n       <path d=\"M 39.40625 66.21875 \r\nQ 28.65625 66.21875 22.328125 58.203125 \r\nQ 16.015625 50.203125 16.015625 36.375 \r\nQ 16.015625 22.609375 22.328125 14.59375 \r\nQ 28.65625 6.59375 39.40625 6.59375 \r\nQ 50.140625 6.59375 56.421875 14.59375 \r\nQ 62.703125 22.609375 62.703125 36.375 \r\nQ 62.703125 50.203125 56.421875 58.203125 \r\nQ 50.140625 66.21875 39.40625 66.21875 \r\nz\r\nM 53.21875 1.3125 \r\nL 66.21875 -12.890625 \r\nL 54.296875 -12.890625 \r\nL 43.5 -1.21875 \r\nQ 41.890625 -1.3125 41.03125 -1.359375 \r\nQ 40.1875 -1.421875 39.40625 -1.421875 \r\nQ 24.03125 -1.421875 14.8125 8.859375 \r\nQ 5.609375 19.140625 5.609375 36.375 \r\nQ 5.609375 53.65625 14.8125 63.9375 \r\nQ 24.03125 74.21875 39.40625 74.21875 \r\nQ 54.734375 74.21875 63.90625 63.9375 \r\nQ 73.09375 53.65625 73.09375 36.375 \r\nQ 73.09375 23.6875 67.984375 14.640625 \r\nQ 62.890625 5.609375 53.21875 1.3125 \r\nz\r\n\" id=\"DejaVuSans-81\"/>\r\n      </defs>\r\n      <g transform=\"translate(94.104687 243.110438)scale(0.1 -0.1)\">\r\n       <use xlink:href=\"#DejaVuSans-81\"/>\r\n       <use x=\"78.710938\" xlink:href=\"#DejaVuSans-117\"/>\r\n       <use x=\"142.089844\" xlink:href=\"#DejaVuSans-97\"/>\r\n       <use x=\"203.369141\" xlink:href=\"#DejaVuSans-110\"/>\r\n       <use x=\"266.748047\" xlink:href=\"#DejaVuSans-116\"/>\r\n      </g>\r\n     </g>\r\n    </g>\r\n    <g id=\"ytick_12\">\r\n     <g id=\"line2d_13\">\r\n      <g>\r\n       <use style=\"stroke:#000000;stroke-width:0.8;\" x=\"131.7\" xlink:href=\"#mecd97f2883\" y=\"261.055219\"/>\r\n      </g>\r\n     </g>\r\n     <g id=\"text_13\">\r\n      <!-- Domain -->\r\n      <defs>\r\n       <path d=\"M 52 44.1875 \r\nQ 55.375 50.25 60.0625 53.125 \r\nQ 64.75 56 71.09375 56 \r\nQ 79.640625 56 84.28125 50.015625 \r\nQ 88.921875 44.046875 88.921875 33.015625 \r\nL 88.921875 0 \r\nL 79.890625 0 \r\nL 79.890625 32.71875 \r\nQ 79.890625 40.578125 77.09375 44.375 \r\nQ 74.3125 48.1875 68.609375 48.1875 \r\nQ 61.625 48.1875 57.5625 43.546875 \r\nQ 53.515625 38.921875 53.515625 30.90625 \r\nL 53.515625 0 \r\nL 44.484375 0 \r\nL 44.484375 32.71875 \r\nQ 44.484375 40.625 41.703125 44.40625 \r\nQ 38.921875 48.1875 33.109375 48.1875 \r\nQ 26.21875 48.1875 22.15625 43.53125 \r\nQ 18.109375 38.875 18.109375 30.90625 \r\nL 18.109375 0 \r\nL 9.078125 0 \r\nL 9.078125 54.6875 \r\nL 18.109375 54.6875 \r\nL 18.109375 46.1875 \r\nQ 21.1875 51.21875 25.484375 53.609375 \r\nQ 29.78125 56 35.6875 56 \r\nQ 41.65625 56 45.828125 52.96875 \r\nQ 50 49.953125 52 44.1875 \r\nz\r\n\" id=\"DejaVuSans-109\"/>\r\n      </defs>\r\n      <g transform=\"translate(85.896875 264.854438)scale(0.1 -0.1)\">\r\n       <use xlink:href=\"#DejaVuSans-68\"/>\r\n       <use x=\"77.001953\" xlink:href=\"#DejaVuSans-111\"/>\r\n       <use x=\"138.183594\" xlink:href=\"#DejaVuSans-109\"/>\r\n       <use x=\"235.595703\" xlink:href=\"#DejaVuSans-97\"/>\r\n       <use x=\"296.875\" xlink:href=\"#DejaVuSans-105\"/>\r\n       <use x=\"324.658203\" xlink:href=\"#DejaVuSans-110\"/>\r\n      </g>\r\n     </g>\r\n    </g>\r\n    <g id=\"ytick_13\">\r\n     <g id=\"line2d_14\">\r\n      <g>\r\n       <use style=\"stroke:#000000;stroke-width:0.8;\" x=\"131.7\" xlink:href=\"#mecd97f2883\" y=\"282.799219\"/>\r\n      </g>\r\n     </g>\r\n     <g id=\"text_14\">\r\n      <!-- ComputerProgramming -->\r\n      <g transform=\"translate(7.2 286.598438)scale(0.1 -0.1)\">\r\n       <use xlink:href=\"#DejaVuSans-67\"/>\r\n       <use x=\"69.824219\" xlink:href=\"#DejaVuSans-111\"/>\r\n       <use x=\"131.005859\" xlink:href=\"#DejaVuSans-109\"/>\r\n       <use x=\"228.417969\" xlink:href=\"#DejaVuSans-112\"/>\r\n       <use x=\"291.894531\" xlink:href=\"#DejaVuSans-117\"/>\r\n       <use x=\"355.273438\" xlink:href=\"#DejaVuSans-116\"/>\r\n       <use x=\"394.482422\" xlink:href=\"#DejaVuSans-101\"/>\r\n       <use x=\"456.005859\" xlink:href=\"#DejaVuSans-114\"/>\r\n       <use x=\"497.119141\" xlink:href=\"#DejaVuSans-80\"/>\r\n       <use x=\"557.40625\" xlink:href=\"#DejaVuSans-114\"/>\r\n       <use x=\"598.488281\" xlink:href=\"#DejaVuSans-111\"/>\r\n       <use x=\"659.669922\" xlink:href=\"#DejaVuSans-103\"/>\r\n       <use x=\"723.146484\" xlink:href=\"#DejaVuSans-114\"/>\r\n       <use x=\"764.259766\" xlink:href=\"#DejaVuSans-97\"/>\r\n       <use x=\"825.539062\" xlink:href=\"#DejaVuSans-109\"/>\r\n       <use x=\"922.951172\" xlink:href=\"#DejaVuSans-109\"/>\r\n       <use x=\"1020.363281\" xlink:href=\"#DejaVuSans-105\"/>\r\n       <use x=\"1048.146484\" xlink:href=\"#DejaVuSans-110\"/>\r\n       <use x=\"1111.525391\" xlink:href=\"#DejaVuSans-103\"/>\r\n      </g>\r\n     </g>\r\n    </g>\r\n    <g id=\"ytick_14\">\r\n     <g id=\"line2d_15\">\r\n      <g>\r\n       <use style=\"stroke:#000000;stroke-width:0.8;\" x=\"131.7\" xlink:href=\"#mecd97f2883\" y=\"304.543219\"/>\r\n      </g>\r\n     </g>\r\n     <g id=\"text_15\">\r\n      <!-- ElectronicsAndSemicon -->\r\n      <g transform=\"translate(7.479687 308.342438)scale(0.1 -0.1)\">\r\n       <use xlink:href=\"#DejaVuSans-69\"/>\r\n       <use x=\"63.183594\" xlink:href=\"#DejaVuSans-108\"/>\r\n       <use x=\"90.966797\" xlink:href=\"#DejaVuSans-101\"/>\r\n       <use x=\"152.490234\" xlink:href=\"#DejaVuSans-99\"/>\r\n       <use x=\"207.470703\" xlink:href=\"#DejaVuSans-116\"/>\r\n       <use x=\"246.679688\" xlink:href=\"#DejaVuSans-114\"/>\r\n       <use x=\"287.761719\" xlink:href=\"#DejaVuSans-111\"/>\r\n       <use x=\"348.943359\" xlink:href=\"#DejaVuSans-110\"/>\r\n       <use x=\"412.322266\" xlink:href=\"#DejaVuSans-105\"/>\r\n       <use x=\"440.105469\" xlink:href=\"#DejaVuSans-99\"/>\r\n       <use x=\"495.085938\" xlink:href=\"#DejaVuSans-115\"/>\r\n       <use x=\"547.185547\" xlink:href=\"#DejaVuSans-65\"/>\r\n       <use x=\"615.59375\" xlink:href=\"#DejaVuSans-110\"/>\r\n       <use x=\"678.972656\" xlink:href=\"#DejaVuSans-100\"/>\r\n       <use x=\"742.449219\" xlink:href=\"#DejaVuSans-83\"/>\r\n       <use x=\"805.925781\" xlink:href=\"#DejaVuSans-101\"/>\r\n       <use x=\"867.449219\" xlink:href=\"#DejaVuSans-109\"/>\r\n       <use x=\"964.861328\" xlink:href=\"#DejaVuSans-105\"/>\r\n       <use x=\"992.644531\" xlink:href=\"#DejaVuSans-99\"/>\r\n       <use x=\"1047.625\" xlink:href=\"#DejaVuSans-111\"/>\r\n       <use x=\"1108.806641\" xlink:href=\"#DejaVuSans-110\"/>\r\n      </g>\r\n     </g>\r\n    </g>\r\n    <g id=\"ytick_15\">\r\n     <g id=\"line2d_16\">\r\n      <g>\r\n       <use style=\"stroke:#000000;stroke-width:0.8;\" x=\"131.7\" xlink:href=\"#mecd97f2883\" y=\"326.287219\"/>\r\n      </g>\r\n     </g>\r\n     <g id=\"text_16\">\r\n      <!-- ComputerScience -->\r\n      <g transform=\"translate(36.220312 330.086438)scale(0.1 -0.1)\">\r\n       <use xlink:href=\"#DejaVuSans-67\"/>\r\n       <use x=\"69.824219\" xlink:href=\"#DejaVuSans-111\"/>\r\n       <use x=\"131.005859\" xlink:href=\"#DejaVuSans-109\"/>\r\n       <use x=\"228.417969\" xlink:href=\"#DejaVuSans-112\"/>\r\n       <use x=\"291.894531\" xlink:href=\"#DejaVuSans-117\"/>\r\n       <use x=\"355.273438\" xlink:href=\"#DejaVuSans-116\"/>\r\n       <use x=\"394.482422\" xlink:href=\"#DejaVuSans-101\"/>\r\n       <use x=\"456.005859\" xlink:href=\"#DejaVuSans-114\"/>\r\n       <use x=\"497.119141\" xlink:href=\"#DejaVuSans-83\"/>\r\n       <use x=\"560.595703\" xlink:href=\"#DejaVuSans-99\"/>\r\n       <use x=\"615.576172\" xlink:href=\"#DejaVuSans-105\"/>\r\n       <use x=\"643.359375\" xlink:href=\"#DejaVuSans-101\"/>\r\n       <use x=\"704.882812\" xlink:href=\"#DejaVuSans-110\"/>\r\n       <use x=\"768.261719\" xlink:href=\"#DejaVuSans-99\"/>\r\n       <use x=\"823.242188\" xlink:href=\"#DejaVuSans-101\"/>\r\n      </g>\r\n     </g>\r\n    </g>\r\n    <g id=\"ytick_16\">\r\n     <g id=\"line2d_17\">\r\n      <g>\r\n       <use style=\"stroke:#000000;stroke-width:0.8;\" x=\"131.7\" xlink:href=\"#mecd97f2883\" y=\"348.031219\"/>\r\n      </g>\r\n     </g>\r\n     <g id=\"text_17\">\r\n      <!-- MechanicalEngg -->\r\n      <defs>\r\n       <path d=\"M 9.8125 72.90625 \r\nL 24.515625 72.90625 \r\nL 43.109375 23.296875 \r\nL 61.8125 72.90625 \r\nL 76.515625 72.90625 \r\nL 76.515625 0 \r\nL 66.890625 0 \r\nL 66.890625 64.015625 \r\nL 48.09375 14.015625 \r\nL 38.1875 14.015625 \r\nL 19.390625 64.015625 \r\nL 19.390625 0 \r\nL 9.8125 0 \r\nz\r\n\" id=\"DejaVuSans-77\"/>\r\n      </defs>\r\n      <g transform=\"translate(43.08125 351.830438)scale(0.1 -0.1)\">\r\n       <use xlink:href=\"#DejaVuSans-77\"/>\r\n       <use x=\"86.279297\" xlink:href=\"#DejaVuSans-101\"/>\r\n       <use x=\"147.802734\" xlink:href=\"#DejaVuSans-99\"/>\r\n       <use x=\"202.783203\" xlink:href=\"#DejaVuSans-104\"/>\r\n       <use x=\"266.162109\" xlink:href=\"#DejaVuSans-97\"/>\r\n       <use x=\"327.441406\" xlink:href=\"#DejaVuSans-110\"/>\r\n       <use x=\"390.820312\" xlink:href=\"#DejaVuSans-105\"/>\r\n       <use x=\"418.603516\" xlink:href=\"#DejaVuSans-99\"/>\r\n       <use x=\"473.583984\" xlink:href=\"#DejaVuSans-97\"/>\r\n       <use x=\"534.863281\" xlink:href=\"#DejaVuSans-108\"/>\r\n       <use x=\"562.646484\" xlink:href=\"#DejaVuSans-69\"/>\r\n       <use x=\"625.830078\" xlink:href=\"#DejaVuSans-110\"/>\r\n       <use x=\"689.208984\" xlink:href=\"#DejaVuSans-103\"/>\r\n       <use x=\"752.685547\" xlink:href=\"#DejaVuSans-103\"/>\r\n      </g>\r\n     </g>\r\n    </g>\r\n    <g id=\"ytick_17\">\r\n     <g id=\"line2d_18\">\r\n      <g>\r\n       <use style=\"stroke:#000000;stroke-width:0.8;\" x=\"131.7\" xlink:href=\"#mecd97f2883\" y=\"369.775219\"/>\r\n      </g>\r\n     </g>\r\n     <g id=\"text_18\">\r\n      <!-- ElectricalEngg -->\r\n      <g transform=\"translate(53.384375 373.574438)scale(0.1 -0.1)\">\r\n       <use xlink:href=\"#DejaVuSans-69\"/>\r\n       <use x=\"63.183594\" xlink:href=\"#DejaVuSans-108\"/>\r\n       <use x=\"90.966797\" xlink:href=\"#DejaVuSans-101\"/>\r\n       <use x=\"152.490234\" xlink:href=\"#DejaVuSans-99\"/>\r\n       <use x=\"207.470703\" xlink:href=\"#DejaVuSans-116\"/>\r\n       <use x=\"246.679688\" xlink:href=\"#DejaVuSans-114\"/>\r\n       <use x=\"287.792969\" xlink:href=\"#DejaVuSans-105\"/>\r\n       <use x=\"315.576172\" xlink:href=\"#DejaVuSans-99\"/>\r\n       <use x=\"370.556641\" xlink:href=\"#DejaVuSans-97\"/>\r\n       <use x=\"431.835938\" xlink:href=\"#DejaVuSans-108\"/>\r\n       <use x=\"459.619141\" xlink:href=\"#DejaVuSans-69\"/>\r\n       <use x=\"522.802734\" xlink:href=\"#DejaVuSans-110\"/>\r\n       <use x=\"586.181641\" xlink:href=\"#DejaVuSans-103\"/>\r\n       <use x=\"649.658203\" xlink:href=\"#DejaVuSans-103\"/>\r\n      </g>\r\n     </g>\r\n    </g>\r\n    <g id=\"ytick_18\">\r\n     <g id=\"line2d_19\">\r\n      <g>\r\n       <use style=\"stroke:#000000;stroke-width:0.8;\" x=\"131.7\" xlink:href=\"#mecd97f2883\" y=\"391.519219\"/>\r\n      </g>\r\n     </g>\r\n     <g id=\"text_19\">\r\n      <!-- TelecomEngg -->\r\n      <g transform=\"translate(56.823437 395.318438)scale(0.1 -0.1)\">\r\n       <use xlink:href=\"#DejaVuSans-84\"/>\r\n       <use x=\"60.818359\" xlink:href=\"#DejaVuSans-101\"/>\r\n       <use x=\"122.341797\" xlink:href=\"#DejaVuSans-108\"/>\r\n       <use x=\"150.125\" xlink:href=\"#DejaVuSans-101\"/>\r\n       <use x=\"211.648438\" xlink:href=\"#DejaVuSans-99\"/>\r\n       <use x=\"266.628906\" xlink:href=\"#DejaVuSans-111\"/>\r\n       <use x=\"327.810547\" xlink:href=\"#DejaVuSans-109\"/>\r\n       <use x=\"425.222656\" xlink:href=\"#DejaVuSans-69\"/>\r\n       <use x=\"488.40625\" xlink:href=\"#DejaVuSans-110\"/>\r\n       <use x=\"551.785156\" xlink:href=\"#DejaVuSans-103\"/>\r\n       <use x=\"615.261719\" xlink:href=\"#DejaVuSans-103\"/>\r\n      </g>\r\n     </g>\r\n    </g>\r\n    <g id=\"ytick_19\">\r\n     <g id=\"line2d_20\">\r\n      <g>\r\n       <use style=\"stroke:#000000;stroke-width:0.8;\" x=\"131.7\" xlink:href=\"#mecd97f2883\" y=\"413.263219\"/>\r\n      </g>\r\n     </g>\r\n     <g id=\"text_20\">\r\n      <!-- CivilEngg -->\r\n      <defs>\r\n       <path d=\"M 2.984375 54.6875 \r\nL 12.5 54.6875 \r\nL 29.59375 8.796875 \r\nL 46.6875 54.6875 \r\nL 56.203125 54.6875 \r\nL 35.6875 0 \r\nL 23.484375 0 \r\nz\r\n\" id=\"DejaVuSans-118\"/>\r\n      </defs>\r\n      <g transform=\"translate(78.110937 417.062438)scale(0.1 -0.1)\">\r\n       <use xlink:href=\"#DejaVuSans-67\"/>\r\n       <use x=\"69.824219\" xlink:href=\"#DejaVuSans-105\"/>\r\n       <use x=\"97.607422\" xlink:href=\"#DejaVuSans-118\"/>\r\n       <use x=\"156.787109\" xlink:href=\"#DejaVuSans-105\"/>\r\n       <use x=\"184.570312\" xlink:href=\"#DejaVuSans-108\"/>\r\n       <use x=\"212.353516\" xlink:href=\"#DejaVuSans-69\"/>\r\n       <use x=\"275.537109\" xlink:href=\"#DejaVuSans-110\"/>\r\n       <use x=\"338.916016\" xlink:href=\"#DejaVuSans-103\"/>\r\n       <use x=\"402.392578\" xlink:href=\"#DejaVuSans-103\"/>\r\n      </g>\r\n     </g>\r\n    </g>\r\n    <g id=\"ytick_20\">\r\n     <g id=\"line2d_21\">\r\n      <g>\r\n       <use style=\"stroke:#000000;stroke-width:0.8;\" x=\"131.7\" xlink:href=\"#mecd97f2883\" y=\"435.007219\"/>\r\n      </g>\r\n     </g>\r\n     <g id=\"text_21\">\r\n      <!-- conscientiousness -->\r\n      <g transform=\"translate(33.495312 438.806438)scale(0.1 -0.1)\">\r\n       <use xlink:href=\"#DejaVuSans-99\"/>\r\n       <use x=\"54.980469\" xlink:href=\"#DejaVuSans-111\"/>\r\n       <use x=\"116.162109\" xlink:href=\"#DejaVuSans-110\"/>\r\n       <use x=\"179.541016\" xlink:href=\"#DejaVuSans-115\"/>\r\n       <use x=\"231.640625\" xlink:href=\"#DejaVuSans-99\"/>\r\n       <use x=\"286.621094\" xlink:href=\"#DejaVuSans-105\"/>\r\n       <use x=\"314.404297\" xlink:href=\"#DejaVuSans-101\"/>\r\n       <use x=\"375.927734\" xlink:href=\"#DejaVuSans-110\"/>\r\n       <use x=\"439.306641\" xlink:href=\"#DejaVuSans-116\"/>\r\n       <use x=\"478.515625\" xlink:href=\"#DejaVuSans-105\"/>\r\n       <use x=\"506.298828\" xlink:href=\"#DejaVuSans-111\"/>\r\n       <use x=\"567.480469\" xlink:href=\"#DejaVuSans-117\"/>\r\n       <use x=\"630.859375\" xlink:href=\"#DejaVuSans-115\"/>\r\n       <use x=\"682.958984\" xlink:href=\"#DejaVuSans-110\"/>\r\n       <use x=\"746.337891\" xlink:href=\"#DejaVuSans-101\"/>\r\n       <use x=\"807.861328\" xlink:href=\"#DejaVuSans-115\"/>\r\n       <use x=\"859.960938\" xlink:href=\"#DejaVuSans-115\"/>\r\n      </g>\r\n     </g>\r\n    </g>\r\n    <g id=\"ytick_21\">\r\n     <g id=\"line2d_22\">\r\n      <g>\r\n       <use style=\"stroke:#000000;stroke-width:0.8;\" x=\"131.7\" xlink:href=\"#mecd97f2883\" y=\"456.751219\"/>\r\n      </g>\r\n     </g>\r\n     <g id=\"text_22\">\r\n      <!-- agreeableness -->\r\n      <defs>\r\n       <path d=\"M 48.6875 27.296875 \r\nQ 48.6875 37.203125 44.609375 42.84375 \r\nQ 40.53125 48.484375 33.40625 48.484375 \r\nQ 26.265625 48.484375 22.1875 42.84375 \r\nQ 18.109375 37.203125 18.109375 27.296875 \r\nQ 18.109375 17.390625 22.1875 11.75 \r\nQ 26.265625 6.109375 33.40625 6.109375 \r\nQ 40.53125 6.109375 44.609375 11.75 \r\nQ 48.6875 17.390625 48.6875 27.296875 \r\nz\r\nM 18.109375 46.390625 \r\nQ 20.953125 51.265625 25.265625 53.625 \r\nQ 29.59375 56 35.59375 56 \r\nQ 45.5625 56 51.78125 48.09375 \r\nQ 58.015625 40.1875 58.015625 27.296875 \r\nQ 58.015625 14.40625 51.78125 6.484375 \r\nQ 45.5625 -1.421875 35.59375 -1.421875 \r\nQ 29.59375 -1.421875 25.265625 0.953125 \r\nQ 20.953125 3.328125 18.109375 8.203125 \r\nL 18.109375 0 \r\nL 9.078125 0 \r\nL 9.078125 75.984375 \r\nL 18.109375 75.984375 \r\nz\r\n\" id=\"DejaVuSans-98\"/>\r\n      </defs>\r\n      <g transform=\"translate(51.492187 460.550438)scale(0.1 -0.1)\">\r\n       <use xlink:href=\"#DejaVuSans-97\"/>\r\n       <use x=\"61.279297\" xlink:href=\"#DejaVuSans-103\"/>\r\n       <use x=\"124.755859\" xlink:href=\"#DejaVuSans-114\"/>\r\n       <use x=\"165.837891\" xlink:href=\"#DejaVuSans-101\"/>\r\n       <use x=\"227.361328\" xlink:href=\"#DejaVuSans-101\"/>\r\n       <use x=\"288.884766\" xlink:href=\"#DejaVuSans-97\"/>\r\n       <use x=\"350.164062\" xlink:href=\"#DejaVuSans-98\"/>\r\n       <use x=\"413.640625\" xlink:href=\"#DejaVuSans-108\"/>\r\n       <use x=\"441.423828\" xlink:href=\"#DejaVuSans-101\"/>\r\n       <use x=\"502.947266\" xlink:href=\"#DejaVuSans-110\"/>\r\n       <use x=\"566.326172\" xlink:href=\"#DejaVuSans-101\"/>\r\n       <use x=\"627.849609\" xlink:href=\"#DejaVuSans-115\"/>\r\n       <use x=\"679.949219\" xlink:href=\"#DejaVuSans-115\"/>\r\n      </g>\r\n     </g>\r\n    </g>\r\n    <g id=\"ytick_22\">\r\n     <g id=\"line2d_23\">\r\n      <g>\r\n       <use style=\"stroke:#000000;stroke-width:0.8;\" x=\"131.7\" xlink:href=\"#mecd97f2883\" y=\"478.495219\"/>\r\n      </g>\r\n     </g>\r\n     <g id=\"text_23\">\r\n      <!-- extraversion -->\r\n      <defs>\r\n       <path d=\"M 54.890625 54.6875 \r\nL 35.109375 28.078125 \r\nL 55.90625 0 \r\nL 45.3125 0 \r\nL 29.390625 21.484375 \r\nL 13.484375 0 \r\nL 2.875 0 \r\nL 24.125 28.609375 \r\nL 4.6875 54.6875 \r\nL 15.28125 54.6875 \r\nL 29.78125 35.203125 \r\nL 44.28125 54.6875 \r\nz\r\n\" id=\"DejaVuSans-120\"/>\r\n      </defs>\r\n      <g transform=\"translate(61.84375 482.294438)scale(0.1 -0.1)\">\r\n       <use xlink:href=\"#DejaVuSans-101\"/>\r\n       <use x=\"61.507812\" xlink:href=\"#DejaVuSans-120\"/>\r\n       <use x=\"120.6875\" xlink:href=\"#DejaVuSans-116\"/>\r\n       <use x=\"159.896484\" xlink:href=\"#DejaVuSans-114\"/>\r\n       <use x=\"201.009766\" xlink:href=\"#DejaVuSans-97\"/>\r\n       <use x=\"262.289062\" xlink:href=\"#DejaVuSans-118\"/>\r\n       <use x=\"321.46875\" xlink:href=\"#DejaVuSans-101\"/>\r\n       <use x=\"382.992188\" xlink:href=\"#DejaVuSans-114\"/>\r\n       <use x=\"424.105469\" xlink:href=\"#DejaVuSans-115\"/>\r\n       <use x=\"476.205078\" xlink:href=\"#DejaVuSans-105\"/>\r\n       <use x=\"503.988281\" xlink:href=\"#DejaVuSans-111\"/>\r\n       <use x=\"565.169922\" xlink:href=\"#DejaVuSans-110\"/>\r\n      </g>\r\n     </g>\r\n    </g>\r\n    <g id=\"ytick_23\">\r\n     <g id=\"line2d_24\">\r\n      <g>\r\n       <use style=\"stroke:#000000;stroke-width:0.8;\" x=\"131.7\" xlink:href=\"#mecd97f2883\" y=\"500.239219\"/>\r\n      </g>\r\n     </g>\r\n     <g id=\"text_24\">\r\n      <!-- nueroticism -->\r\n      <g transform=\"translate(65.720312 504.038438)scale(0.1 -0.1)\">\r\n       <use xlink:href=\"#DejaVuSans-110\"/>\r\n       <use x=\"63.378906\" xlink:href=\"#DejaVuSans-117\"/>\r\n       <use x=\"126.757812\" xlink:href=\"#DejaVuSans-101\"/>\r\n       <use x=\"188.28125\" xlink:href=\"#DejaVuSans-114\"/>\r\n       <use x=\"229.363281\" xlink:href=\"#DejaVuSans-111\"/>\r\n       <use x=\"290.544922\" xlink:href=\"#DejaVuSans-116\"/>\r\n       <use x=\"329.753906\" xlink:href=\"#DejaVuSans-105\"/>\r\n       <use x=\"357.537109\" xlink:href=\"#DejaVuSans-99\"/>\r\n       <use x=\"412.517578\" xlink:href=\"#DejaVuSans-105\"/>\r\n       <use x=\"440.300781\" xlink:href=\"#DejaVuSans-115\"/>\r\n       <use x=\"492.400391\" xlink:href=\"#DejaVuSans-109\"/>\r\n      </g>\r\n     </g>\r\n    </g>\r\n    <g id=\"ytick_24\">\r\n     <g id=\"line2d_25\">\r\n      <g>\r\n       <use style=\"stroke:#000000;stroke-width:0.8;\" x=\"131.7\" xlink:href=\"#mecd97f2883\" y=\"521.983219\"/>\r\n      </g>\r\n     </g>\r\n     <g id=\"text_25\">\r\n      <!-- openess_to_experience -->\r\n      <defs>\r\n       <path d=\"M 50.984375 -16.609375 \r\nL 50.984375 -23.578125 \r\nL -0.984375 -23.578125 \r\nL -0.984375 -16.609375 \r\nz\r\n\" id=\"DejaVuSans-95\"/>\r\n      </defs>\r\n      <g transform=\"translate(7.528125 525.782438)scale(0.1 -0.1)\">\r\n       <use xlink:href=\"#DejaVuSans-111\"/>\r\n       <use x=\"61.181641\" xlink:href=\"#DejaVuSans-112\"/>\r\n       <use x=\"124.658203\" xlink:href=\"#DejaVuSans-101\"/>\r\n       <use x=\"186.181641\" xlink:href=\"#DejaVuSans-110\"/>\r\n       <use x=\"249.560547\" xlink:href=\"#DejaVuSans-101\"/>\r\n       <use x=\"311.083984\" xlink:href=\"#DejaVuSans-115\"/>\r\n       <use x=\"363.183594\" xlink:href=\"#DejaVuSans-115\"/>\r\n       <use x=\"415.283203\" xlink:href=\"#DejaVuSans-95\"/>\r\n       <use x=\"465.283203\" xlink:href=\"#DejaVuSans-116\"/>\r\n       <use x=\"504.492188\" xlink:href=\"#DejaVuSans-111\"/>\r\n       <use x=\"565.673828\" xlink:href=\"#DejaVuSans-95\"/>\r\n       <use x=\"615.673828\" xlink:href=\"#DejaVuSans-101\"/>\r\n       <use x=\"677.181641\" xlink:href=\"#DejaVuSans-120\"/>\r\n       <use x=\"736.361328\" xlink:href=\"#DejaVuSans-112\"/>\r\n       <use x=\"799.837891\" xlink:href=\"#DejaVuSans-101\"/>\r\n       <use x=\"861.361328\" xlink:href=\"#DejaVuSans-114\"/>\r\n       <use x=\"902.474609\" xlink:href=\"#DejaVuSans-105\"/>\r\n       <use x=\"930.257812\" xlink:href=\"#DejaVuSans-101\"/>\r\n       <use x=\"991.78125\" xlink:href=\"#DejaVuSans-110\"/>\r\n       <use x=\"1055.160156\" xlink:href=\"#DejaVuSans-99\"/>\r\n       <use x=\"1110.140625\" xlink:href=\"#DejaVuSans-101\"/>\r\n      </g>\r\n     </g>\r\n    </g>\r\n    <g id=\"ytick_25\">\r\n     <g id=\"line2d_26\">\r\n      <g>\r\n       <use style=\"stroke:#000000;stroke-width:0.8;\" x=\"131.7\" xlink:href=\"#mecd97f2883\" y=\"543.727219\"/>\r\n      </g>\r\n     </g>\r\n     <g id=\"text_26\">\r\n      <!-- Salary -->\r\n      <g transform=\"translate(93.2875 547.526438)scale(0.1 -0.1)\">\r\n       <use xlink:href=\"#DejaVuSans-83\"/>\r\n       <use x=\"63.476562\" xlink:href=\"#DejaVuSans-97\"/>\r\n       <use x=\"124.755859\" xlink:href=\"#DejaVuSans-108\"/>\r\n       <use x=\"152.539062\" xlink:href=\"#DejaVuSans-97\"/>\r\n       <use x=\"213.818359\" xlink:href=\"#DejaVuSans-114\"/>\r\n       <use x=\"254.931641\" xlink:href=\"#DejaVuSans-121\"/>\r\n      </g>\r\n     </g>\r\n    </g>\r\n   </g>\r\n   <g id=\"text_27\">\r\n    <!-- -0.15 -->\r\n    <defs>\r\n     <path d=\"M 4.890625 31.390625 \r\nL 31.203125 31.390625 \r\nL 31.203125 23.390625 \r\nL 4.890625 23.390625 \r\nz\r\n\" id=\"DejaVuSans-45\"/>\r\n     <path d=\"M 10.6875 12.40625 \r\nL 21 12.40625 \r\nL 21 0 \r\nL 10.6875 0 \r\nz\r\n\" id=\"DejaVuSans-46\"/>\r\n     <path d=\"M 10.796875 72.90625 \r\nL 49.515625 72.90625 \r\nL 49.515625 64.59375 \r\nL 19.828125 64.59375 \r\nL 19.828125 46.734375 \r\nQ 21.96875 47.46875 24.109375 47.828125 \r\nQ 26.265625 48.1875 28.421875 48.1875 \r\nQ 40.625 48.1875 47.75 41.5 \r\nQ 54.890625 34.8125 54.890625 23.390625 \r\nQ 54.890625 11.625 47.5625 5.09375 \r\nQ 40.234375 -1.421875 26.90625 -1.421875 \r\nQ 22.3125 -1.421875 17.546875 -0.640625 \r\nQ 12.796875 0.140625 7.71875 1.703125 \r\nL 7.71875 11.625 \r\nQ 12.109375 9.234375 16.796875 8.0625 \r\nQ 21.484375 6.890625 26.703125 6.890625 \r\nQ 35.15625 6.890625 40.078125 11.328125 \r\nQ 45.015625 15.765625 45.015625 23.390625 \r\nQ 45.015625 31 40.078125 35.4375 \r\nQ 35.15625 39.890625 26.703125 39.890625 \r\nQ 22.75 39.890625 18.8125 39.015625 \r\nQ 14.890625 38.140625 10.796875 36.28125 \r\nz\r\n\" id=\"DejaVuSans-53\"/>\r\n    </defs>\r\n    <g style=\"fill:#262626;\" transform=\"translate(341.963281 24.630594)scale(0.1 -0.1)\">\r\n     <use xlink:href=\"#DejaVuSans-45\"/>\r\n     <use x=\"36.083984\" xlink:href=\"#DejaVuSans-48\"/>\r\n     <use x=\"99.707031\" xlink:href=\"#DejaVuSans-46\"/>\r\n     <use x=\"131.494141\" xlink:href=\"#DejaVuSans-49\"/>\r\n     <use x=\"195.117188\" xlink:href=\"#DejaVuSans-53\"/>\r\n    </g>\r\n   </g>\r\n   <g id=\"text_28\">\r\n    <!-- 0.29 -->\r\n    <defs>\r\n     <path d=\"M 10.984375 1.515625 \r\nL 10.984375 10.5 \r\nQ 14.703125 8.734375 18.5 7.8125 \r\nQ 22.3125 6.890625 25.984375 6.890625 \r\nQ 35.75 6.890625 40.890625 13.453125 \r\nQ 46.046875 20.015625 46.78125 33.40625 \r\nQ 43.953125 29.203125 39.59375 26.953125 \r\nQ 35.25 24.703125 29.984375 24.703125 \r\nQ 19.046875 24.703125 12.671875 31.3125 \r\nQ 6.296875 37.9375 6.296875 49.421875 \r\nQ 6.296875 60.640625 12.9375 67.421875 \r\nQ 19.578125 74.21875 30.609375 74.21875 \r\nQ 43.265625 74.21875 49.921875 64.515625 \r\nQ 56.59375 54.828125 56.59375 36.375 \r\nQ 56.59375 19.140625 48.40625 8.859375 \r\nQ 40.234375 -1.421875 26.421875 -1.421875 \r\nQ 22.703125 -1.421875 18.890625 -0.6875 \r\nQ 15.09375 0.046875 10.984375 1.515625 \r\nz\r\nM 30.609375 32.421875 \r\nQ 37.25 32.421875 41.125 36.953125 \r\nQ 45.015625 41.5 45.015625 49.421875 \r\nQ 45.015625 57.28125 41.125 61.84375 \r\nQ 37.25 66.40625 30.609375 66.40625 \r\nQ 23.96875 66.40625 20.09375 61.84375 \r\nQ 16.21875 57.28125 16.21875 49.421875 \r\nQ 16.21875 41.5 20.09375 36.953125 \r\nQ 23.96875 32.421875 30.609375 32.421875 \r\nz\r\n\" id=\"DejaVuSans-57\"/>\r\n    </defs>\r\n    <g style=\"fill:#262626;\" transform=\"translate(343.767188 46.374594)scale(0.1 -0.1)\">\r\n     <use xlink:href=\"#DejaVuSans-48\"/>\r\n     <use x=\"63.623047\" xlink:href=\"#DejaVuSans-46\"/>\r\n     <use x=\"95.410156\" xlink:href=\"#DejaVuSans-50\"/>\r\n     <use x=\"159.033203\" xlink:href=\"#DejaVuSans-57\"/>\r\n    </g>\r\n   </g>\r\n   <g id=\"text_29\">\r\n    <!-- -0.16 -->\r\n    <defs>\r\n     <path d=\"M 33.015625 40.375 \r\nQ 26.375 40.375 22.484375 35.828125 \r\nQ 18.609375 31.296875 18.609375 23.390625 \r\nQ 18.609375 15.53125 22.484375 10.953125 \r\nQ 26.375 6.390625 33.015625 6.390625 \r\nQ 39.65625 6.390625 43.53125 10.953125 \r\nQ 47.40625 15.53125 47.40625 23.390625 \r\nQ 47.40625 31.296875 43.53125 35.828125 \r\nQ 39.65625 40.375 33.015625 40.375 \r\nz\r\nM 52.59375 71.296875 \r\nL 52.59375 62.3125 \r\nQ 48.875 64.0625 45.09375 64.984375 \r\nQ 41.3125 65.921875 37.59375 65.921875 \r\nQ 27.828125 65.921875 22.671875 59.328125 \r\nQ 17.53125 52.734375 16.796875 39.40625 \r\nQ 19.671875 43.65625 24.015625 45.921875 \r\nQ 28.375 48.1875 33.59375 48.1875 \r\nQ 44.578125 48.1875 50.953125 41.515625 \r\nQ 57.328125 34.859375 57.328125 23.390625 \r\nQ 57.328125 12.15625 50.6875 5.359375 \r\nQ 44.046875 -1.421875 33.015625 -1.421875 \r\nQ 20.359375 -1.421875 13.671875 8.265625 \r\nQ 6.984375 17.96875 6.984375 36.375 \r\nQ 6.984375 53.65625 15.1875 63.9375 \r\nQ 23.390625 74.21875 37.203125 74.21875 \r\nQ 40.921875 74.21875 44.703125 73.484375 \r\nQ 48.484375 72.75 52.59375 71.296875 \r\nz\r\n\" id=\"DejaVuSans-54\"/>\r\n    </defs>\r\n    <g style=\"fill:#262626;\" transform=\"translate(341.963281 68.118594)scale(0.1 -0.1)\">\r\n     <use xlink:href=\"#DejaVuSans-45\"/>\r\n     <use x=\"36.083984\" xlink:href=\"#DejaVuSans-48\"/>\r\n     <use x=\"99.707031\" xlink:href=\"#DejaVuSans-46\"/>\r\n     <use x=\"131.494141\" xlink:href=\"#DejaVuSans-49\"/>\r\n     <use x=\"195.117188\" xlink:href=\"#DejaVuSans-54\"/>\r\n    </g>\r\n   </g>\r\n   <g id=\"text_30\">\r\n    <!-- 0.26 -->\r\n    <g style=\"fill:#262626;\" transform=\"translate(343.767188 89.862594)scale(0.1 -0.1)\">\r\n     <use xlink:href=\"#DejaVuSans-48\"/>\r\n     <use x=\"63.623047\" xlink:href=\"#DejaVuSans-46\"/>\r\n     <use x=\"95.410156\" xlink:href=\"#DejaVuSans-50\"/>\r\n     <use x=\"159.033203\" xlink:href=\"#DejaVuSans-54\"/>\r\n    </g>\r\n   </g>\r\n   <g id=\"text_31\">\r\n    <!-- -0.2 -->\r\n    <g style=\"fill:#262626;\" transform=\"translate(345.144531 111.606594)scale(0.1 -0.1)\">\r\n     <use xlink:href=\"#DejaVuSans-45\"/>\r\n     <use x=\"36.083984\" xlink:href=\"#DejaVuSans-48\"/>\r\n     <use x=\"99.707031\" xlink:href=\"#DejaVuSans-46\"/>\r\n     <use x=\"131.494141\" xlink:href=\"#DejaVuSans-50\"/>\r\n    </g>\r\n   </g>\r\n   <g id=\"text_32\">\r\n    <!-- 0.2 -->\r\n    <g style=\"fill:#262626;\" transform=\"translate(346.948438 133.350594)scale(0.1 -0.1)\">\r\n     <use xlink:href=\"#DejaVuSans-48\"/>\r\n     <use x=\"63.623047\" xlink:href=\"#DejaVuSans-46\"/>\r\n     <use x=\"95.410156\" xlink:href=\"#DejaVuSans-50\"/>\r\n    </g>\r\n   </g>\r\n   <g id=\"text_33\">\r\n    <!-- 0.015 -->\r\n    <g style=\"fill:#262626;\" transform=\"translate(340.585938 155.094594)scale(0.1 -0.1)\">\r\n     <use xlink:href=\"#DejaVuSans-48\"/>\r\n     <use x=\"63.623047\" xlink:href=\"#DejaVuSans-46\"/>\r\n     <use x=\"95.410156\" xlink:href=\"#DejaVuSans-48\"/>\r\n     <use x=\"159.033203\" xlink:href=\"#DejaVuSans-49\"/>\r\n     <use x=\"222.65625\" xlink:href=\"#DejaVuSans-53\"/>\r\n    </g>\r\n   </g>\r\n   <g id=\"text_34\">\r\n    <!-- -0.24 -->\r\n    <defs>\r\n     <path d=\"M 37.796875 64.3125 \r\nL 12.890625 25.390625 \r\nL 37.796875 25.390625 \r\nz\r\nM 35.203125 72.90625 \r\nL 47.609375 72.90625 \r\nL 47.609375 25.390625 \r\nL 58.015625 25.390625 \r\nL 58.015625 17.1875 \r\nL 47.609375 17.1875 \r\nL 47.609375 0 \r\nL 37.796875 0 \r\nL 37.796875 17.1875 \r\nL 4.890625 17.1875 \r\nL 4.890625 26.703125 \r\nz\r\n\" id=\"DejaVuSans-52\"/>\r\n    </defs>\r\n    <g style=\"fill:#262626;\" transform=\"translate(341.963281 176.838594)scale(0.1 -0.1)\">\r\n     <use xlink:href=\"#DejaVuSans-45\"/>\r\n     <use x=\"36.083984\" xlink:href=\"#DejaVuSans-48\"/>\r\n     <use x=\"99.707031\" xlink:href=\"#DejaVuSans-46\"/>\r\n     <use x=\"131.494141\" xlink:href=\"#DejaVuSans-50\"/>\r\n     <use x=\"195.117188\" xlink:href=\"#DejaVuSans-52\"/>\r\n    </g>\r\n   </g>\r\n   <g id=\"text_35\">\r\n    <!-- 0.26 -->\r\n    <g style=\"fill:#262626;\" transform=\"translate(343.767188 198.582594)scale(0.1 -0.1)\">\r\n     <use xlink:href=\"#DejaVuSans-48\"/>\r\n     <use x=\"63.623047\" xlink:href=\"#DejaVuSans-46\"/>\r\n     <use x=\"95.410156\" xlink:href=\"#DejaVuSans-50\"/>\r\n     <use x=\"159.033203\" xlink:href=\"#DejaVuSans-54\"/>\r\n    </g>\r\n   </g>\r\n   <g id=\"text_36\">\r\n    <!-- 0.26 -->\r\n    <g style=\"fill:#262626;\" transform=\"translate(343.767188 220.326594)scale(0.1 -0.1)\">\r\n     <use xlink:href=\"#DejaVuSans-48\"/>\r\n     <use x=\"63.623047\" xlink:href=\"#DejaVuSans-46\"/>\r\n     <use x=\"95.410156\" xlink:href=\"#DejaVuSans-50\"/>\r\n     <use x=\"159.033203\" xlink:href=\"#DejaVuSans-54\"/>\r\n    </g>\r\n   </g>\r\n   <g id=\"text_37\">\r\n    <!-- 0.36 -->\r\n    <defs>\r\n     <path d=\"M 40.578125 39.3125 \r\nQ 47.65625 37.796875 51.625 33 \r\nQ 55.609375 28.21875 55.609375 21.1875 \r\nQ 55.609375 10.40625 48.1875 4.484375 \r\nQ 40.765625 -1.421875 27.09375 -1.421875 \r\nQ 22.515625 -1.421875 17.65625 -0.515625 \r\nQ 12.796875 0.390625 7.625 2.203125 \r\nL 7.625 11.71875 \r\nQ 11.71875 9.328125 16.59375 8.109375 \r\nQ 21.484375 6.890625 26.8125 6.890625 \r\nQ 36.078125 6.890625 40.9375 10.546875 \r\nQ 45.796875 14.203125 45.796875 21.1875 \r\nQ 45.796875 27.640625 41.28125 31.265625 \r\nQ 36.765625 34.90625 28.71875 34.90625 \r\nL 20.21875 34.90625 \r\nL 20.21875 43.015625 \r\nL 29.109375 43.015625 \r\nQ 36.375 43.015625 40.234375 45.921875 \r\nQ 44.09375 48.828125 44.09375 54.296875 \r\nQ 44.09375 59.90625 40.109375 62.90625 \r\nQ 36.140625 65.921875 28.71875 65.921875 \r\nQ 24.65625 65.921875 20.015625 65.03125 \r\nQ 15.375 64.15625 9.8125 62.3125 \r\nL 9.8125 71.09375 \r\nQ 15.4375 72.65625 20.34375 73.4375 \r\nQ 25.25 74.21875 29.59375 74.21875 \r\nQ 40.828125 74.21875 47.359375 69.109375 \r\nQ 53.90625 64.015625 53.90625 55.328125 \r\nQ 53.90625 49.265625 50.4375 45.09375 \r\nQ 46.96875 40.921875 40.578125 39.3125 \r\nz\r\n\" id=\"DejaVuSans-51\"/>\r\n    </defs>\r\n    <g style=\"fill:#262626;\" transform=\"translate(343.767188 242.070594)scale(0.1 -0.1)\">\r\n     <use xlink:href=\"#DejaVuSans-48\"/>\r\n     <use x=\"63.623047\" xlink:href=\"#DejaVuSans-46\"/>\r\n     <use x=\"95.410156\" xlink:href=\"#DejaVuSans-51\"/>\r\n     <use x=\"159.033203\" xlink:href=\"#DejaVuSans-54\"/>\r\n    </g>\r\n   </g>\r\n   <g id=\"text_38\">\r\n    <!-- 0.24 -->\r\n    <g style=\"fill:#262626;\" transform=\"translate(343.767188 263.814594)scale(0.1 -0.1)\">\r\n     <use xlink:href=\"#DejaVuSans-48\"/>\r\n     <use x=\"63.623047\" xlink:href=\"#DejaVuSans-46\"/>\r\n     <use x=\"95.410156\" xlink:href=\"#DejaVuSans-50\"/>\r\n     <use x=\"159.033203\" xlink:href=\"#DejaVuSans-52\"/>\r\n    </g>\r\n   </g>\r\n   <g id=\"text_39\">\r\n    <!-- 0.16 -->\r\n    <g style=\"fill:#262626;\" transform=\"translate(343.767188 285.558594)scale(0.1 -0.1)\">\r\n     <use xlink:href=\"#DejaVuSans-48\"/>\r\n     <use x=\"63.623047\" xlink:href=\"#DejaVuSans-46\"/>\r\n     <use x=\"95.410156\" xlink:href=\"#DejaVuSans-49\"/>\r\n     <use x=\"159.033203\" xlink:href=\"#DejaVuSans-54\"/>\r\n    </g>\r\n   </g>\r\n   <g id=\"text_40\">\r\n    <!-- 0.0045 -->\r\n    <g style=\"fill:#262626;\" transform=\"translate(337.404688 307.302594)scale(0.1 -0.1)\">\r\n     <use xlink:href=\"#DejaVuSans-48\"/>\r\n     <use x=\"63.623047\" xlink:href=\"#DejaVuSans-46\"/>\r\n     <use x=\"95.410156\" xlink:href=\"#DejaVuSans-48\"/>\r\n     <use x=\"159.033203\" xlink:href=\"#DejaVuSans-48\"/>\r\n     <use x=\"222.65625\" xlink:href=\"#DejaVuSans-52\"/>\r\n     <use x=\"286.279297\" xlink:href=\"#DejaVuSans-53\"/>\r\n    </g>\r\n   </g>\r\n   <g id=\"text_41\">\r\n    <!-- -0.15 -->\r\n    <g style=\"fill:#262626;\" transform=\"translate(341.963281 329.046594)scale(0.1 -0.1)\">\r\n     <use xlink:href=\"#DejaVuSans-45\"/>\r\n     <use x=\"36.083984\" xlink:href=\"#DejaVuSans-48\"/>\r\n     <use x=\"99.707031\" xlink:href=\"#DejaVuSans-46\"/>\r\n     <use x=\"131.494141\" xlink:href=\"#DejaVuSans-49\"/>\r\n     <use x=\"195.117188\" xlink:href=\"#DejaVuSans-53\"/>\r\n    </g>\r\n   </g>\r\n   <g id=\"text_42\">\r\n    <!-- 0.039 -->\r\n    <g style=\"fill:#262626;\" transform=\"translate(340.585938 350.790594)scale(0.1 -0.1)\">\r\n     <use xlink:href=\"#DejaVuSans-48\"/>\r\n     <use x=\"63.623047\" xlink:href=\"#DejaVuSans-46\"/>\r\n     <use x=\"95.410156\" xlink:href=\"#DejaVuSans-48\"/>\r\n     <use x=\"159.033203\" xlink:href=\"#DejaVuSans-51\"/>\r\n     <use x=\"222.65625\" xlink:href=\"#DejaVuSans-57\"/>\r\n    </g>\r\n   </g>\r\n   <g id=\"text_43\">\r\n    <!-- -0.047 -->\r\n    <defs>\r\n     <path d=\"M 8.203125 72.90625 \r\nL 55.078125 72.90625 \r\nL 55.078125 68.703125 \r\nL 28.609375 0 \r\nL 18.3125 0 \r\nL 43.21875 64.59375 \r\nL 8.203125 64.59375 \r\nz\r\n\" id=\"DejaVuSans-55\"/>\r\n    </defs>\r\n    <g style=\"fill:#262626;\" transform=\"translate(338.782031 372.534594)scale(0.1 -0.1)\">\r\n     <use xlink:href=\"#DejaVuSans-45\"/>\r\n     <use x=\"36.083984\" xlink:href=\"#DejaVuSans-48\"/>\r\n     <use x=\"99.707031\" xlink:href=\"#DejaVuSans-46\"/>\r\n     <use x=\"131.494141\" xlink:href=\"#DejaVuSans-48\"/>\r\n     <use x=\"195.117188\" xlink:href=\"#DejaVuSans-52\"/>\r\n     <use x=\"258.740234\" xlink:href=\"#DejaVuSans-55\"/>\r\n    </g>\r\n   </g>\r\n   <g id=\"text_44\">\r\n    <!-- -0.019 -->\r\n    <g style=\"fill:#262626;\" transform=\"translate(338.782031 394.278594)scale(0.1 -0.1)\">\r\n     <use xlink:href=\"#DejaVuSans-45\"/>\r\n     <use x=\"36.083984\" xlink:href=\"#DejaVuSans-48\"/>\r\n     <use x=\"99.707031\" xlink:href=\"#DejaVuSans-46\"/>\r\n     <use x=\"131.494141\" xlink:href=\"#DejaVuSans-48\"/>\r\n     <use x=\"195.117188\" xlink:href=\"#DejaVuSans-49\"/>\r\n     <use x=\"258.740234\" xlink:href=\"#DejaVuSans-57\"/>\r\n    </g>\r\n   </g>\r\n   <g id=\"text_45\">\r\n    <!-- 0.054 -->\r\n    <g style=\"fill:#262626;\" transform=\"translate(340.585938 416.022594)scale(0.1 -0.1)\">\r\n     <use xlink:href=\"#DejaVuSans-48\"/>\r\n     <use x=\"63.623047\" xlink:href=\"#DejaVuSans-46\"/>\r\n     <use x=\"95.410156\" xlink:href=\"#DejaVuSans-48\"/>\r\n     <use x=\"159.033203\" xlink:href=\"#DejaVuSans-53\"/>\r\n     <use x=\"222.65625\" xlink:href=\"#DejaVuSans-52\"/>\r\n    </g>\r\n   </g>\r\n   <g id=\"text_46\">\r\n    <!-- -0.039 -->\r\n    <g style=\"fill:#262626;\" transform=\"translate(338.782031 437.766594)scale(0.1 -0.1)\">\r\n     <use xlink:href=\"#DejaVuSans-45\"/>\r\n     <use x=\"36.083984\" xlink:href=\"#DejaVuSans-48\"/>\r\n     <use x=\"99.707031\" xlink:href=\"#DejaVuSans-46\"/>\r\n     <use x=\"131.494141\" xlink:href=\"#DejaVuSans-48\"/>\r\n     <use x=\"195.117188\" xlink:href=\"#DejaVuSans-51\"/>\r\n     <use x=\"258.740234\" xlink:href=\"#DejaVuSans-57\"/>\r\n    </g>\r\n   </g>\r\n   <g id=\"text_47\">\r\n    <!-- 0.079 -->\r\n    <g style=\"fill:#262626;\" transform=\"translate(340.585938 459.510594)scale(0.1 -0.1)\">\r\n     <use xlink:href=\"#DejaVuSans-48\"/>\r\n     <use x=\"63.623047\" xlink:href=\"#DejaVuSans-46\"/>\r\n     <use x=\"95.410156\" xlink:href=\"#DejaVuSans-48\"/>\r\n     <use x=\"159.033203\" xlink:href=\"#DejaVuSans-55\"/>\r\n     <use x=\"222.65625\" xlink:href=\"#DejaVuSans-57\"/>\r\n    </g>\r\n   </g>\r\n   <g id=\"text_48\">\r\n    <!-- -0.0095 -->\r\n    <g style=\"fill:#262626;\" transform=\"translate(335.600781 481.254594)scale(0.1 -0.1)\">\r\n     <use xlink:href=\"#DejaVuSans-45\"/>\r\n     <use x=\"36.083984\" xlink:href=\"#DejaVuSans-48\"/>\r\n     <use x=\"99.707031\" xlink:href=\"#DejaVuSans-46\"/>\r\n     <use x=\"131.494141\" xlink:href=\"#DejaVuSans-48\"/>\r\n     <use x=\"195.117188\" xlink:href=\"#DejaVuSans-48\"/>\r\n     <use x=\"258.740234\" xlink:href=\"#DejaVuSans-57\"/>\r\n     <use x=\"322.363281\" xlink:href=\"#DejaVuSans-53\"/>\r\n    </g>\r\n   </g>\r\n   <g id=\"text_49\">\r\n    <!-- -0.071 -->\r\n    <g style=\"fill:#262626;\" transform=\"translate(338.782031 502.998594)scale(0.1 -0.1)\">\r\n     <use xlink:href=\"#DejaVuSans-45\"/>\r\n     <use x=\"36.083984\" xlink:href=\"#DejaVuSans-48\"/>\r\n     <use x=\"99.707031\" xlink:href=\"#DejaVuSans-46\"/>\r\n     <use x=\"131.494141\" xlink:href=\"#DejaVuSans-48\"/>\r\n     <use x=\"195.117188\" xlink:href=\"#DejaVuSans-55\"/>\r\n     <use x=\"258.740234\" xlink:href=\"#DejaVuSans-49\"/>\r\n    </g>\r\n   </g>\r\n   <g id=\"text_50\">\r\n    <!-- 0.008 -->\r\n    <defs>\r\n     <path d=\"M 31.78125 34.625 \r\nQ 24.75 34.625 20.71875 30.859375 \r\nQ 16.703125 27.09375 16.703125 20.515625 \r\nQ 16.703125 13.921875 20.71875 10.15625 \r\nQ 24.75 6.390625 31.78125 6.390625 \r\nQ 38.8125 6.390625 42.859375 10.171875 \r\nQ 46.921875 13.96875 46.921875 20.515625 \r\nQ 46.921875 27.09375 42.890625 30.859375 \r\nQ 38.875 34.625 31.78125 34.625 \r\nz\r\nM 21.921875 38.8125 \r\nQ 15.578125 40.375 12.03125 44.71875 \r\nQ 8.5 49.078125 8.5 55.328125 \r\nQ 8.5 64.0625 14.71875 69.140625 \r\nQ 20.953125 74.21875 31.78125 74.21875 \r\nQ 42.671875 74.21875 48.875 69.140625 \r\nQ 55.078125 64.0625 55.078125 55.328125 \r\nQ 55.078125 49.078125 51.53125 44.71875 \r\nQ 48 40.375 41.703125 38.8125 \r\nQ 48.828125 37.15625 52.796875 32.3125 \r\nQ 56.78125 27.484375 56.78125 20.515625 \r\nQ 56.78125 9.90625 50.3125 4.234375 \r\nQ 43.84375 -1.421875 31.78125 -1.421875 \r\nQ 19.734375 -1.421875 13.25 4.234375 \r\nQ 6.78125 9.90625 6.78125 20.515625 \r\nQ 6.78125 27.484375 10.78125 32.3125 \r\nQ 14.796875 37.15625 21.921875 38.8125 \r\nz\r\nM 18.3125 54.390625 \r\nQ 18.3125 48.734375 21.84375 45.5625 \r\nQ 25.390625 42.390625 31.78125 42.390625 \r\nQ 38.140625 42.390625 41.71875 45.5625 \r\nQ 45.3125 48.734375 45.3125 54.390625 \r\nQ 45.3125 60.0625 41.71875 63.234375 \r\nQ 38.140625 66.40625 31.78125 66.40625 \r\nQ 25.390625 66.40625 21.84375 63.234375 \r\nQ 18.3125 60.0625 18.3125 54.390625 \r\nz\r\n\" id=\"DejaVuSans-56\"/>\r\n    </defs>\r\n    <g style=\"fill:#262626;\" transform=\"translate(340.585938 524.742594)scale(0.1 -0.1)\">\r\n     <use xlink:href=\"#DejaVuSans-48\"/>\r\n     <use x=\"63.623047\" xlink:href=\"#DejaVuSans-46\"/>\r\n     <use x=\"95.410156\" xlink:href=\"#DejaVuSans-48\"/>\r\n     <use x=\"159.033203\" xlink:href=\"#DejaVuSans-48\"/>\r\n     <use x=\"222.65625\" xlink:href=\"#DejaVuSans-56\"/>\r\n    </g>\r\n   </g>\r\n   <g id=\"text_51\">\r\n    <!-- 1 -->\r\n    <g style=\"fill:#ffffff;\" transform=\"translate(351.71875 546.486594)scale(0.1 -0.1)\">\r\n     <use xlink:href=\"#DejaVuSans-49\"/>\r\n    </g>\r\n   </g>\r\n  </g>\r\n  <g id=\"axes_2\">\r\n   <g id=\"patch_3\">\r\n    <path clip-path=\"url(#p34ce4749bf)\" d=\"M 606 554.599219 \r\nL 606 552.475781 \r\nL 606 13.122656 \r\nL 606 10.999219 \r\nL 633.18 10.999219 \r\nL 633.18 13.122656 \r\nL 633.18 552.475781 \r\nL 633.18 554.599219 \r\nz\r\n\" style=\"fill:#ffffff;stroke:#ffffff;stroke-linejoin:miter;stroke-width:0.01;\"/>\r\n   </g>\r\n   <image height=\"543\" id=\"image22e2409057\" transform=\"scale(1 -1)translate(0 -543)\" width=\"27\" x=\"606\" xlink:href=\"data:image/png;base64,\r\niVBORw0KGgoAAAANSUhEUgAAABsAAAIfCAYAAACB2qdqAAAABHNCSVQICAgIfAhkiAAAAppJREFUeJztnIFNxEAMBJPouqIFiqavhxxFZGQpo5kGTsvu2g5InF/fP/sY4pp66DiOY53X3HvTys6xx4aVnXn2nHqGsC6vZ/UMoJ697zFxQK5KDZAyhFYMwvTBo/XslHpW9BHEyjoLCFKG4B3E5t8WWM+Coo8gHlfiUpdGgOlTzqrM65lWWeMKoRWDUKkR1qCwPGMQK9MePAUEYQ3mo7OAQXwWaMfVGvwbQmlk8E6QVgyC+CwQf8WIx9XcY3mGID4LtKdcyxNBrEx7N5o90yrzHqmlkaDlidCtjyD2zPsVox1X6jTOPdZsfN9j5oBolXk98yorjQTTysb+509pfOFj6ujPPTYdfWupvZ55lWkH8TqPevac0vi+x8R3ozj6jSuAeobgHcSdBQgtT4RWDII3+uI0egdxy5Ognr3vsQKCMH0WzJFnCPUMIc8QvJ4VEAT1l6dWmdezlAHUMwSvZ/0YEVKGMK3sHnusQYywzq1V5u3ZlvasgCB4A5JnCHmGYF6epRHAvDy9AfGWWvt9dng98/bMOojFnml7VkAQxMvzEHumVaZdMeY05tlzxMtTe4OIB3GeETSuEMwr5rZ6pp0glRrBXGqtZ15l4jS2YgDqGYLXs0qNUPQRSiOC2TNvz+48e07LE6FxheCNvnhc7TwDqGcIa1unfisGobMAoVIjiFdMZwFBZ8H7HlvbGxDtIN7a5Sn2zNsz6yAWe6Y9UruuEMQXsbfULU+CBjFCRyqCeHmaS+1VJo1+niHkGUJ/HkFoeSIUEAS1Z15lpfE5s8ruP6sybRqLPkLKECo1gtgz84rxKpP2rIAgVGqESo2wtjaN9YwgzxDW/pNOkKKPoI6+Vdn9a1W2P1ZleUaQZ+97bO2P9AbxBsRb6n964looMReAGgAAAABJRU5ErkJggg==\" y=\"-11\"/>\r\n   <g id=\"matplotlib.axis_3\"/>\r\n   <g id=\"matplotlib.axis_4\">\r\n    <g id=\"ytick_26\">\r\n     <g id=\"line2d_27\">\r\n      <defs>\r\n       <path d=\"M 0 0 \r\nL 3.5 0 \r\n\" id=\"m6f8863d13e\" style=\"stroke:#000000;stroke-width:0.8;\"/>\r\n      </defs>\r\n      <g>\r\n       <use style=\"stroke:#000000;stroke-width:0.8;\" x=\"633.18\" xlink:href=\"#m6f8863d13e\" y=\"554.599219\"/>\r\n      </g>\r\n     </g>\r\n     <g id=\"text_52\">\r\n      <!-- −1.00 -->\r\n      <defs>\r\n       <path d=\"M 10.59375 35.5 \r\nL 73.1875 35.5 \r\nL 73.1875 27.203125 \r\nL 10.59375 27.203125 \r\nz\r\n\" id=\"DejaVuSans-8722\"/>\r\n      </defs>\r\n      <g transform=\"translate(640.18 558.398438)scale(0.1 -0.1)\">\r\n       <use xlink:href=\"#DejaVuSans-8722\"/>\r\n       <use x=\"83.789062\" xlink:href=\"#DejaVuSans-49\"/>\r\n       <use x=\"147.412109\" xlink:href=\"#DejaVuSans-46\"/>\r\n       <use x=\"179.199219\" xlink:href=\"#DejaVuSans-48\"/>\r\n       <use x=\"242.822266\" xlink:href=\"#DejaVuSans-48\"/>\r\n      </g>\r\n     </g>\r\n    </g>\r\n    <g id=\"ytick_27\">\r\n     <g id=\"line2d_28\">\r\n      <g>\r\n       <use style=\"stroke:#000000;stroke-width:0.8;\" x=\"633.18\" xlink:href=\"#m6f8863d13e\" y=\"486.649219\"/>\r\n      </g>\r\n     </g>\r\n     <g id=\"text_53\">\r\n      <!-- −0.75 -->\r\n      <g transform=\"translate(640.18 490.448437)scale(0.1 -0.1)\">\r\n       <use xlink:href=\"#DejaVuSans-8722\"/>\r\n       <use x=\"83.789062\" xlink:href=\"#DejaVuSans-48\"/>\r\n       <use x=\"147.412109\" xlink:href=\"#DejaVuSans-46\"/>\r\n       <use x=\"179.199219\" xlink:href=\"#DejaVuSans-55\"/>\r\n       <use x=\"242.822266\" xlink:href=\"#DejaVuSans-53\"/>\r\n      </g>\r\n     </g>\r\n    </g>\r\n    <g id=\"ytick_28\">\r\n     <g id=\"line2d_29\">\r\n      <g>\r\n       <use style=\"stroke:#000000;stroke-width:0.8;\" x=\"633.18\" xlink:href=\"#m6f8863d13e\" y=\"418.699219\"/>\r\n      </g>\r\n     </g>\r\n     <g id=\"text_54\">\r\n      <!-- −0.50 -->\r\n      <g transform=\"translate(640.18 422.498438)scale(0.1 -0.1)\">\r\n       <use xlink:href=\"#DejaVuSans-8722\"/>\r\n       <use x=\"83.789062\" xlink:href=\"#DejaVuSans-48\"/>\r\n       <use x=\"147.412109\" xlink:href=\"#DejaVuSans-46\"/>\r\n       <use x=\"179.199219\" xlink:href=\"#DejaVuSans-53\"/>\r\n       <use x=\"242.822266\" xlink:href=\"#DejaVuSans-48\"/>\r\n      </g>\r\n     </g>\r\n    </g>\r\n    <g id=\"ytick_29\">\r\n     <g id=\"line2d_30\">\r\n      <g>\r\n       <use style=\"stroke:#000000;stroke-width:0.8;\" x=\"633.18\" xlink:href=\"#m6f8863d13e\" y=\"350.749219\"/>\r\n      </g>\r\n     </g>\r\n     <g id=\"text_55\">\r\n      <!-- −0.25 -->\r\n      <g transform=\"translate(640.18 354.548437)scale(0.1 -0.1)\">\r\n       <use xlink:href=\"#DejaVuSans-8722\"/>\r\n       <use x=\"83.789062\" xlink:href=\"#DejaVuSans-48\"/>\r\n       <use x=\"147.412109\" xlink:href=\"#DejaVuSans-46\"/>\r\n       <use x=\"179.199219\" xlink:href=\"#DejaVuSans-50\"/>\r\n       <use x=\"242.822266\" xlink:href=\"#DejaVuSans-53\"/>\r\n      </g>\r\n     </g>\r\n    </g>\r\n    <g id=\"ytick_30\">\r\n     <g id=\"line2d_31\">\r\n      <g>\r\n       <use style=\"stroke:#000000;stroke-width:0.8;\" x=\"633.18\" xlink:href=\"#m6f8863d13e\" y=\"282.799219\"/>\r\n      </g>\r\n     </g>\r\n     <g id=\"text_56\">\r\n      <!-- 0.00 -->\r\n      <g transform=\"translate(640.18 286.598438)scale(0.1 -0.1)\">\r\n       <use xlink:href=\"#DejaVuSans-48\"/>\r\n       <use x=\"63.623047\" xlink:href=\"#DejaVuSans-46\"/>\r\n       <use x=\"95.410156\" xlink:href=\"#DejaVuSans-48\"/>\r\n       <use x=\"159.033203\" xlink:href=\"#DejaVuSans-48\"/>\r\n      </g>\r\n     </g>\r\n    </g>\r\n    <g id=\"ytick_31\">\r\n     <g id=\"line2d_32\">\r\n      <g>\r\n       <use style=\"stroke:#000000;stroke-width:0.8;\" x=\"633.18\" xlink:href=\"#m6f8863d13e\" y=\"214.849219\"/>\r\n      </g>\r\n     </g>\r\n     <g id=\"text_57\">\r\n      <!-- 0.25 -->\r\n      <g transform=\"translate(640.18 218.648438)scale(0.1 -0.1)\">\r\n       <use xlink:href=\"#DejaVuSans-48\"/>\r\n       <use x=\"63.623047\" xlink:href=\"#DejaVuSans-46\"/>\r\n       <use x=\"95.410156\" xlink:href=\"#DejaVuSans-50\"/>\r\n       <use x=\"159.033203\" xlink:href=\"#DejaVuSans-53\"/>\r\n      </g>\r\n     </g>\r\n    </g>\r\n    <g id=\"ytick_32\">\r\n     <g id=\"line2d_33\">\r\n      <g>\r\n       <use style=\"stroke:#000000;stroke-width:0.8;\" x=\"633.18\" xlink:href=\"#m6f8863d13e\" y=\"146.899219\"/>\r\n      </g>\r\n     </g>\r\n     <g id=\"text_58\">\r\n      <!-- 0.50 -->\r\n      <g transform=\"translate(640.18 150.698438)scale(0.1 -0.1)\">\r\n       <use xlink:href=\"#DejaVuSans-48\"/>\r\n       <use x=\"63.623047\" xlink:href=\"#DejaVuSans-46\"/>\r\n       <use x=\"95.410156\" xlink:href=\"#DejaVuSans-53\"/>\r\n       <use x=\"159.033203\" xlink:href=\"#DejaVuSans-48\"/>\r\n      </g>\r\n     </g>\r\n    </g>\r\n    <g id=\"ytick_33\">\r\n     <g id=\"line2d_34\">\r\n      <g>\r\n       <use style=\"stroke:#000000;stroke-width:0.8;\" x=\"633.18\" xlink:href=\"#m6f8863d13e\" y=\"78.949219\"/>\r\n      </g>\r\n     </g>\r\n     <g id=\"text_59\">\r\n      <!-- 0.75 -->\r\n      <g transform=\"translate(640.18 82.748438)scale(0.1 -0.1)\">\r\n       <use xlink:href=\"#DejaVuSans-48\"/>\r\n       <use x=\"63.623047\" xlink:href=\"#DejaVuSans-46\"/>\r\n       <use x=\"95.410156\" xlink:href=\"#DejaVuSans-55\"/>\r\n       <use x=\"159.033203\" xlink:href=\"#DejaVuSans-53\"/>\r\n      </g>\r\n     </g>\r\n    </g>\r\n    <g id=\"ytick_34\">\r\n     <g id=\"line2d_35\">\r\n      <g>\r\n       <use style=\"stroke:#000000;stroke-width:0.8;\" x=\"633.18\" xlink:href=\"#m6f8863d13e\" y=\"10.999219\"/>\r\n      </g>\r\n     </g>\r\n     <g id=\"text_60\">\r\n      <!-- 1.00 -->\r\n      <g transform=\"translate(640.18 14.798438)scale(0.1 -0.1)\">\r\n       <use xlink:href=\"#DejaVuSans-49\"/>\r\n       <use x=\"63.623047\" xlink:href=\"#DejaVuSans-46\"/>\r\n       <use x=\"95.410156\" xlink:href=\"#DejaVuSans-48\"/>\r\n       <use x=\"159.033203\" xlink:href=\"#DejaVuSans-48\"/>\r\n      </g>\r\n     </g>\r\n    </g>\r\n   </g>\r\n   <g id=\"patch_4\">\r\n    <path d=\"M 606 554.599219 \r\nL 606 552.475781 \r\nL 606 13.122656 \r\nL 606 10.999219 \r\nL 633.18 10.999219 \r\nL 633.18 13.122656 \r\nL 633.18 552.475781 \r\nL 633.18 554.599219 \r\nz\r\n\" style=\"fill:none;\"/>\r\n   </g>\r\n  </g>\r\n </g>\r\n <defs>\r\n  <clipPath id=\"p96141a6e29\">\r\n   <rect height=\"543.6\" width=\"446.4\" x=\"131.7\" y=\"10.999219\"/>\r\n  </clipPath>\r\n  <clipPath id=\"p34ce4749bf\">\r\n   <rect height=\"543.6\" width=\"27.18\" x=\"606\" y=\"10.999219\"/>\r\n  </clipPath>\r\n </defs>\r\n</svg>\r\n",
      "image/png": "[encoded data removed]"
     },
     "metadata": {
      "needs_background": "light"
     }
    }
   ],
   "source": [
    "# menampilkan koefisien korelasi dalam bentuk heatmap\n",
    "plt.figure(figsize=(10,10))\n",
    "sns.heatmap(pd.DataFrame(df.corr()['Salary']), annot=True, cmap='coolwarm', vmin=-1, vmax=1)\n",
    "plt.show()"
   ]
  },
  {
   "source": [
    "### Elastic Net dengan feature terpilih\n",
    "\n",
    "Feature dipilih berdasarkan mean score decrease, korelasi terhadap target, dan trial & error"
   ],
   "cell_type": "markdown",
   "metadata": {}
  },
  {
   "cell_type": "code",
   "execution_count": 160,
   "metadata": {},
   "outputs": [],
   "source": [
    "# Column Transformer dengan features terpilih\n",
    "transformer_imp = ColumnTransformer([\n",
    "    ('numeric', num_pipe(scaling='robust'), ['10percentage', '12percentage', '12graduation', 'GraduationYear', 'collegeGPA',  'English',  'Quant', 'Domain']),\n",
    "    ('categoric', cat_pipe(encoder='onehot'), ['Gender','10board','12board','CollegeTier','Specialization', 'CollegeState'])\n",
    "])\n",
    "\n"
   ]
  },
  {
   "cell_type": "code",
   "execution_count": 161,
   "metadata": {},
   "outputs": [
    {
     "output_type": "execute_result",
     "data": {
      "text/plain": [
       "Pipeline(steps=[('prep',\n",
       "                 ColumnTransformer(transformers=[('numeric',\n",
       "                                                  Pipeline(steps=[('imputer',\n",
       "                                                                   SimpleImputer(strategy='median')),\n",
       "                                                                  ('scaler',\n",
       "                                                                   RobustScaler())]),\n",
       "                                                  ['10percentage',\n",
       "                                                   '12percentage',\n",
       "                                                   '12graduation',\n",
       "                                                   'GraduationYear',\n",
       "                                                   'collegeGPA', 'English',\n",
       "                                                   'Quant', 'Domain']),\n",
       "                                                 ('categoric',\n",
       "                                                  Pipeline(steps=[('imputer',\n",
       "                                                                   SimpleImputer(strategy='most_frequent')),\n",
       "                                                                  ('onehot',\n",
       "                                                                   OneHotEncoder(handle_unknown='ignore'))]),\n",
       "                                                  ['Gender', '10board',\n",
       "                                                   '12board', 'CollegeTier',\n",
       "                                                   'Specialization',\n",
       "                                                   'CollegeState'])])),\n",
       "                ('algo',\n",
       "                 ElasticNet(alpha=0.09178539435251566,\n",
       "                            l1_ratio=0.7106628896857875))])"
      ]
     },
     "metadata": {},
     "execution_count": 161
    }
   ],
   "source": [
    "# algo elastic net\n",
    "algo = ElasticNet(\n",
    "    alpha = 0.09178539435251566,\n",
    "    fit_intercept = True,\n",
    "    l1_ratio = 0.7106628896857875\n",
    ")\n",
    "\n",
    "# model pipeline\n",
    "model = Pipeline([\n",
    "    ('prep', transformer_imp),\n",
    "    ('algo', algo)\n",
    "])\n",
    "\n",
    "# fitting model to train set\n",
    "model.fit(X_train, y_train)"
   ]
  },
  {
   "cell_type": "code",
   "execution_count": 162,
   "metadata": {},
   "outputs": [
    {
     "output_type": "stream",
     "name": "stdout",
     "text": [
      "R square  0.3335\nRMSE      113120.9364\n"
     ]
    }
   ],
   "source": [
    "# Predict to X_test\n",
    "y_pred = model.predict(X_test)\n",
    "\n",
    "# Score\n",
    "print('R square ', round(r2_score(y_test, y_pred),4))\n",
    "print('RMSE     ', round(mean_squared_error(y_test, y_pred, squared=False),4))"
   ]
  },
  {
   "source": [
    "### Feature Importance berhasil meningkatkan performa model meskipun hanya sedikit, tetapi mempercepat proses modeling karena feature berkurang dari 30 features menjadi 14 features"
   ],
   "cell_type": "markdown",
   "metadata": {}
  },
  {
   "cell_type": "code",
   "execution_count": 61,
   "metadata": {},
   "outputs": [],
   "source": []
  },
  {
   "source": [
    "# 5. Polynomial Features\n",
    "coba polynomial features"
   ],
   "cell_type": "markdown",
   "metadata": {}
  },
  {
   "cell_type": "code",
   "execution_count": 163,
   "metadata": {},
   "outputs": [
    {
     "output_type": "execute_result",
     "data": {
      "text/plain": [
       "Pipeline(steps=[('prep',\n",
       "                 ColumnTransformer(transformers=[('numeric',\n",
       "                                                  Pipeline(steps=[('imputer',\n",
       "                                                                   SimpleImputer(strategy='median')),\n",
       "                                                                  ('scaler',\n",
       "                                                                   RobustScaler())]),\n",
       "                                                  ['10percentage',\n",
       "                                                   '12percentage',\n",
       "                                                   '12graduation',\n",
       "                                                   'GraduationYear',\n",
       "                                                   'collegeGPA', 'English',\n",
       "                                                   'Quant', 'Domain']),\n",
       "                                                 ('categoric',\n",
       "                                                  Pipeline(steps=[('imputer',\n",
       "                                                                   SimpleImputer(strategy='most_frequent')),\n",
       "                                                                  ('onehot',\n",
       "                                                                   OneHotEncoder(handle_unknown='ignore'))]),\n",
       "                                                  ['Gender', '10board',\n",
       "                                                   '12board', 'CollegeTier',\n",
       "                                                   'Specialization',\n",
       "                                                   'CollegeState'])])),\n",
       "                ('poly', PolynomialFeatures()),\n",
       "                ('algo',\n",
       "                 ElasticNet(alpha=0.09178539435251566,\n",
       "                            l1_ratio=0.7106628896857875))])"
      ]
     },
     "metadata": {},
     "execution_count": 163
    }
   ],
   "source": [
    "# polynomial feature\n",
    "poly = PolynomialFeatures(degree=2)\n",
    "\n",
    "# algo elastic net\n",
    "algo = ElasticNet(\n",
    "    alpha = 0.09178539435251566,\n",
    "    fit_intercept = True,\n",
    "    l1_ratio = 0.7106628896857875\n",
    ")\n",
    "\n",
    "# model pipeline\n",
    "model = Pipeline([\n",
    "    ('prep', transformer_imp),\n",
    "    ('poly', poly),\n",
    "    ('algo', algo)\n",
    "])\n",
    "\n",
    "# fitting model to train set\n",
    "model.fit(X_train, y_train)\n"
   ]
  },
  {
   "cell_type": "code",
   "execution_count": 164,
   "metadata": {},
   "outputs": [
    {
     "output_type": "stream",
     "name": "stdout",
     "text": [
      "R square  0.3178\nRMSE      114447.2728\n"
     ]
    }
   ],
   "source": [
    "# Predict to X_test\n",
    "y_pred = model.predict(X_test)\n",
    "\n",
    "# Score\n",
    "print('R square ', round(r2_score(y_test, y_pred),4))\n",
    "print('RMSE     ', round(mean_squared_error(y_test, y_pred, squared=False),4))"
   ]
  },
  {
   "source": [
    "### Polynomial Feature tidak meningkatkan performa model "
   ],
   "cell_type": "markdown",
   "metadata": {}
  },
  {
   "cell_type": "code",
   "execution_count": null,
   "metadata": {},
   "outputs": [],
   "source": []
  },
  {
   "source": [
    "# 6. Best Model & Save Model\n",
    "Inilah model final dengan algoritma Elastic Net, 14 Features terpilih"
   ],
   "cell_type": "markdown",
   "metadata": {}
  },
  {
   "cell_type": "code",
   "execution_count": 165,
   "metadata": {},
   "outputs": [],
   "source": [
    "# Features and Target\n",
    "X = df[['10percentage', '12percentage', '12graduation', 'GraduationYear', 'collegeGPA',  'English',  'Quant', 'Domain','Gender','10board','12board','CollegeTier','Specialization', 'CollegeState']] \n",
    "y = df['Salary']\n",
    "\n",
    "# Split data\n",
    "X_train, X_test, y_train, y_test = train_test_split(X, y, test_size=0.2, random_state=42)"
   ]
  },
  {
   "cell_type": "code",
   "execution_count": 166,
   "metadata": {},
   "outputs": [
    {
     "output_type": "execute_result",
     "data": {
      "text/plain": [
       "(2302, 14)"
      ]
     },
     "metadata": {},
     "execution_count": 166
    }
   ],
   "source": [
    "X_train.shape"
   ]
  },
  {
   "cell_type": "code",
   "execution_count": 167,
   "metadata": {},
   "outputs": [],
   "source": [
    "# Column Transformer\n",
    "transformer_imp = ColumnTransformer([\n",
    "    ('numeric', num_pipe(scaling='robust'), ['10percentage', '12percentage', '12graduation', 'GraduationYear', 'collegeGPA',  'English',  'Quant', 'Domain']),\n",
    "    ('categoric', cat_pipe(encoder='onehot'), ['Gender','10board','12board','CollegeTier','Specialization', 'CollegeState'])\n",
    "])\n"
   ]
  },
  {
   "cell_type": "code",
   "execution_count": 168,
   "metadata": {},
   "outputs": [
    {
     "output_type": "execute_result",
     "data": {
      "text/plain": [
       "(2302, 499)"
      ]
     },
     "metadata": {},
     "execution_count": 168
    }
   ],
   "source": [
    "# Columns berhasil ditransform\n",
    "X_train_trans = transformer_imp.fit_transform(X_train)\n",
    "X_train_trans.shape"
   ]
  },
  {
   "cell_type": "code",
   "execution_count": 169,
   "metadata": {},
   "outputs": [
    {
     "output_type": "execute_result",
     "data": {
      "text/plain": [
       "[('numeric',\n",
       "  Pipeline(steps=[('imputer', SimpleImputer(strategy='median')),\n",
       "                  ('scaler', RobustScaler())]),\n",
       "  ['10percentage',\n",
       "   '12percentage',\n",
       "   '12graduation',\n",
       "   'GraduationYear',\n",
       "   'collegeGPA',\n",
       "   'English',\n",
       "   'Quant',\n",
       "   'Domain']),\n",
       " ('categoric',\n",
       "  Pipeline(steps=[('imputer', SimpleImputer(strategy='most_frequent')),\n",
       "                  ('onehot', OneHotEncoder(handle_unknown='ignore'))]),\n",
       "  ['Gender',\n",
       "   '10board',\n",
       "   '12board',\n",
       "   'CollegeTier',\n",
       "   'Specialization',\n",
       "   'CollegeState'])]"
      ]
     },
     "metadata": {},
     "execution_count": 169
    }
   ],
   "source": [
    "# Menampilkan proses pipeline transformasi\n",
    "transformer_imp.transformers_"
   ]
  },
  {
   "source": [
    "## Best Model"
   ],
   "cell_type": "markdown",
   "metadata": {}
  },
  {
   "cell_type": "code",
   "execution_count": 170,
   "metadata": {},
   "outputs": [
    {
     "output_type": "execute_result",
     "data": {
      "text/plain": [
       "Pipeline(steps=[('prep',\n",
       "                 ColumnTransformer(transformers=[('numeric',\n",
       "                                                  Pipeline(steps=[('imputer',\n",
       "                                                                   SimpleImputer(strategy='median')),\n",
       "                                                                  ('scaler',\n",
       "                                                                   RobustScaler())]),\n",
       "                                                  ['10percentage',\n",
       "                                                   '12percentage',\n",
       "                                                   '12graduation',\n",
       "                                                   'GraduationYear',\n",
       "                                                   'collegeGPA', 'English',\n",
       "                                                   'Quant', 'Domain']),\n",
       "                                                 ('categoric',\n",
       "                                                  Pipeline(steps=[('imputer',\n",
       "                                                                   SimpleImputer(strategy='most_frequent')),\n",
       "                                                                  ('onehot',\n",
       "                                                                   OneHotEncoder(handle_unknown='ignore'))]),\n",
       "                                                  ['Gender', '10board',\n",
       "                                                   '12board', 'CollegeTier',\n",
       "                                                   'Specialization',\n",
       "                                                   'CollegeState'])])),\n",
       "                ('algo',\n",
       "                 ElasticNet(alpha=0.09178539435251566,\n",
       "                            l1_ratio=0.7106628896857875))])"
      ]
     },
     "metadata": {},
     "execution_count": 170
    }
   ],
   "source": [
    "# algo elastic net\n",
    "algo = ElasticNet(\n",
    "    alpha = 0.09178539435251566,\n",
    "    fit_intercept = True,\n",
    "    l1_ratio = 0.7106628896857875\n",
    ")\n",
    "\n",
    "# model pipeline\n",
    "model_final = Pipeline([\n",
    "    ('prep', transformer_imp),\n",
    "    ('algo', algo)\n",
    "])\n",
    "\n",
    "# fitting model to train set\n",
    "model_final.fit(X_train, y_train)"
   ]
  },
  {
   "cell_type": "code",
   "execution_count": 171,
   "metadata": {},
   "outputs": [
    {
     "output_type": "stream",
     "name": "stdout",
     "text": [
      "R square  0.3335\nRMSE      113120.9364\n"
     ]
    }
   ],
   "source": [
    "# Predict to X_test\n",
    "y_pred = model_final.predict(X_test)\n",
    "\n",
    "# Final Score\n",
    "print('R square ', round(r2_score(y_test, y_pred),4))\n",
    "print('RMSE     ', round(mean_squared_error(y_test, y_pred, squared=False),4))"
   ]
  },
  {
   "source": [
    "## Save Model"
   ],
   "cell_type": "markdown",
   "metadata": {}
  },
  {
   "cell_type": "code",
   "execution_count": 116,
   "metadata": {},
   "outputs": [],
   "source": [
    "import pickle"
   ]
  },
  {
   "cell_type": "code",
   "execution_count": 117,
   "metadata": {},
   "outputs": [],
   "source": [
    "pickle.dump(model_final, open('Final_ElasticNet.sav', 'wb'))"
   ]
  },
  {
   "cell_type": "code",
   "execution_count": null,
   "metadata": {},
   "outputs": [],
   "source": []
  },
  {
   "source": [
    "# Kesimpulan\n",
    "\n",
    "- Model terbaik untuk dataset ini adalah Elastic Net dengan alpha=0.0917 dan L1_ratio=0.71\n",
    "- Feature Importance sedikit meningkatkan performa model dan lebih cepat\n",
    "- Polynomial Features tidak meningkatkan performa model\n",
    "- Score terbaik yang diperoleh yaitu R-squre:0.3335 dan RMSE:113120.9364"
   ],
   "cell_type": "markdown",
   "metadata": {}
  },
  {
   "cell_type": "code",
   "execution_count": null,
   "metadata": {},
   "outputs": [],
   "source": []
  },
  {
   "cell_type": "code",
   "execution_count": null,
   "metadata": {},
   "outputs": [],
   "source": []
  },
  {
   "cell_type": "code",
   "execution_count": null,
   "metadata": {},
   "outputs": [],
   "source": []
  },
  {
   "cell_type": "code",
   "execution_count": null,
   "metadata": {},
   "outputs": [],
   "source": []
  },
  {
   "cell_type": "code",
   "execution_count": null,
   "metadata": {},
   "outputs": [],
   "source": []
  },
  {
   "cell_type": "code",
   "execution_count": null,
   "metadata": {},
   "outputs": [],
   "source": []
  }
 ]
}